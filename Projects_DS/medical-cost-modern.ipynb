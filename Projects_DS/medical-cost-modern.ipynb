{
 "cells": [
  {
   "cell_type": "code",
   "execution_count": 1,
   "id": "48015814",
   "metadata": {
    "_cell_guid": "b1076dfc-b9ad-4769-8c92-a6c4dae69d19",
    "_uuid": "8f2839f25d086af736a60e9eeb907d3b93b6e0e5",
    "execution": {
     "iopub.execute_input": "2025-06-29T08:21:36.641587Z",
     "iopub.status.busy": "2025-06-29T08:21:36.641277Z",
     "iopub.status.idle": "2025-06-29T08:21:40.349187Z",
     "shell.execute_reply": "2025-06-29T08:21:40.348093Z"
    },
    "papermill": {
     "duration": 3.719474,
     "end_time": "2025-06-29T08:21:40.350931",
     "exception": false,
     "start_time": "2025-06-29T08:21:36.631457",
     "status": "completed"
    },
    "tags": []
   },
   "outputs": [],
   "source": [
    "import numpy as np\n",
    "import pandas as pd\n",
    "import matplotlib.pyplot as plt\n",
    "import seaborn as sns\n"
   ]
  },
  {
   "cell_type": "markdown",
   "id": "8026c4b3",
   "metadata": {
    "papermill": {
     "duration": 0.005705,
     "end_time": "2025-06-29T08:21:40.363195",
     "exception": false,
     "start_time": "2025-06-29T08:21:40.357490",
     "status": "completed"
    },
    "tags": []
   },
   "source": [
    "## **Read Data**"
   ]
  },
  {
   "cell_type": "code",
   "execution_count": 2,
   "id": "51356a48",
   "metadata": {
    "execution": {
     "iopub.execute_input": "2025-06-29T08:21:40.376862Z",
     "iopub.status.busy": "2025-06-29T08:21:40.375854Z",
     "iopub.status.idle": "2025-06-29T08:21:40.418941Z",
     "shell.execute_reply": "2025-06-29T08:21:40.418083Z"
    },
    "papermill": {
     "duration": 0.051325,
     "end_time": "2025-06-29T08:21:40.420475",
     "exception": false,
     "start_time": "2025-06-29T08:21:40.369150",
     "status": "completed"
    },
    "tags": []
   },
   "outputs": [
    {
     "data": {
      "text/html": [
       "<div>\n",
       "<style scoped>\n",
       "    .dataframe tbody tr th:only-of-type {\n",
       "        vertical-align: middle;\n",
       "    }\n",
       "\n",
       "    .dataframe tbody tr th {\n",
       "        vertical-align: top;\n",
       "    }\n",
       "\n",
       "    .dataframe thead th {\n",
       "        text-align: right;\n",
       "    }\n",
       "</style>\n",
       "<table border=\"1\" class=\"dataframe\">\n",
       "  <thead>\n",
       "    <tr style=\"text-align: right;\">\n",
       "      <th></th>\n",
       "      <th>age</th>\n",
       "      <th>sex</th>\n",
       "      <th>bmi</th>\n",
       "      <th>children</th>\n",
       "      <th>smoker</th>\n",
       "      <th>region</th>\n",
       "      <th>charges</th>\n",
       "    </tr>\n",
       "  </thead>\n",
       "  <tbody>\n",
       "    <tr>\n",
       "      <th>0</th>\n",
       "      <td>19</td>\n",
       "      <td>female</td>\n",
       "      <td>27.900</td>\n",
       "      <td>0</td>\n",
       "      <td>yes</td>\n",
       "      <td>southwest</td>\n",
       "      <td>16884.92400</td>\n",
       "    </tr>\n",
       "    <tr>\n",
       "      <th>1</th>\n",
       "      <td>18</td>\n",
       "      <td>male</td>\n",
       "      <td>33.770</td>\n",
       "      <td>1</td>\n",
       "      <td>no</td>\n",
       "      <td>southeast</td>\n",
       "      <td>1725.55230</td>\n",
       "    </tr>\n",
       "    <tr>\n",
       "      <th>2</th>\n",
       "      <td>28</td>\n",
       "      <td>male</td>\n",
       "      <td>33.000</td>\n",
       "      <td>3</td>\n",
       "      <td>no</td>\n",
       "      <td>southeast</td>\n",
       "      <td>4449.46200</td>\n",
       "    </tr>\n",
       "    <tr>\n",
       "      <th>3</th>\n",
       "      <td>33</td>\n",
       "      <td>male</td>\n",
       "      <td>22.705</td>\n",
       "      <td>0</td>\n",
       "      <td>no</td>\n",
       "      <td>northwest</td>\n",
       "      <td>21984.47061</td>\n",
       "    </tr>\n",
       "    <tr>\n",
       "      <th>4</th>\n",
       "      <td>32</td>\n",
       "      <td>male</td>\n",
       "      <td>28.880</td>\n",
       "      <td>0</td>\n",
       "      <td>no</td>\n",
       "      <td>northwest</td>\n",
       "      <td>3866.85520</td>\n",
       "    </tr>\n",
       "  </tbody>\n",
       "</table>\n",
       "</div>"
      ],
      "text/plain": [
       "   age     sex     bmi  children smoker     region      charges\n",
       "0   19  female  27.900         0    yes  southwest  16884.92400\n",
       "1   18    male  33.770         1     no  southeast   1725.55230\n",
       "2   28    male  33.000         3     no  southeast   4449.46200\n",
       "3   33    male  22.705         0     no  northwest  21984.47061\n",
       "4   32    male  28.880         0     no  northwest   3866.85520"
      ]
     },
     "execution_count": 2,
     "metadata": {},
     "output_type": "execute_result"
    }
   ],
   "source": [
    "df=pd.read_csv('/kaggle/input/insurance/insurance.csv')\n",
    "df.head()"
   ]
  },
  {
   "cell_type": "code",
   "execution_count": 3,
   "id": "d632d99a",
   "metadata": {
    "execution": {
     "iopub.execute_input": "2025-06-29T08:21:40.433842Z",
     "iopub.status.busy": "2025-06-29T08:21:40.433510Z",
     "iopub.status.idle": "2025-06-29T08:21:40.462734Z",
     "shell.execute_reply": "2025-06-29T08:21:40.461884Z"
    },
    "papermill": {
     "duration": 0.037576,
     "end_time": "2025-06-29T08:21:40.464177",
     "exception": false,
     "start_time": "2025-06-29T08:21:40.426601",
     "status": "completed"
    },
    "tags": []
   },
   "outputs": [
    {
     "data": {
      "text/html": [
       "<div>\n",
       "<style scoped>\n",
       "    .dataframe tbody tr th:only-of-type {\n",
       "        vertical-align: middle;\n",
       "    }\n",
       "\n",
       "    .dataframe tbody tr th {\n",
       "        vertical-align: top;\n",
       "    }\n",
       "\n",
       "    .dataframe thead th {\n",
       "        text-align: right;\n",
       "    }\n",
       "</style>\n",
       "<table border=\"1\" class=\"dataframe\">\n",
       "  <thead>\n",
       "    <tr style=\"text-align: right;\">\n",
       "      <th></th>\n",
       "      <th>age</th>\n",
       "      <th>bmi</th>\n",
       "      <th>children</th>\n",
       "      <th>charges</th>\n",
       "    </tr>\n",
       "  </thead>\n",
       "  <tbody>\n",
       "    <tr>\n",
       "      <th>count</th>\n",
       "      <td>1338.000000</td>\n",
       "      <td>1338.000000</td>\n",
       "      <td>1338.000000</td>\n",
       "      <td>1338.000000</td>\n",
       "    </tr>\n",
       "    <tr>\n",
       "      <th>mean</th>\n",
       "      <td>39.207025</td>\n",
       "      <td>30.663397</td>\n",
       "      <td>1.094918</td>\n",
       "      <td>13270.422265</td>\n",
       "    </tr>\n",
       "    <tr>\n",
       "      <th>std</th>\n",
       "      <td>14.049960</td>\n",
       "      <td>6.098187</td>\n",
       "      <td>1.205493</td>\n",
       "      <td>12110.011237</td>\n",
       "    </tr>\n",
       "    <tr>\n",
       "      <th>min</th>\n",
       "      <td>18.000000</td>\n",
       "      <td>15.960000</td>\n",
       "      <td>0.000000</td>\n",
       "      <td>1121.873900</td>\n",
       "    </tr>\n",
       "    <tr>\n",
       "      <th>25%</th>\n",
       "      <td>27.000000</td>\n",
       "      <td>26.296250</td>\n",
       "      <td>0.000000</td>\n",
       "      <td>4740.287150</td>\n",
       "    </tr>\n",
       "    <tr>\n",
       "      <th>50%</th>\n",
       "      <td>39.000000</td>\n",
       "      <td>30.400000</td>\n",
       "      <td>1.000000</td>\n",
       "      <td>9382.033000</td>\n",
       "    </tr>\n",
       "    <tr>\n",
       "      <th>75%</th>\n",
       "      <td>51.000000</td>\n",
       "      <td>34.693750</td>\n",
       "      <td>2.000000</td>\n",
       "      <td>16639.912515</td>\n",
       "    </tr>\n",
       "    <tr>\n",
       "      <th>max</th>\n",
       "      <td>64.000000</td>\n",
       "      <td>53.130000</td>\n",
       "      <td>5.000000</td>\n",
       "      <td>63770.428010</td>\n",
       "    </tr>\n",
       "  </tbody>\n",
       "</table>\n",
       "</div>"
      ],
      "text/plain": [
       "               age          bmi     children       charges\n",
       "count  1338.000000  1338.000000  1338.000000   1338.000000\n",
       "mean     39.207025    30.663397     1.094918  13270.422265\n",
       "std      14.049960     6.098187     1.205493  12110.011237\n",
       "min      18.000000    15.960000     0.000000   1121.873900\n",
       "25%      27.000000    26.296250     0.000000   4740.287150\n",
       "50%      39.000000    30.400000     1.000000   9382.033000\n",
       "75%      51.000000    34.693750     2.000000  16639.912515\n",
       "max      64.000000    53.130000     5.000000  63770.428010"
      ]
     },
     "execution_count": 3,
     "metadata": {},
     "output_type": "execute_result"
    }
   ],
   "source": [
    "df.describe()"
   ]
  },
  {
   "cell_type": "markdown",
   "id": "303e884e",
   "metadata": {
    "papermill": {
     "duration": 0.005838,
     "end_time": "2025-06-29T08:21:40.476315",
     "exception": false,
     "start_time": "2025-06-29T08:21:40.470477",
     "status": "completed"
    },
    "tags": []
   },
   "source": [
    "## **Data warning**"
   ]
  },
  {
   "cell_type": "markdown",
   "id": "2edb068d",
   "metadata": {
    "papermill": {
     "duration": 0.005784,
     "end_time": "2025-06-29T08:21:40.488559",
     "exception": false,
     "start_time": "2025-06-29T08:21:40.482775",
     "status": "completed"
    },
    "tags": []
   },
   "source": [
    "**Chech missing value**\n"
   ]
  },
  {
   "cell_type": "code",
   "execution_count": 4,
   "id": "43d5e5c7",
   "metadata": {
    "execution": {
     "iopub.execute_input": "2025-06-29T08:21:40.501714Z",
     "iopub.status.busy": "2025-06-29T08:21:40.501399Z",
     "iopub.status.idle": "2025-06-29T08:21:40.515845Z",
     "shell.execute_reply": "2025-06-29T08:21:40.514867Z"
    },
    "papermill": {
     "duration": 0.022928,
     "end_time": "2025-06-29T08:21:40.517365",
     "exception": false,
     "start_time": "2025-06-29T08:21:40.494437",
     "status": "completed"
    },
    "tags": []
   },
   "outputs": [
    {
     "data": {
      "text/plain": [
       "0       False\n",
       "1       False\n",
       "2       False\n",
       "3       False\n",
       "4       False\n",
       "        ...  \n",
       "1333    False\n",
       "1334    False\n",
       "1335    False\n",
       "1336    False\n",
       "1337    False\n",
       "Length: 1338, dtype: bool"
      ]
     },
     "execution_count": 4,
     "metadata": {},
     "output_type": "execute_result"
    }
   ],
   "source": [
    "df.duplicated()\n"
   ]
  },
  {
   "cell_type": "code",
   "execution_count": 5,
   "id": "c5cf5c31",
   "metadata": {
    "execution": {
     "iopub.execute_input": "2025-06-29T08:21:40.531107Z",
     "iopub.status.busy": "2025-06-29T08:21:40.530768Z",
     "iopub.status.idle": "2025-06-29T08:21:40.548646Z",
     "shell.execute_reply": "2025-06-29T08:21:40.547591Z"
    },
    "papermill": {
     "duration": 0.026276,
     "end_time": "2025-06-29T08:21:40.549918",
     "exception": false,
     "start_time": "2025-06-29T08:21:40.523642",
     "status": "completed"
    },
    "tags": []
   },
   "outputs": [
    {
     "name": "stdout",
     "output_type": "stream",
     "text": [
      "<class 'pandas.core.frame.DataFrame'>\n",
      "RangeIndex: 1338 entries, 0 to 1337\n",
      "Data columns (total 7 columns):\n",
      " #   Column    Non-Null Count  Dtype  \n",
      "---  ------    --------------  -----  \n",
      " 0   age       1338 non-null   int64  \n",
      " 1   sex       1338 non-null   object \n",
      " 2   bmi       1338 non-null   float64\n",
      " 3   children  1338 non-null   int64  \n",
      " 4   smoker    1338 non-null   object \n",
      " 5   region    1338 non-null   object \n",
      " 6   charges   1338 non-null   float64\n",
      "dtypes: float64(2), int64(2), object(3)\n",
      "memory usage: 73.3+ KB\n"
     ]
    }
   ],
   "source": [
    "df.info()"
   ]
  },
  {
   "cell_type": "code",
   "execution_count": 6,
   "id": "c01ed9a0",
   "metadata": {
    "execution": {
     "iopub.execute_input": "2025-06-29T08:21:40.563823Z",
     "iopub.status.busy": "2025-06-29T08:21:40.563509Z",
     "iopub.status.idle": "2025-06-29T08:21:40.571278Z",
     "shell.execute_reply": "2025-06-29T08:21:40.570330Z"
    },
    "papermill": {
     "duration": 0.016388,
     "end_time": "2025-06-29T08:21:40.572688",
     "exception": false,
     "start_time": "2025-06-29T08:21:40.556300",
     "status": "completed"
    },
    "tags": []
   },
   "outputs": [
    {
     "data": {
      "text/plain": [
       "age         0\n",
       "sex         0\n",
       "bmi         0\n",
       "children    0\n",
       "smoker      0\n",
       "region      0\n",
       "charges     0\n",
       "dtype: int64"
      ]
     },
     "execution_count": 6,
     "metadata": {},
     "output_type": "execute_result"
    }
   ],
   "source": [
    "df.isnull().sum()"
   ]
  },
  {
   "cell_type": "markdown",
   "id": "8828f8d3",
   "metadata": {
    "papermill": {
     "duration": 0.006147,
     "end_time": "2025-06-29T08:21:40.585305",
     "exception": false,
     "start_time": "2025-06-29T08:21:40.579158",
     "status": "completed"
    },
    "tags": []
   },
   "source": [
    "## **Data Analysis**"
   ]
  },
  {
   "cell_type": "markdown",
   "id": "6d0ec6d2",
   "metadata": {
    "papermill": {
     "duration": 0.00598,
     "end_time": "2025-06-29T08:21:40.597388",
     "exception": false,
     "start_time": "2025-06-29T08:21:40.591408",
     "status": "completed"
    },
    "tags": []
   },
   "source": [
    "**frequancy table**"
   ]
  },
  {
   "cell_type": "markdown",
   "id": "431b617a",
   "metadata": {
    "papermill": {
     "duration": 0.005899,
     "end_time": "2025-06-29T08:21:40.609465",
     "exception": false,
     "start_time": "2025-06-29T08:21:40.603566",
     "status": "completed"
    },
    "tags": []
   },
   "source": [
    "**sex**"
   ]
  },
  {
   "cell_type": "code",
   "execution_count": 7,
   "id": "9e1f0fa8",
   "metadata": {
    "execution": {
     "iopub.execute_input": "2025-06-29T08:21:40.622847Z",
     "iopub.status.busy": "2025-06-29T08:21:40.622530Z",
     "iopub.status.idle": "2025-06-29T08:21:40.629912Z",
     "shell.execute_reply": "2025-06-29T08:21:40.628950Z"
    },
    "papermill": {
     "duration": 0.015853,
     "end_time": "2025-06-29T08:21:40.631347",
     "exception": false,
     "start_time": "2025-06-29T08:21:40.615494",
     "status": "completed"
    },
    "tags": []
   },
   "outputs": [
    {
     "data": {
      "text/plain": [
       "sex\n",
       "male      676\n",
       "female    662\n",
       "Name: count, dtype: int64"
      ]
     },
     "execution_count": 7,
     "metadata": {},
     "output_type": "execute_result"
    }
   ],
   "source": [
    "df['sex'].value_counts()"
   ]
  },
  {
   "cell_type": "markdown",
   "id": "88a505f3",
   "metadata": {
    "papermill": {
     "duration": 0.00606,
     "end_time": "2025-06-29T08:21:40.643854",
     "exception": false,
     "start_time": "2025-06-29T08:21:40.637794",
     "status": "completed"
    },
    "tags": []
   },
   "source": [
    "**Pie chart**"
   ]
  },
  {
   "cell_type": "markdown",
   "id": "80846fb1",
   "metadata": {
    "papermill": {
     "duration": 0.005996,
     "end_time": "2025-06-29T08:21:40.655968",
     "exception": false,
     "start_time": "2025-06-29T08:21:40.649972",
     "status": "completed"
    },
    "tags": []
   },
   "source": [
    " **the precentage between male and female by using pie chart , the male is equal 50.52% and the female is equal 49.48%**"
   ]
  },
  {
   "cell_type": "code",
   "execution_count": 8,
   "id": "1573d24a",
   "metadata": {
    "execution": {
     "iopub.execute_input": "2025-06-29T08:21:40.669696Z",
     "iopub.status.busy": "2025-06-29T08:21:40.669351Z",
     "iopub.status.idle": "2025-06-29T08:21:40.941486Z",
     "shell.execute_reply": "2025-06-29T08:21:40.940573Z"
    },
    "papermill": {
     "duration": 0.281067,
     "end_time": "2025-06-29T08:21:40.943242",
     "exception": false,
     "start_time": "2025-06-29T08:21:40.662175",
     "status": "completed"
    },
    "tags": []
   },
   "outputs": [
    {
     "data": {
      "image/png": "[encoded data removed]",
      "text/plain": [
       "<Figure size 1000x800 with 1 Axes>"
      ]
     },
     "metadata": {},
     "output_type": "display_data"
    }
   ],
   "source": [
    "plt.figure(figsize=(10,8 ))\n",
    "plt.pie(df['sex'].value_counts().values,\n",
    "        labels=df['sex'].value_counts().index,\n",
    "        colors=['dimgray','rosybrown'],\n",
    "        shadow=True,\n",
    "        autopct=\"%1.2f%%\",\n",
    "        )\n",
    "plt.title('descripe sex')\n",
    "plt.legend()\n",
    "plt.show()"
   ]
  },
  {
   "cell_type": "code",
   "execution_count": 9,
   "id": "651ffce1",
   "metadata": {
    "execution": {
     "iopub.execute_input": "2025-06-29T08:21:40.958927Z",
     "iopub.status.busy": "2025-06-29T08:21:40.958589Z",
     "iopub.status.idle": "2025-06-29T08:21:40.970129Z",
     "shell.execute_reply": "2025-06-29T08:21:40.969098Z"
    },
    "papermill": {
     "duration": 0.020923,
     "end_time": "2025-06-29T08:21:40.971585",
     "exception": false,
     "start_time": "2025-06-29T08:21:40.950662",
     "status": "completed"
    },
    "tags": []
   },
   "outputs": [
    {
     "data": {
      "text/html": [
       "<div>\n",
       "<style scoped>\n",
       "    .dataframe tbody tr th:only-of-type {\n",
       "        vertical-align: middle;\n",
       "    }\n",
       "\n",
       "    .dataframe tbody tr th {\n",
       "        vertical-align: top;\n",
       "    }\n",
       "\n",
       "    .dataframe thead th {\n",
       "        text-align: right;\n",
       "    }\n",
       "</style>\n",
       "<table border=\"1\" class=\"dataframe\">\n",
       "  <thead>\n",
       "    <tr style=\"text-align: right;\">\n",
       "      <th></th>\n",
       "      <th>age</th>\n",
       "      <th>sex</th>\n",
       "      <th>bmi</th>\n",
       "      <th>children</th>\n",
       "      <th>smoker</th>\n",
       "      <th>region</th>\n",
       "      <th>charges</th>\n",
       "    </tr>\n",
       "  </thead>\n",
       "  <tbody>\n",
       "    <tr>\n",
       "      <th>0</th>\n",
       "      <td>19</td>\n",
       "      <td>female</td>\n",
       "      <td>27.900</td>\n",
       "      <td>0</td>\n",
       "      <td>yes</td>\n",
       "      <td>southwest</td>\n",
       "      <td>16884.92400</td>\n",
       "    </tr>\n",
       "    <tr>\n",
       "      <th>1</th>\n",
       "      <td>18</td>\n",
       "      <td>male</td>\n",
       "      <td>33.770</td>\n",
       "      <td>1</td>\n",
       "      <td>no</td>\n",
       "      <td>southeast</td>\n",
       "      <td>1725.55230</td>\n",
       "    </tr>\n",
       "    <tr>\n",
       "      <th>2</th>\n",
       "      <td>28</td>\n",
       "      <td>male</td>\n",
       "      <td>33.000</td>\n",
       "      <td>3</td>\n",
       "      <td>no</td>\n",
       "      <td>southeast</td>\n",
       "      <td>4449.46200</td>\n",
       "    </tr>\n",
       "    <tr>\n",
       "      <th>3</th>\n",
       "      <td>33</td>\n",
       "      <td>male</td>\n",
       "      <td>22.705</td>\n",
       "      <td>0</td>\n",
       "      <td>no</td>\n",
       "      <td>northwest</td>\n",
       "      <td>21984.47061</td>\n",
       "    </tr>\n",
       "    <tr>\n",
       "      <th>4</th>\n",
       "      <td>32</td>\n",
       "      <td>male</td>\n",
       "      <td>28.880</td>\n",
       "      <td>0</td>\n",
       "      <td>no</td>\n",
       "      <td>northwest</td>\n",
       "      <td>3866.85520</td>\n",
       "    </tr>\n",
       "  </tbody>\n",
       "</table>\n",
       "</div>"
      ],
      "text/plain": [
       "   age     sex     bmi  children smoker     region      charges\n",
       "0   19  female  27.900         0    yes  southwest  16884.92400\n",
       "1   18    male  33.770         1     no  southeast   1725.55230\n",
       "2   28    male  33.000         3     no  southeast   4449.46200\n",
       "3   33    male  22.705         0     no  northwest  21984.47061\n",
       "4   32    male  28.880         0     no  northwest   3866.85520"
      ]
     },
     "execution_count": 9,
     "metadata": {},
     "output_type": "execute_result"
    }
   ],
   "source": [
    "df.head()"
   ]
  },
  {
   "cell_type": "markdown",
   "id": "c4fb6d89",
   "metadata": {
    "papermill": {
     "duration": 0.007186,
     "end_time": "2025-06-29T08:21:40.986160",
     "exception": false,
     "start_time": "2025-06-29T08:21:40.978974",
     "status": "completed"
    },
    "tags": []
   },
   "source": [
    "**Age**"
   ]
  },
  {
   "cell_type": "markdown",
   "id": "ff4e0268",
   "metadata": {
    "papermill": {
     "duration": 0.008167,
     "end_time": "2025-06-29T08:21:41.001476",
     "exception": false,
     "start_time": "2025-06-29T08:21:40.993309",
     "status": "completed"
    },
    "tags": []
   },
   "source": [
    "**frequancy Table**"
   ]
  },
  {
   "cell_type": "code",
   "execution_count": 10,
   "id": "ae14e761",
   "metadata": {
    "execution": {
     "iopub.execute_input": "2025-06-29T08:21:41.016718Z",
     "iopub.status.busy": "2025-06-29T08:21:41.016385Z",
     "iopub.status.idle": "2025-06-29T08:21:41.025101Z",
     "shell.execute_reply": "2025-06-29T08:21:41.024172Z"
    },
    "papermill": {
     "duration": 0.018098,
     "end_time": "2025-06-29T08:21:41.026493",
     "exception": false,
     "start_time": "2025-06-29T08:21:41.008395",
     "status": "completed"
    },
    "tags": []
   },
   "outputs": [
    {
     "data": {
      "text/plain": [
       "age\n",
       "18    69\n",
       "19    68\n",
       "50    29\n",
       "51    29\n",
       "47    29\n",
       "46    29\n",
       "45    29\n",
       "20    29\n",
       "48    29\n",
       "52    29\n",
       "22    28\n",
       "49    28\n",
       "54    28\n",
       "53    28\n",
       "21    28\n",
       "26    28\n",
       "24    28\n",
       "25    28\n",
       "28    28\n",
       "27    28\n",
       "23    28\n",
       "43    27\n",
       "29    27\n",
       "30    27\n",
       "41    27\n",
       "42    27\n",
       "44    27\n",
       "31    27\n",
       "40    27\n",
       "32    26\n",
       "33    26\n",
       "56    26\n",
       "34    26\n",
       "55    26\n",
       "57    26\n",
       "37    25\n",
       "59    25\n",
       "58    25\n",
       "36    25\n",
       "38    25\n",
       "35    25\n",
       "39    25\n",
       "61    23\n",
       "60    23\n",
       "63    23\n",
       "62    23\n",
       "64    22\n",
       "Name: count, dtype: int64"
      ]
     },
     "execution_count": 10,
     "metadata": {},
     "output_type": "execute_result"
    }
   ],
   "source": [
    "df['age'].value_counts()"
   ]
  },
  {
   "cell_type": "markdown",
   "id": "1fd5412f",
   "metadata": {
    "papermill": {
     "duration": 0.007089,
     "end_time": "2025-06-29T08:21:41.040752",
     "exception": false,
     "start_time": "2025-06-29T08:21:41.033663",
     "status": "completed"
    },
    "tags": []
   },
   "source": [
    "**the age of distribution in the relation between age and frequancy**\n"
   ]
  },
  {
   "cell_type": "markdown",
   "id": "11b059ef",
   "metadata": {
    "papermill": {
     "duration": 0.007038,
     "end_time": "2025-06-29T08:21:41.054904",
     "exception": false,
     "start_time": "2025-06-29T08:21:41.047866",
     "status": "completed"
    },
    "tags": []
   },
   "source": []
  },
  {
   "cell_type": "code",
   "execution_count": 11,
   "id": "72c00fc6",
   "metadata": {
    "execution": {
     "iopub.execute_input": "2025-06-29T08:21:41.070921Z",
     "iopub.status.busy": "2025-06-29T08:21:41.070223Z",
     "iopub.status.idle": "2025-06-29T08:21:41.422602Z",
     "shell.execute_reply": "2025-06-29T08:21:41.421727Z"
    },
    "papermill": {
     "duration": 0.362189,
     "end_time": "2025-06-29T08:21:41.424307",
     "exception": false,
     "start_time": "2025-06-29T08:21:41.062118",
     "status": "completed"
    },
    "tags": []
   },
   "outputs": [
    {
     "name": "stderr",
     "output_type": "stream",
     "text": [
      "/usr/local/lib/python3.11/dist-packages/seaborn/_oldcore.py:1119: FutureWarning: use_inf_as_na option is deprecated and will be removed in a future version. Convert inf values to NaN before operating instead.\n",
      "  with pd.option_context('mode.use_inf_as_na', True):\n"
     ]
    },
    {
     "data": {
      "image/png": "[encoded data removed]",
      "text/plain": [
       "<Figure size 640x480 with 1 Axes>"
      ]
     },
     "metadata": {},
     "output_type": "display_data"
    }
   ],
   "source": [
    "sns.histplot(df['age'], kde=True)  \n",
    "plt.title(\"age distribution\")\n",
    "plt.xlabel(\"age\")\n",
    "plt.ylabel(\"Frequency\")\n",
    "plt.show()"
   ]
  },
  {
   "cell_type": "code",
   "execution_count": 12,
   "id": "1abc1bb0",
   "metadata": {
    "execution": {
     "iopub.execute_input": "2025-06-29T08:21:41.441621Z",
     "iopub.status.busy": "2025-06-29T08:21:41.441280Z",
     "iopub.status.idle": "2025-06-29T08:21:41.571292Z",
     "shell.execute_reply": "2025-06-29T08:21:41.570363Z"
    },
    "papermill": {
     "duration": 0.140464,
     "end_time": "2025-06-29T08:21:41.572757",
     "exception": false,
     "start_time": "2025-06-29T08:21:41.432293",
     "status": "completed"
    },
    "tags": []
   },
   "outputs": [
    {
     "data": {
      "image/png": "[encoded data removed]",
      "text/plain": [
       "<Figure size 640x480 with 1 Axes>"
      ]
     },
     "metadata": {},
     "output_type": "display_data"
    }
   ],
   "source": [
    "sns.scatterplot(data=df, x='age', y='sex')\n",
    "plt.title(\"age vs sex\")\n",
    "plt.show()\n"
   ]
  },
  {
   "cell_type": "markdown",
   "id": "47dc6ab9",
   "metadata": {
    "papermill": {
     "duration": 0.008088,
     "end_time": "2025-06-29T08:21:41.589019",
     "exception": false,
     "start_time": "2025-06-29T08:21:41.580931",
     "status": "completed"
    },
    "tags": []
   },
   "source": [
    "**BMI**"
   ]
  },
  {
   "cell_type": "code",
   "execution_count": 13,
   "id": "197e124b",
   "metadata": {
    "execution": {
     "iopub.execute_input": "2025-06-29T08:21:41.606367Z",
     "iopub.status.busy": "2025-06-29T08:21:41.606052Z",
     "iopub.status.idle": "2025-06-29T08:21:41.616149Z",
     "shell.execute_reply": "2025-06-29T08:21:41.615284Z"
    },
    "papermill": {
     "duration": 0.020411,
     "end_time": "2025-06-29T08:21:41.617481",
     "exception": false,
     "start_time": "2025-06-29T08:21:41.597070",
     "status": "completed"
    },
    "tags": []
   },
   "outputs": [
    {
     "data": {
      "text/plain": [
       "bmi\n",
       "32.300    13\n",
       "28.310     9\n",
       "30.495     8\n",
       "30.875     8\n",
       "31.350     8\n",
       "          ..\n",
       "46.200     1\n",
       "23.800     1\n",
       "44.770     1\n",
       "32.120     1\n",
       "30.970     1\n",
       "Name: count, Length: 548, dtype: int64"
      ]
     },
     "execution_count": 13,
     "metadata": {},
     "output_type": "execute_result"
    }
   ],
   "source": [
    "df['bmi'].value_counts()"
   ]
  },
  {
   "cell_type": "code",
   "execution_count": 14,
   "id": "180cb47a",
   "metadata": {
    "execution": {
     "iopub.execute_input": "2025-06-29T08:21:41.635090Z",
     "iopub.status.busy": "2025-06-29T08:21:41.634739Z",
     "iopub.status.idle": "2025-06-29T08:21:41.645662Z",
     "shell.execute_reply": "2025-06-29T08:21:41.644689Z"
    },
    "papermill": {
     "duration": 0.021456,
     "end_time": "2025-06-29T08:21:41.647125",
     "exception": false,
     "start_time": "2025-06-29T08:21:41.625669",
     "status": "completed"
    },
    "tags": []
   },
   "outputs": [
    {
     "data": {
      "text/html": [
       "<div>\n",
       "<style scoped>\n",
       "    .dataframe tbody tr th:only-of-type {\n",
       "        vertical-align: middle;\n",
       "    }\n",
       "\n",
       "    .dataframe tbody tr th {\n",
       "        vertical-align: top;\n",
       "    }\n",
       "\n",
       "    .dataframe thead th {\n",
       "        text-align: right;\n",
       "    }\n",
       "</style>\n",
       "<table border=\"1\" class=\"dataframe\">\n",
       "  <thead>\n",
       "    <tr style=\"text-align: right;\">\n",
       "      <th></th>\n",
       "      <th>age</th>\n",
       "      <th>sex</th>\n",
       "      <th>bmi</th>\n",
       "      <th>children</th>\n",
       "      <th>smoker</th>\n",
       "      <th>region</th>\n",
       "      <th>charges</th>\n",
       "    </tr>\n",
       "  </thead>\n",
       "  <tbody>\n",
       "  </tbody>\n",
       "</table>\n",
       "</div>"
      ],
      "text/plain": [
       "Empty DataFrame\n",
       "Columns: [age, sex, bmi, children, smoker, region, charges]\n",
       "Index: []"
      ]
     },
     "execution_count": 14,
     "metadata": {},
     "output_type": "execute_result"
    }
   ],
   "source": [
    "df[df['bmi'] <= 0]\n"
   ]
  },
  {
   "cell_type": "markdown",
   "id": "885a3953",
   "metadata": {
    "papermill": {
     "duration": 0.008281,
     "end_time": "2025-06-29T08:21:41.666689",
     "exception": false,
     "start_time": "2025-06-29T08:21:41.658408",
     "status": "completed"
    },
    "tags": []
   },
   "source": [
    "**Handel outliars (normalization)**"
   ]
  },
  {
   "cell_type": "code",
   "execution_count": null,
   "id": "31cb7f14",
   "metadata": {
    "papermill": {
     "duration": 0.008169,
     "end_time": "2025-06-29T08:21:41.748506",
     "exception": false,
     "start_time": "2025-06-29T08:21:41.740337",
     "status": "completed"
    },
    "tags": []
   },
   "outputs": [],
   "source": []
  },
  {
   "cell_type": "markdown",
   "id": "80fd822d",
   "metadata": {
    "papermill": {
     "duration": 0.007946,
     "end_time": "2025-06-29T08:21:41.764684",
     "exception": false,
     "start_time": "2025-06-29T08:21:41.756738",
     "status": "completed"
    },
    "tags": []
   },
   "source": [
    "**children**"
   ]
  },
  {
   "cell_type": "markdown",
   "id": "ce411603",
   "metadata": {
    "papermill": {
     "duration": 0.008083,
     "end_time": "2025-06-29T08:21:41.780989",
     "exception": false,
     "start_time": "2025-06-29T08:21:41.772906",
     "status": "completed"
    },
    "tags": []
   },
   "source": [
    "**the children of distrubtion in relation between children and frequancy**"
   ]
  },
  {
   "cell_type": "code",
   "execution_count": 15,
   "id": "eb93d9b1",
   "metadata": {
    "execution": {
     "iopub.execute_input": "2025-06-29T08:21:41.799060Z",
     "iopub.status.busy": "2025-06-29T08:21:41.798699Z",
     "iopub.status.idle": "2025-06-29T08:21:42.037351Z",
     "shell.execute_reply": "2025-06-29T08:21:42.036386Z"
    },
    "papermill": {
     "duration": 0.249511,
     "end_time": "2025-06-29T08:21:42.038819",
     "exception": false,
     "start_time": "2025-06-29T08:21:41.789308",
     "status": "completed"
    },
    "tags": []
   },
   "outputs": [
    {
     "name": "stderr",
     "output_type": "stream",
     "text": [
      "/usr/local/lib/python3.11/dist-packages/seaborn/_oldcore.py:1119: FutureWarning: use_inf_as_na option is deprecated and will be removed in a future version. Convert inf values to NaN before operating instead.\n",
      "  with pd.option_context('mode.use_inf_as_na', True):\n"
     ]
    },
    {
     "data": {
      "image/png": "[encoded data removed]",
      "text/plain": [
       "<Figure size 640x480 with 1 Axes>"
      ]
     },
     "metadata": {},
     "output_type": "display_data"
    }
   ],
   "source": [
    "sns.histplot(df['children'], kde=True)  \n",
    "plt.title(\"children distribution\")\n",
    "plt.xlabel(\"children\")\n",
    "plt.ylabel(\"Frequency\")\n",
    "plt.show()"
   ]
  },
  {
   "cell_type": "code",
   "execution_count": 16,
   "id": "d3556f1b",
   "metadata": {
    "execution": {
     "iopub.execute_input": "2025-06-29T08:21:42.058155Z",
     "iopub.status.busy": "2025-06-29T08:21:42.057812Z",
     "iopub.status.idle": "2025-06-29T08:21:42.243255Z",
     "shell.execute_reply": "2025-06-29T08:21:42.242366Z"
    },
    "papermill": {
     "duration": 0.196938,
     "end_time": "2025-06-29T08:21:42.244772",
     "exception": false,
     "start_time": "2025-06-29T08:21:42.047834",
     "status": "completed"
    },
    "tags": []
   },
   "outputs": [
    {
     "data": {
      "image/png": "[encoded data removed]",
      "text/plain": [
       "<Figure size 800x600 with 1 Axes>"
      ]
     },
     "metadata": {},
     "output_type": "display_data"
    }
   ],
   "source": [
    "plt.figure(figsize=(8,6))\n",
    "sns.boxplot(x='children', y='age', data=df)\n",
    "plt.title('children & age')\n",
    "plt.xlabel('children')\n",
    "plt.ylabel('age')\n",
    "plt.show()\n"
   ]
  },
  {
   "cell_type": "markdown",
   "id": "600d283f",
   "metadata": {
    "papermill": {
     "duration": 0.008984,
     "end_time": "2025-06-29T08:21:42.263171",
     "exception": false,
     "start_time": "2025-06-29T08:21:42.254187",
     "status": "completed"
    },
    "tags": []
   },
   "source": [
    "**Pie chart**"
   ]
  },
  {
   "cell_type": "raw",
   "id": "f4979920",
   "metadata": {
    "execution": {
     "iopub.execute_input": "2025-06-29T07:42:16.365884Z",
     "iopub.status.busy": "2025-06-29T07:42:16.365536Z",
     "iopub.status.idle": "2025-06-29T07:42:16.575712Z",
     "shell.execute_reply": "2025-06-29T07:42:16.574989Z",
     "shell.execute_reply.started": "2025-06-29T07:42:16.365861Z"
    },
    "papermill": {
     "duration": 0.008774,
     "end_time": "2025-06-29T08:21:42.281088",
     "exception": false,
     "start_time": "2025-06-29T08:21:42.272314",
     "status": "completed"
    },
    "tags": []
   },
   "source": [
    "plt.figure(figsize=(10,8 ))\n",
    "plt.pie(df['children'].value_counts().values,\n",
    "        labels=df['children'].value_counts().index,\n",
    "        colors=['dimgray','rosybrown','red','green','Blue','orange'],\n",
    "        shadow=True,\n",
    "        autopct=\"%1.2f%%\",\n",
    "        )\n",
    "plt.title('describe children')\n",
    "plt.legend()\n",
    "plt.show()"
   ]
  },
  {
   "cell_type": "markdown",
   "id": "3352fc81",
   "metadata": {
    "papermill": {
     "duration": 0.008677,
     "end_time": "2025-06-29T08:21:42.298771",
     "exception": false,
     "start_time": "2025-06-29T08:21:42.290094",
     "status": "completed"
    },
    "tags": []
   },
   "source": [
    "**smoker**"
   ]
  },
  {
   "cell_type": "code",
   "execution_count": 17,
   "id": "081ab6a3",
   "metadata": {
    "execution": {
     "iopub.execute_input": "2025-06-29T08:21:42.318669Z",
     "iopub.status.busy": "2025-06-29T08:21:42.318329Z",
     "iopub.status.idle": "2025-06-29T08:21:42.480413Z",
     "shell.execute_reply": "2025-06-29T08:21:42.479516Z"
    },
    "papermill": {
     "duration": 0.174149,
     "end_time": "2025-06-29T08:21:42.481969",
     "exception": false,
     "start_time": "2025-06-29T08:21:42.307820",
     "status": "completed"
    },
    "tags": []
   },
   "outputs": [
    {
     "data": {
      "image/png": "[encoded data removed]",
      "text/plain": [
       "<Figure size 1000x800 with 1 Axes>"
      ]
     },
     "metadata": {},
     "output_type": "display_data"
    }
   ],
   "source": [
    "plt.figure(figsize=(10,8 ))\n",
    "plt.pie(df['smoker'].value_counts().values,\n",
    "        labels=df['smoker'].value_counts().index,\n",
    "        colors=['dimgray','rosybrown','red','green','Blue','orange'],\n",
    "        shadow=True,\n",
    "        autopct=\"%1.2f%%\",\n",
    "        )\n",
    "plt.title('describe smoker')\n",
    "plt.legend()\n",
    "plt.show()"
   ]
  },
  {
   "cell_type": "code",
   "execution_count": 18,
   "id": "fda3842d",
   "metadata": {
    "execution": {
     "iopub.execute_input": "2025-06-29T08:21:42.503142Z",
     "iopub.status.busy": "2025-06-29T08:21:42.502789Z",
     "iopub.status.idle": "2025-06-29T08:21:42.514124Z",
     "shell.execute_reply": "2025-06-29T08:21:42.513214Z"
    },
    "papermill": {
     "duration": 0.023599,
     "end_time": "2025-06-29T08:21:42.515564",
     "exception": false,
     "start_time": "2025-06-29T08:21:42.491965",
     "status": "completed"
    },
    "tags": []
   },
   "outputs": [
    {
     "data": {
      "text/html": [
       "<div>\n",
       "<style scoped>\n",
       "    .dataframe tbody tr th:only-of-type {\n",
       "        vertical-align: middle;\n",
       "    }\n",
       "\n",
       "    .dataframe tbody tr th {\n",
       "        vertical-align: top;\n",
       "    }\n",
       "\n",
       "    .dataframe thead th {\n",
       "        text-align: right;\n",
       "    }\n",
       "</style>\n",
       "<table border=\"1\" class=\"dataframe\">\n",
       "  <thead>\n",
       "    <tr style=\"text-align: right;\">\n",
       "      <th></th>\n",
       "      <th>age</th>\n",
       "      <th>sex</th>\n",
       "      <th>bmi</th>\n",
       "      <th>children</th>\n",
       "      <th>smoker</th>\n",
       "      <th>region</th>\n",
       "      <th>charges</th>\n",
       "    </tr>\n",
       "  </thead>\n",
       "  <tbody>\n",
       "    <tr>\n",
       "      <th>0</th>\n",
       "      <td>19</td>\n",
       "      <td>female</td>\n",
       "      <td>27.900</td>\n",
       "      <td>0</td>\n",
       "      <td>yes</td>\n",
       "      <td>southwest</td>\n",
       "      <td>16884.92400</td>\n",
       "    </tr>\n",
       "    <tr>\n",
       "      <th>1</th>\n",
       "      <td>18</td>\n",
       "      <td>male</td>\n",
       "      <td>33.770</td>\n",
       "      <td>1</td>\n",
       "      <td>no</td>\n",
       "      <td>southeast</td>\n",
       "      <td>1725.55230</td>\n",
       "    </tr>\n",
       "    <tr>\n",
       "      <th>2</th>\n",
       "      <td>28</td>\n",
       "      <td>male</td>\n",
       "      <td>33.000</td>\n",
       "      <td>3</td>\n",
       "      <td>no</td>\n",
       "      <td>southeast</td>\n",
       "      <td>4449.46200</td>\n",
       "    </tr>\n",
       "    <tr>\n",
       "      <th>3</th>\n",
       "      <td>33</td>\n",
       "      <td>male</td>\n",
       "      <td>22.705</td>\n",
       "      <td>0</td>\n",
       "      <td>no</td>\n",
       "      <td>northwest</td>\n",
       "      <td>21984.47061</td>\n",
       "    </tr>\n",
       "    <tr>\n",
       "      <th>4</th>\n",
       "      <td>32</td>\n",
       "      <td>male</td>\n",
       "      <td>28.880</td>\n",
       "      <td>0</td>\n",
       "      <td>no</td>\n",
       "      <td>northwest</td>\n",
       "      <td>3866.85520</td>\n",
       "    </tr>\n",
       "  </tbody>\n",
       "</table>\n",
       "</div>"
      ],
      "text/plain": [
       "   age     sex     bmi  children smoker     region      charges\n",
       "0   19  female  27.900         0    yes  southwest  16884.92400\n",
       "1   18    male  33.770         1     no  southeast   1725.55230\n",
       "2   28    male  33.000         3     no  southeast   4449.46200\n",
       "3   33    male  22.705         0     no  northwest  21984.47061\n",
       "4   32    male  28.880         0     no  northwest   3866.85520"
      ]
     },
     "execution_count": 18,
     "metadata": {},
     "output_type": "execute_result"
    }
   ],
   "source": [
    "df.head()"
   ]
  },
  {
   "cell_type": "code",
   "execution_count": 19,
   "id": "82210887",
   "metadata": {
    "execution": {
     "iopub.execute_input": "2025-06-29T08:21:42.537987Z",
     "iopub.status.busy": "2025-06-29T08:21:42.536926Z",
     "iopub.status.idle": "2025-06-29T08:21:42.547318Z",
     "shell.execute_reply": "2025-06-29T08:21:42.546558Z"
    },
    "papermill": {
     "duration": 0.022742,
     "end_time": "2025-06-29T08:21:42.548590",
     "exception": false,
     "start_time": "2025-06-29T08:21:42.525848",
     "status": "completed"
    },
    "tags": []
   },
   "outputs": [
    {
     "data": {
      "text/plain": [
       "smoker  sex   \n",
       "no      female    39.691042\n",
       "        male      39.061896\n",
       "yes     female    38.608696\n",
       "        male      38.446541\n",
       "Name: age, dtype: float64"
      ]
     },
     "execution_count": 19,
     "metadata": {},
     "output_type": "execute_result"
    }
   ],
   "source": [
    "df.groupby(['smoker','sex'])['age'].mean()"
   ]
  },
  {
   "cell_type": "code",
   "execution_count": 20,
   "id": "02f0d6a0",
   "metadata": {
    "execution": {
     "iopub.execute_input": "2025-06-29T08:21:42.570282Z",
     "iopub.status.busy": "2025-06-29T08:21:42.569927Z",
     "iopub.status.idle": "2025-06-29T08:21:42.865670Z",
     "shell.execute_reply": "2025-06-29T08:21:42.864682Z"
    },
    "papermill": {
     "duration": 0.308363,
     "end_time": "2025-06-29T08:21:42.867221",
     "exception": false,
     "start_time": "2025-06-29T08:21:42.558858",
     "status": "completed"
    },
    "tags": []
   },
   "outputs": [
    {
     "name": "stderr",
     "output_type": "stream",
     "text": [
      "/usr/local/lib/python3.11/dist-packages/seaborn/_oldcore.py:1119: FutureWarning: use_inf_as_na option is deprecated and will be removed in a future version. Convert inf values to NaN before operating instead.\n",
      "  with pd.option_context('mode.use_inf_as_na', True):\n"
     ]
    },
    {
     "data": {
      "image/png": "[encoded data removed]",
      "text/plain": [
       "<Figure size 1200x600 with 1 Axes>"
      ]
     },
     "metadata": {},
     "output_type": "display_data"
    }
   ],
   "source": [
    "plt.figure(figsize=(12, 6))\n",
    "custom_palette = sns.color_palette(\"husl\", 3)\n",
    "sns.histplot(df['charges'], kde=True, color=custom_palette[0])\n",
    "plt.title('Charges Distribution', size=18)\n",
    "plt.xlabel('Charges', size=14)\n",
    "plt.ylabel('Density', size=14)\n",
    "plt.show()"
   ]
  },
  {
   "cell_type": "code",
   "execution_count": 21,
   "id": "f30286b3",
   "metadata": {
    "execution": {
     "iopub.execute_input": "2025-06-29T08:21:42.890567Z",
     "iopub.status.busy": "2025-06-29T08:21:42.889958Z",
     "iopub.status.idle": "2025-06-29T08:21:43.087212Z",
     "shell.execute_reply": "2025-06-29T08:21:43.086164Z"
    },
    "papermill": {
     "duration": 0.210646,
     "end_time": "2025-06-29T08:21:43.088839",
     "exception": false,
     "start_time": "2025-06-29T08:21:42.878193",
     "status": "completed"
    },
    "tags": []
   },
   "outputs": [
    {
     "data": {
      "image/png": "[encoded data removed]",
      "text/plain": [
       "<Figure size 1200x600 with 1 Axes>"
      ]
     },
     "metadata": {},
     "output_type": "display_data"
    }
   ],
   "source": [
    "plt.figure(figsize=(12, 6))\n",
    "sns.countplot(x='region', data=df, hue='smoker', palette='Blues')\n",
    "plt.title('Region Distribution by Smoker', size=18)\n",
    "plt.xlabel('Region', size=14)\n",
    "plt.ylabel('Count', size=14)\n",
    "plt.show()"
   ]
  },
  {
   "cell_type": "code",
   "execution_count": 22,
   "id": "ab870d82",
   "metadata": {
    "execution": {
     "iopub.execute_input": "2025-06-29T08:21:43.112853Z",
     "iopub.status.busy": "2025-06-29T08:21:43.112541Z",
     "iopub.status.idle": "2025-06-29T08:21:43.351386Z",
     "shell.execute_reply": "2025-06-29T08:21:43.350542Z"
    },
    "papermill": {
     "duration": 0.252509,
     "end_time": "2025-06-29T08:21:43.352756",
     "exception": false,
     "start_time": "2025-06-29T08:21:43.100247",
     "status": "completed"
    },
    "tags": []
   },
   "outputs": [
    {
     "data": {
      "image/png": "[encoded data removed]",
      "text/plain": [
       "<Figure size 1400x1000 with 2 Axes>"
      ]
     },
     "metadata": {},
     "output_type": "display_data"
    }
   ],
   "source": [
    "corr_matrix = df.corr(numeric_only=True)\n",
    "plt.figure(figsize=(14,10))\n",
    "sns.heatmap(corr_matrix, annot=True, cmap='coolwarm')\n",
    "plt.show()"
   ]
  },
  {
   "cell_type": "code",
   "execution_count": null,
   "id": "312a9442",
   "metadata": {
    "papermill": {
     "duration": 0.01125,
     "end_time": "2025-06-29T08:21:43.375970",
     "exception": false,
     "start_time": "2025-06-29T08:21:43.364720",
     "status": "completed"
    },
    "tags": []
   },
   "outputs": [],
   "source": []
  }
 ],
 "metadata": {
  "kaggle": {
   "accelerator": "none",
   "dataSources": [
    {
     "datasetId": 13720,
     "sourceId": 18513,
     "sourceType": "datasetVersion"
    }
   ],
   "dockerImageVersionId": 31040,
   "isGpuEnabled": false,
   "isInternetEnabled": true,
   "language": "python",
   "sourceType": "notebook"
  },
  "kernelspec": {
   "display_name": "Python 3",
   "language": "python",
   "name": "python3"
  },
  "language_info": {
   "codemirror_mode": {
    "name": "ipython",
    "version": 3
   },
   "file_extension": ".py",
   "mimetype": "text/x-python",
   "name": "python",
   "nbconvert_exporter": "python",
   "pygments_lexer": "ipython3",
   "version": "3.11.11"
  },
  "papermill": {
   "default_parameters": {},
   "duration": 13.236525,
   "end_time": "2025-06-29T08:21:44.107899",
   "environment_variables": {},
   "exception": null,
   "input_path": "__notebook__.ipynb",
   "output_path": "__notebook__.ipynb",
   "parameters": {},
   "start_time": "2025-06-29T08:21:30.871374",
   "version": "2.6.0"
  }
 },
 "nbformat": 4,
 "nbformat_minor": 5
}
