{
 "cells": [
  {
   "cell_type": "code",
   "execution_count": 1,
   "id": "d6449fdd",
   "metadata": {
    "_cell_guid": "b1076dfc-b9ad-4769-8c92-a6c4dae69d19",
    "_uuid": "8f2839f25d086af736a60e9eeb907d3b93b6e0e5",
    "execution": {
     "iopub.execute_input": "2025-06-27T10:22:17.627228Z",
     "iopub.status.busy": "2025-06-27T10:22:17.626302Z",
     "iopub.status.idle": "2025-06-27T10:22:22.258456Z",
     "shell.execute_reply": "2025-06-27T10:22:22.257307Z"
    },
    "papermill": {
     "duration": 4.649603,
     "end_time": "2025-06-27T10:22:22.260207",
     "exception": false,
     "start_time": "2025-06-27T10:22:17.610604",
     "status": "completed"
    },
    "tags": []
   },
   "outputs": [],
   "source": [
    "import numpy as np\n",
    "import pandas as pd\n",
    "import matplotlib.pyplot as plt\n",
    "import seaborn as sns\n",
    "from sklearn.preprocessing import LabelEncoder, MinMaxScaler\n",
    "from sklearn.model_selection import train_test_split\n",
    "\n",
    "from sklearn.linear_model import LinearRegression, SGDRegressor,Lasso, Ridge\n",
    "from sklearn.metrics import mean_squared_error , mean_absolute_error"
   ]
  },
  {
   "cell_type": "code",
   "execution_count": 2,
   "id": "995a7299",
   "metadata": {
    "execution": {
     "iopub.execute_input": "2025-06-27T10:22:22.281717Z",
     "iopub.status.busy": "2025-06-27T10:22:22.280429Z",
     "iopub.status.idle": "2025-06-27T10:22:22.305599Z",
     "shell.execute_reply": "2025-06-27T10:22:22.304569Z"
    },
    "papermill": {
     "duration": 0.037669,
     "end_time": "2025-06-27T10:22:22.307577",
     "exception": false,
     "start_time": "2025-06-27T10:22:22.269908",
     "status": "completed"
    },
    "tags": []
   },
   "outputs": [],
   "source": [
    "df=pd.read_csv('/kaggle/input/house-price-prediction-dataset/House Price Prediction Dataset.csv')"
   ]
  },
  {
   "cell_type": "code",
   "execution_count": 3,
   "id": "4baa8302",
   "metadata": {
    "execution": {
     "iopub.execute_input": "2025-06-27T10:22:22.328576Z",
     "iopub.status.busy": "2025-06-27T10:22:22.328223Z",
     "iopub.status.idle": "2025-06-27T10:22:22.356500Z",
     "shell.execute_reply": "2025-06-27T10:22:22.355503Z"
    },
    "papermill": {
     "duration": 0.040637,
     "end_time": "2025-06-27T10:22:22.358261",
     "exception": false,
     "start_time": "2025-06-27T10:22:22.317624",
     "status": "completed"
    },
    "tags": []
   },
   "outputs": [
    {
     "data": {
      "text/html": [
       "<div>\n",
       "<style scoped>\n",
       "    .dataframe tbody tr th:only-of-type {\n",
       "        vertical-align: middle;\n",
       "    }\n",
       "\n",
       "    .dataframe tbody tr th {\n",
       "        vertical-align: top;\n",
       "    }\n",
       "\n",
       "    .dataframe thead th {\n",
       "        text-align: right;\n",
       "    }\n",
       "</style>\n",
       "<table border=\"1\" class=\"dataframe\">\n",
       "  <thead>\n",
       "    <tr style=\"text-align: right;\">\n",
       "      <th></th>\n",
       "      <th>Id</th>\n",
       "      <th>Area</th>\n",
       "      <th>Bedrooms</th>\n",
       "      <th>Bathrooms</th>\n",
       "      <th>Floors</th>\n",
       "      <th>YearBuilt</th>\n",
       "      <th>Location</th>\n",
       "      <th>Condition</th>\n",
       "      <th>Garage</th>\n",
       "      <th>Price</th>\n",
       "    </tr>\n",
       "  </thead>\n",
       "  <tbody>\n",
       "    <tr>\n",
       "      <th>0</th>\n",
       "      <td>1</td>\n",
       "      <td>1360</td>\n",
       "      <td>5</td>\n",
       "      <td>4</td>\n",
       "      <td>3</td>\n",
       "      <td>1970</td>\n",
       "      <td>Downtown</td>\n",
       "      <td>Excellent</td>\n",
       "      <td>No</td>\n",
       "      <td>149919</td>\n",
       "    </tr>\n",
       "    <tr>\n",
       "      <th>1</th>\n",
       "      <td>2</td>\n",
       "      <td>4272</td>\n",
       "      <td>5</td>\n",
       "      <td>4</td>\n",
       "      <td>3</td>\n",
       "      <td>1958</td>\n",
       "      <td>Downtown</td>\n",
       "      <td>Excellent</td>\n",
       "      <td>No</td>\n",
       "      <td>424998</td>\n",
       "    </tr>\n",
       "    <tr>\n",
       "      <th>2</th>\n",
       "      <td>3</td>\n",
       "      <td>3592</td>\n",
       "      <td>2</td>\n",
       "      <td>2</td>\n",
       "      <td>3</td>\n",
       "      <td>1938</td>\n",
       "      <td>Downtown</td>\n",
       "      <td>Good</td>\n",
       "      <td>No</td>\n",
       "      <td>266746</td>\n",
       "    </tr>\n",
       "    <tr>\n",
       "      <th>3</th>\n",
       "      <td>4</td>\n",
       "      <td>966</td>\n",
       "      <td>4</td>\n",
       "      <td>2</td>\n",
       "      <td>2</td>\n",
       "      <td>1902</td>\n",
       "      <td>Suburban</td>\n",
       "      <td>Fair</td>\n",
       "      <td>Yes</td>\n",
       "      <td>244020</td>\n",
       "    </tr>\n",
       "    <tr>\n",
       "      <th>4</th>\n",
       "      <td>5</td>\n",
       "      <td>4926</td>\n",
       "      <td>1</td>\n",
       "      <td>4</td>\n",
       "      <td>2</td>\n",
       "      <td>1975</td>\n",
       "      <td>Downtown</td>\n",
       "      <td>Fair</td>\n",
       "      <td>Yes</td>\n",
       "      <td>636056</td>\n",
       "    </tr>\n",
       "  </tbody>\n",
       "</table>\n",
       "</div>"
      ],
      "text/plain": [
       "   Id  Area  Bedrooms  Bathrooms  Floors  YearBuilt  Location  Condition  \\\n",
       "0   1  1360         5          4       3       1970  Downtown  Excellent   \n",
       "1   2  4272         5          4       3       1958  Downtown  Excellent   \n",
       "2   3  3592         2          2       3       1938  Downtown       Good   \n",
       "3   4   966         4          2       2       1902  Suburban       Fair   \n",
       "4   5  4926         1          4       2       1975  Downtown       Fair   \n",
       "\n",
       "  Garage   Price  \n",
       "0     No  149919  \n",
       "1     No  424998  \n",
       "2     No  266746  \n",
       "3    Yes  244020  \n",
       "4    Yes  636056  "
      ]
     },
     "execution_count": 3,
     "metadata": {},
     "output_type": "execute_result"
    }
   ],
   "source": [
    "df.head()"
   ]
  },
  {
   "cell_type": "code",
   "execution_count": 4,
   "id": "bf58ac96",
   "metadata": {
    "execution": {
     "iopub.execute_input": "2025-06-27T10:22:22.382165Z",
     "iopub.status.busy": "2025-06-27T10:22:22.381838Z",
     "iopub.status.idle": "2025-06-27T10:22:22.396408Z",
     "shell.execute_reply": "2025-06-27T10:22:22.395198Z"
    },
    "papermill": {
     "duration": 0.028518,
     "end_time": "2025-06-27T10:22:22.398377",
     "exception": false,
     "start_time": "2025-06-27T10:22:22.369859",
     "status": "completed"
    },
    "tags": []
   },
   "outputs": [],
   "source": [
    "df.drop(columns=['Id'],inplace=True)"
   ]
  },
  {
   "cell_type": "code",
   "execution_count": 5,
   "id": "647b8b6d",
   "metadata": {
    "execution": {
     "iopub.execute_input": "2025-06-27T10:22:22.418962Z",
     "iopub.status.busy": "2025-06-27T10:22:22.418661Z",
     "iopub.status.idle": "2025-06-27T10:22:22.438561Z",
     "shell.execute_reply": "2025-06-27T10:22:22.437461Z"
    },
    "papermill": {
     "duration": 0.031716,
     "end_time": "2025-06-27T10:22:22.440226",
     "exception": false,
     "start_time": "2025-06-27T10:22:22.408510",
     "status": "completed"
    },
    "tags": []
   },
   "outputs": [
    {
     "name": "stdout",
     "output_type": "stream",
     "text": [
      "<class 'pandas.core.frame.DataFrame'>\n",
      "RangeIndex: 2000 entries, 0 to 1999\n",
      "Data columns (total 9 columns):\n",
      " #   Column     Non-Null Count  Dtype \n",
      "---  ------     --------------  ----- \n",
      " 0   Area       2000 non-null   int64 \n",
      " 1   Bedrooms   2000 non-null   int64 \n",
      " 2   Bathrooms  2000 non-null   int64 \n",
      " 3   Floors     2000 non-null   int64 \n",
      " 4   YearBuilt  2000 non-null   int64 \n",
      " 5   Location   2000 non-null   object\n",
      " 6   Condition  2000 non-null   object\n",
      " 7   Garage     2000 non-null   object\n",
      " 8   Price      2000 non-null   int64 \n",
      "dtypes: int64(6), object(3)\n",
      "memory usage: 140.8+ KB\n"
     ]
    }
   ],
   "source": [
    "df.info()\n",
    "\n"
   ]
  },
  {
   "cell_type": "code",
   "execution_count": 6,
   "id": "2fbd4b77",
   "metadata": {
    "execution": {
     "iopub.execute_input": "2025-06-27T10:22:22.462233Z",
     "iopub.status.busy": "2025-06-27T10:22:22.461289Z",
     "iopub.status.idle": "2025-06-27T10:22:22.471477Z",
     "shell.execute_reply": "2025-06-27T10:22:22.470538Z"
    },
    "papermill": {
     "duration": 0.023511,
     "end_time": "2025-06-27T10:22:22.473862",
     "exception": false,
     "start_time": "2025-06-27T10:22:22.450351",
     "status": "completed"
    },
    "tags": []
   },
   "outputs": [
    {
     "data": {
      "text/plain": [
       "Garage\n",
       "No     51.9\n",
       "Yes    48.1\n",
       "Name: proportion, dtype: float64"
      ]
     },
     "execution_count": 6,
     "metadata": {},
     "output_type": "execute_result"
    }
   ],
   "source": [
    "df['Garage'].value_counts(normalize=True)*100\n"
   ]
  },
  {
   "cell_type": "code",
   "execution_count": 7,
   "id": "a19a88c1",
   "metadata": {
    "execution": {
     "iopub.execute_input": "2025-06-27T10:22:22.494176Z",
     "iopub.status.busy": "2025-06-27T10:22:22.493875Z",
     "iopub.status.idle": "2025-06-27T10:22:22.757435Z",
     "shell.execute_reply": "2025-06-27T10:22:22.756269Z"
    },
    "papermill": {
     "duration": 0.275555,
     "end_time": "2025-06-27T10:22:22.758992",
     "exception": false,
     "start_time": "2025-06-27T10:22:22.483437",
     "status": "completed"
    },
    "tags": []
   },
   "outputs": [
    {
     "data": {
      "image/png": "[encoded data removed]",
      "text/plain": [
       "<Figure size 1000x800 with 1 Axes>"
      ]
     },
     "metadata": {},
     "output_type": "display_data"
    }
   ],
   "source": [
    "plt.figure(figsize=(10,8 ))\n",
    "plt.pie(df['Garage'].value_counts().values,\n",
    "        labels=df['Garage'].value_counts().index,\n",
    "        colors=['Blue','rosybrown'],\n",
    "        shadow=True,\n",
    "        autopct=\"%1.2f%%\",\n",
    "        )\n",
    "plt.title('descripe Garage')\n",
    "plt.legend()\n",
    "plt.show()"
   ]
  },
  {
   "cell_type": "code",
   "execution_count": 8,
   "id": "ee1d7660",
   "metadata": {
    "execution": {
     "iopub.execute_input": "2025-06-27T10:22:22.783114Z",
     "iopub.status.busy": "2025-06-27T10:22:22.782233Z",
     "iopub.status.idle": "2025-06-27T10:22:22.790932Z",
     "shell.execute_reply": "2025-06-27T10:22:22.789987Z"
    },
    "papermill": {
     "duration": 0.023413,
     "end_time": "2025-06-27T10:22:22.792734",
     "exception": false,
     "start_time": "2025-06-27T10:22:22.769321",
     "status": "completed"
    },
    "tags": []
   },
   "outputs": [
    {
     "data": {
      "text/plain": [
       "Area         0\n",
       "Bedrooms     0\n",
       "Bathrooms    0\n",
       "Floors       0\n",
       "YearBuilt    0\n",
       "Location     0\n",
       "Condition    0\n",
       "Garage       0\n",
       "Price        0\n",
       "dtype: int64"
      ]
     },
     "execution_count": 8,
     "metadata": {},
     "output_type": "execute_result"
    }
   ],
   "source": [
    "df.isnull().sum()\n"
   ]
  },
  {
   "cell_type": "code",
   "execution_count": 9,
   "id": "d7bbacaa",
   "metadata": {
    "execution": {
     "iopub.execute_input": "2025-06-27T10:22:22.814887Z",
     "iopub.status.busy": "2025-06-27T10:22:22.814551Z",
     "iopub.status.idle": "2025-06-27T10:22:22.825855Z",
     "shell.execute_reply": "2025-06-27T10:22:22.824739Z"
    },
    "papermill": {
     "duration": 0.024443,
     "end_time": "2025-06-27T10:22:22.827688",
     "exception": false,
     "start_time": "2025-06-27T10:22:22.803245",
     "status": "completed"
    },
    "tags": []
   },
   "outputs": [
    {
     "data": {
      "text/plain": [
       "Area\n",
       "4219    5\n",
       "1752    4\n",
       "1516    4\n",
       "4646    4\n",
       "1743    4\n",
       "       ..\n",
       "3948    1\n",
       "4312    1\n",
       "2862    1\n",
       "2475    1\n",
       "4062    1\n",
       "Name: count, Length: 1622, dtype: int64"
      ]
     },
     "execution_count": 9,
     "metadata": {},
     "output_type": "execute_result"
    }
   ],
   "source": [
    "df['Area'].value_counts()"
   ]
  },
  {
   "cell_type": "code",
   "execution_count": 10,
   "id": "dba4a1f1",
   "metadata": {
    "execution": {
     "iopub.execute_input": "2025-06-27T10:22:22.850235Z",
     "iopub.status.busy": "2025-06-27T10:22:22.849887Z",
     "iopub.status.idle": "2025-06-27T10:22:22.878325Z",
     "shell.execute_reply": "2025-06-27T10:22:22.876758Z"
    },
    "papermill": {
     "duration": 0.041589,
     "end_time": "2025-06-27T10:22:22.880274",
     "exception": false,
     "start_time": "2025-06-27T10:22:22.838685",
     "status": "completed"
    },
    "tags": []
   },
   "outputs": [
    {
     "data": {
      "text/html": [
       "<div>\n",
       "<style scoped>\n",
       "    .dataframe tbody tr th:only-of-type {\n",
       "        vertical-align: middle;\n",
       "    }\n",
       "\n",
       "    .dataframe tbody tr th {\n",
       "        vertical-align: top;\n",
       "    }\n",
       "\n",
       "    .dataframe thead th {\n",
       "        text-align: right;\n",
       "    }\n",
       "</style>\n",
       "<table border=\"1\" class=\"dataframe\">\n",
       "  <thead>\n",
       "    <tr style=\"text-align: right;\">\n",
       "      <th></th>\n",
       "      <th>Area</th>\n",
       "      <th>Bedrooms</th>\n",
       "      <th>Bathrooms</th>\n",
       "      <th>Floors</th>\n",
       "      <th>YearBuilt</th>\n",
       "      <th>Price</th>\n",
       "    </tr>\n",
       "  </thead>\n",
       "  <tbody>\n",
       "    <tr>\n",
       "      <th>count</th>\n",
       "      <td>2000.000000</td>\n",
       "      <td>2000.000000</td>\n",
       "      <td>2000.00000</td>\n",
       "      <td>2000.000000</td>\n",
       "      <td>2000.000000</td>\n",
       "      <td>2000.000000</td>\n",
       "    </tr>\n",
       "    <tr>\n",
       "      <th>mean</th>\n",
       "      <td>2786.209500</td>\n",
       "      <td>3.003500</td>\n",
       "      <td>2.55250</td>\n",
       "      <td>1.993500</td>\n",
       "      <td>1961.446000</td>\n",
       "      <td>537676.855000</td>\n",
       "    </tr>\n",
       "    <tr>\n",
       "      <th>std</th>\n",
       "      <td>1295.146799</td>\n",
       "      <td>1.424606</td>\n",
       "      <td>1.10899</td>\n",
       "      <td>0.809188</td>\n",
       "      <td>35.926695</td>\n",
       "      <td>276428.845719</td>\n",
       "    </tr>\n",
       "    <tr>\n",
       "      <th>min</th>\n",
       "      <td>501.000000</td>\n",
       "      <td>1.000000</td>\n",
       "      <td>1.00000</td>\n",
       "      <td>1.000000</td>\n",
       "      <td>1900.000000</td>\n",
       "      <td>50005.000000</td>\n",
       "    </tr>\n",
       "    <tr>\n",
       "      <th>25%</th>\n",
       "      <td>1653.000000</td>\n",
       "      <td>2.000000</td>\n",
       "      <td>2.00000</td>\n",
       "      <td>1.000000</td>\n",
       "      <td>1930.000000</td>\n",
       "      <td>300098.000000</td>\n",
       "    </tr>\n",
       "    <tr>\n",
       "      <th>50%</th>\n",
       "      <td>2833.000000</td>\n",
       "      <td>3.000000</td>\n",
       "      <td>3.00000</td>\n",
       "      <td>2.000000</td>\n",
       "      <td>1961.000000</td>\n",
       "      <td>539254.000000</td>\n",
       "    </tr>\n",
       "    <tr>\n",
       "      <th>75%</th>\n",
       "      <td>3887.500000</td>\n",
       "      <td>4.000000</td>\n",
       "      <td>4.00000</td>\n",
       "      <td>3.000000</td>\n",
       "      <td>1993.000000</td>\n",
       "      <td>780086.000000</td>\n",
       "    </tr>\n",
       "    <tr>\n",
       "      <th>max</th>\n",
       "      <td>4999.000000</td>\n",
       "      <td>5.000000</td>\n",
       "      <td>4.00000</td>\n",
       "      <td>3.000000</td>\n",
       "      <td>2023.000000</td>\n",
       "      <td>999656.000000</td>\n",
       "    </tr>\n",
       "  </tbody>\n",
       "</table>\n",
       "</div>"
      ],
      "text/plain": [
       "              Area     Bedrooms   Bathrooms       Floors    YearBuilt  \\\n",
       "count  2000.000000  2000.000000  2000.00000  2000.000000  2000.000000   \n",
       "mean   2786.209500     3.003500     2.55250     1.993500  1961.446000   \n",
       "std    1295.146799     1.424606     1.10899     0.809188    35.926695   \n",
       "min     501.000000     1.000000     1.00000     1.000000  1900.000000   \n",
       "25%    1653.000000     2.000000     2.00000     1.000000  1930.000000   \n",
       "50%    2833.000000     3.000000     3.00000     2.000000  1961.000000   \n",
       "75%    3887.500000     4.000000     4.00000     3.000000  1993.000000   \n",
       "max    4999.000000     5.000000     4.00000     3.000000  2023.000000   \n",
       "\n",
       "               Price  \n",
       "count    2000.000000  \n",
       "mean   537676.855000  \n",
       "std    276428.845719  \n",
       "min     50005.000000  \n",
       "25%    300098.000000  \n",
       "50%    539254.000000  \n",
       "75%    780086.000000  \n",
       "max    999656.000000  "
      ]
     },
     "execution_count": 10,
     "metadata": {},
     "output_type": "execute_result"
    }
   ],
   "source": [
    "df.describe()\n"
   ]
  },
  {
   "cell_type": "code",
   "execution_count": 11,
   "id": "ed4387db",
   "metadata": {
    "execution": {
     "iopub.execute_input": "2025-06-27T10:22:22.903378Z",
     "iopub.status.busy": "2025-06-27T10:22:22.902440Z",
     "iopub.status.idle": "2025-06-27T10:22:22.911476Z",
     "shell.execute_reply": "2025-06-27T10:22:22.910522Z"
    },
    "papermill": {
     "duration": 0.022305,
     "end_time": "2025-06-27T10:22:22.913222",
     "exception": false,
     "start_time": "2025-06-27T10:22:22.890917",
     "status": "completed"
    },
    "tags": []
   },
   "outputs": [
    {
     "data": {
      "text/plain": [
       "Location\n",
       "Downtown    558\n",
       "Urban       485\n",
       "Suburban    483\n",
       "Rural       474\n",
       "Name: count, dtype: int64"
      ]
     },
     "execution_count": 11,
     "metadata": {},
     "output_type": "execute_result"
    }
   ],
   "source": [
    "df[\"Location\"].value_counts()\n"
   ]
  },
  {
   "cell_type": "code",
   "execution_count": 12,
   "id": "55401018",
   "metadata": {
    "execution": {
     "iopub.execute_input": "2025-06-27T10:22:22.935601Z",
     "iopub.status.busy": "2025-06-27T10:22:22.935267Z",
     "iopub.status.idle": "2025-06-27T10:22:23.103925Z",
     "shell.execute_reply": "2025-06-27T10:22:23.102858Z"
    },
    "papermill": {
     "duration": 0.181747,
     "end_time": "2025-06-27T10:22:23.105662",
     "exception": false,
     "start_time": "2025-06-27T10:22:22.923915",
     "status": "completed"
    },
    "tags": []
   },
   "outputs": [
    {
     "data": {
      "image/png": "[encoded data removed]",
      "text/plain": [
       "<Figure size 1000x600 with 1 Axes>"
      ]
     },
     "metadata": {},
     "output_type": "display_data"
    }
   ],
   "source": [
    "plt.figure(figsize=(10,6))\n",
    "plt.bar(df['Location'].value_counts().index , df['Location'].value_counts().values , color=['Blue','Limegreen'] ,width=0.9,alpha=1)\n",
    "plt.xlabel('Location')\n",
    "plt.ylabel('frequancy')\n",
    "plt.title('Descripe Of Location')\n",
    "plt.show()"
   ]
  },
  {
   "cell_type": "code",
   "execution_count": 13,
   "id": "d8ca4c86",
   "metadata": {
    "execution": {
     "iopub.execute_input": "2025-06-27T10:22:23.129407Z",
     "iopub.status.busy": "2025-06-27T10:22:23.128984Z",
     "iopub.status.idle": "2025-06-27T10:22:23.137298Z",
     "shell.execute_reply": "2025-06-27T10:22:23.136314Z"
    },
    "papermill": {
     "duration": 0.022379,
     "end_time": "2025-06-27T10:22:23.139243",
     "exception": false,
     "start_time": "2025-06-27T10:22:23.116864",
     "status": "completed"
    },
    "tags": []
   },
   "outputs": [
    {
     "data": {
      "text/plain": [
       "Condition\n",
       "Fair         521\n",
       "Excellent    511\n",
       "Poor         507\n",
       "Good         461\n",
       "Name: count, dtype: int64"
      ]
     },
     "execution_count": 13,
     "metadata": {},
     "output_type": "execute_result"
    }
   ],
   "source": [
    "df[\"Condition\"].value_counts()\n"
   ]
  },
  {
   "cell_type": "code",
   "execution_count": 14,
   "id": "e8479cf5",
   "metadata": {
    "execution": {
     "iopub.execute_input": "2025-06-27T10:22:23.164790Z",
     "iopub.status.busy": "2025-06-27T10:22:23.164461Z",
     "iopub.status.idle": "2025-06-27T10:22:23.372668Z",
     "shell.execute_reply": "2025-06-27T10:22:23.371509Z"
    },
    "papermill": {
     "duration": 0.223944,
     "end_time": "2025-06-27T10:22:23.375072",
     "exception": false,
     "start_time": "2025-06-27T10:22:23.151128",
     "status": "completed"
    },
    "tags": []
   },
   "outputs": [
    {
     "data": {
      "image/png": "[encoded data removed]",
      "text/plain": [
       "<Figure size 1000x800 with 1 Axes>"
      ]
     },
     "metadata": {},
     "output_type": "display_data"
    }
   ],
   "source": [
    "plt.figure(figsize=(10,8 ))\n",
    "plt.pie(df['Condition'].value_counts().values,\n",
    "        labels=df['Condition'].value_counts().index,\n",
    "        colors=['Blue','rosybrown','Limegreen','dimgray'],\n",
    "        shadow=True,\n",
    "        autopct=\"%1.2f%%\",\n",
    "        )\n",
    "plt.title('descripe Condition')\n",
    "plt.legend()\n",
    "plt.show()"
   ]
  },
  {
   "cell_type": "code",
   "execution_count": 15,
   "id": "df999504",
   "metadata": {
    "execution": {
     "iopub.execute_input": "2025-06-27T10:22:23.403104Z",
     "iopub.status.busy": "2025-06-27T10:22:23.402749Z",
     "iopub.status.idle": "2025-06-27T10:22:23.410052Z",
     "shell.execute_reply": "2025-06-27T10:22:23.409024Z"
    },
    "papermill": {
     "duration": 0.023961,
     "end_time": "2025-06-27T10:22:23.411796",
     "exception": false,
     "start_time": "2025-06-27T10:22:23.387835",
     "status": "completed"
    },
    "tags": []
   },
   "outputs": [],
   "source": [
    "accepted_conditions = ['Excellent', 'Good']\n",
    "df['Accepted'] = df['Condition'].isin(accepted_conditions).astype(int)\n"
   ]
  },
  {
   "cell_type": "code",
   "execution_count": 16,
   "id": "9b3da2f5",
   "metadata": {
    "execution": {
     "iopub.execute_input": "2025-06-27T10:22:23.437152Z",
     "iopub.status.busy": "2025-06-27T10:22:23.436830Z",
     "iopub.status.idle": "2025-06-27T10:22:23.455973Z",
     "shell.execute_reply": "2025-06-27T10:22:23.455162Z"
    },
    "papermill": {
     "duration": 0.03369,
     "end_time": "2025-06-27T10:22:23.457757",
     "exception": false,
     "start_time": "2025-06-27T10:22:23.424067",
     "status": "completed"
    },
    "tags": []
   },
   "outputs": [],
   "source": [
    "grouped = df.groupby('Location').agg(Total=('Location', 'count'),Accepted=('Accepted','sum'))"
   ]
  },
  {
   "cell_type": "code",
   "execution_count": 17,
   "id": "af375387",
   "metadata": {
    "execution": {
     "iopub.execute_input": "2025-06-27T10:22:23.553678Z",
     "iopub.status.busy": "2025-06-27T10:22:23.552606Z",
     "iopub.status.idle": "2025-06-27T10:22:23.558540Z",
     "shell.execute_reply": "2025-06-27T10:22:23.557569Z"
    },
    "papermill": {
     "duration": 0.089458,
     "end_time": "2025-06-27T10:22:23.560522",
     "exception": false,
     "start_time": "2025-06-27T10:22:23.471064",
     "status": "completed"
    },
    "tags": []
   },
   "outputs": [],
   "source": [
    "grouped['Acceptance_Rate'] = grouped['Accepted'] / grouped['Total']"
   ]
  },
  {
   "cell_type": "code",
   "execution_count": 18,
   "id": "56cc41db",
   "metadata": {
    "execution": {
     "iopub.execute_input": "2025-06-27T10:22:23.588192Z",
     "iopub.status.busy": "2025-06-27T10:22:23.587857Z",
     "iopub.status.idle": "2025-06-27T10:22:23.595323Z",
     "shell.execute_reply": "2025-06-27T10:22:23.594113Z"
    },
    "papermill": {
     "duration": 0.023012,
     "end_time": "2025-06-27T10:22:23.596996",
     "exception": false,
     "start_time": "2025-06-27T10:22:23.573984",
     "status": "completed"
    },
    "tags": []
   },
   "outputs": [],
   "source": [
    "result = grouped.sort_values(by='Acceptance_Rate', ascending=False)"
   ]
  },
  {
   "cell_type": "code",
   "execution_count": 19,
   "id": "74590401",
   "metadata": {
    "execution": {
     "iopub.execute_input": "2025-06-27T10:22:23.624700Z",
     "iopub.status.busy": "2025-06-27T10:22:23.623269Z",
     "iopub.status.idle": "2025-06-27T10:22:23.631429Z",
     "shell.execute_reply": "2025-06-27T10:22:23.630299Z"
    },
    "papermill": {
     "duration": 0.023844,
     "end_time": "2025-06-27T10:22:23.633154",
     "exception": false,
     "start_time": "2025-06-27T10:22:23.609310",
     "status": "completed"
    },
    "tags": []
   },
   "outputs": [
    {
     "name": "stdout",
     "output_type": "stream",
     "text": [
      "          Total  Accepted  Acceptance_Rate\n",
      "Location                                  \n",
      "Downtown    558       289         0.517921\n",
      "Suburban    483       233         0.482402\n",
      "Urban       485       230         0.474227\n",
      "Rural       474       220         0.464135\n"
     ]
    }
   ],
   "source": [
    "print(result)"
   ]
  },
  {
   "cell_type": "code",
   "execution_count": 20,
   "id": "88f86bf3",
   "metadata": {
    "execution": {
     "iopub.execute_input": "2025-06-27T10:22:23.660211Z",
     "iopub.status.busy": "2025-06-27T10:22:23.659865Z",
     "iopub.status.idle": "2025-06-27T10:22:23.781806Z",
     "shell.execute_reply": "2025-06-27T10:22:23.780775Z"
    },
    "papermill": {
     "duration": 0.136366,
     "end_time": "2025-06-27T10:22:23.783349",
     "exception": false,
     "start_time": "2025-06-27T10:22:23.646983",
     "status": "completed"
    },
    "tags": []
   },
   "outputs": [
    {
     "data": {
      "text/plain": [
       "<Axes: xlabel='Price'>"
      ]
     },
     "execution_count": 20,
     "metadata": {},
     "output_type": "execute_result"
    },
    {
     "data": {
      "image/png": "[encoded data removed]",
      "text/plain": [
       "<Figure size 640x480 with 1 Axes>"
      ]
     },
     "metadata": {},
     "output_type": "display_data"
    }
   ],
   "source": [
    "sns.boxplot(x=df['Price'])"
   ]
  },
  {
   "cell_type": "code",
   "execution_count": 21,
   "id": "2abda92c",
   "metadata": {
    "execution": {
     "iopub.execute_input": "2025-06-27T10:22:23.809512Z",
     "iopub.status.busy": "2025-06-27T10:22:23.809153Z",
     "iopub.status.idle": "2025-06-27T10:22:23.816838Z",
     "shell.execute_reply": "2025-06-27T10:22:23.815835Z"
    },
    "papermill": {
     "duration": 0.02271,
     "end_time": "2025-06-27T10:22:23.818690",
     "exception": false,
     "start_time": "2025-06-27T10:22:23.795980",
     "status": "completed"
    },
    "tags": []
   },
   "outputs": [],
   "source": [
    "df = df[df['Price'] < df['Price'].quantile(0.95)]"
   ]
  },
  {
   "cell_type": "code",
   "execution_count": 22,
   "id": "edf1f798",
   "metadata": {
    "execution": {
     "iopub.execute_input": "2025-06-27T10:22:23.847698Z",
     "iopub.status.busy": "2025-06-27T10:22:23.847288Z",
     "iopub.status.idle": "2025-06-27T10:22:23.861037Z",
     "shell.execute_reply": "2025-06-27T10:22:23.860168Z"
    },
    "papermill": {
     "duration": 0.030832,
     "end_time": "2025-06-27T10:22:23.862481",
     "exception": false,
     "start_time": "2025-06-27T10:22:23.831649",
     "status": "completed"
    },
    "tags": []
   },
   "outputs": [
    {
     "data": {
      "text/html": [
       "<div>\n",
       "<style scoped>\n",
       "    .dataframe tbody tr th:only-of-type {\n",
       "        vertical-align: middle;\n",
       "    }\n",
       "\n",
       "    .dataframe tbody tr th {\n",
       "        vertical-align: top;\n",
       "    }\n",
       "\n",
       "    .dataframe thead th {\n",
       "        text-align: right;\n",
       "    }\n",
       "</style>\n",
       "<table border=\"1\" class=\"dataframe\">\n",
       "  <thead>\n",
       "    <tr style=\"text-align: right;\">\n",
       "      <th></th>\n",
       "      <th>Area</th>\n",
       "      <th>Bedrooms</th>\n",
       "      <th>Bathrooms</th>\n",
       "      <th>Floors</th>\n",
       "      <th>YearBuilt</th>\n",
       "      <th>Location</th>\n",
       "      <th>Condition</th>\n",
       "      <th>Garage</th>\n",
       "      <th>Price</th>\n",
       "      <th>Accepted</th>\n",
       "    </tr>\n",
       "  </thead>\n",
       "  <tbody>\n",
       "    <tr>\n",
       "      <th>0</th>\n",
       "      <td>1360</td>\n",
       "      <td>5</td>\n",
       "      <td>4</td>\n",
       "      <td>3</td>\n",
       "      <td>1970</td>\n",
       "      <td>Downtown</td>\n",
       "      <td>Excellent</td>\n",
       "      <td>No</td>\n",
       "      <td>149919</td>\n",
       "      <td>1</td>\n",
       "    </tr>\n",
       "    <tr>\n",
       "      <th>1</th>\n",
       "      <td>4272</td>\n",
       "      <td>5</td>\n",
       "      <td>4</td>\n",
       "      <td>3</td>\n",
       "      <td>1958</td>\n",
       "      <td>Downtown</td>\n",
       "      <td>Excellent</td>\n",
       "      <td>No</td>\n",
       "      <td>424998</td>\n",
       "      <td>1</td>\n",
       "    </tr>\n",
       "    <tr>\n",
       "      <th>2</th>\n",
       "      <td>3592</td>\n",
       "      <td>2</td>\n",
       "      <td>2</td>\n",
       "      <td>3</td>\n",
       "      <td>1938</td>\n",
       "      <td>Downtown</td>\n",
       "      <td>Good</td>\n",
       "      <td>No</td>\n",
       "      <td>266746</td>\n",
       "      <td>1</td>\n",
       "    </tr>\n",
       "    <tr>\n",
       "      <th>3</th>\n",
       "      <td>966</td>\n",
       "      <td>4</td>\n",
       "      <td>2</td>\n",
       "      <td>2</td>\n",
       "      <td>1902</td>\n",
       "      <td>Suburban</td>\n",
       "      <td>Fair</td>\n",
       "      <td>Yes</td>\n",
       "      <td>244020</td>\n",
       "      <td>0</td>\n",
       "    </tr>\n",
       "    <tr>\n",
       "      <th>4</th>\n",
       "      <td>4926</td>\n",
       "      <td>1</td>\n",
       "      <td>4</td>\n",
       "      <td>2</td>\n",
       "      <td>1975</td>\n",
       "      <td>Downtown</td>\n",
       "      <td>Fair</td>\n",
       "      <td>Yes</td>\n",
       "      <td>636056</td>\n",
       "      <td>0</td>\n",
       "    </tr>\n",
       "    <tr>\n",
       "      <th>...</th>\n",
       "      <td>...</td>\n",
       "      <td>...</td>\n",
       "      <td>...</td>\n",
       "      <td>...</td>\n",
       "      <td>...</td>\n",
       "      <td>...</td>\n",
       "      <td>...</td>\n",
       "      <td>...</td>\n",
       "      <td>...</td>\n",
       "      <td>...</td>\n",
       "    </tr>\n",
       "    <tr>\n",
       "      <th>1995</th>\n",
       "      <td>4994</td>\n",
       "      <td>5</td>\n",
       "      <td>4</td>\n",
       "      <td>3</td>\n",
       "      <td>1923</td>\n",
       "      <td>Suburban</td>\n",
       "      <td>Poor</td>\n",
       "      <td>No</td>\n",
       "      <td>295620</td>\n",
       "      <td>0</td>\n",
       "    </tr>\n",
       "    <tr>\n",
       "      <th>1996</th>\n",
       "      <td>3046</td>\n",
       "      <td>5</td>\n",
       "      <td>2</td>\n",
       "      <td>1</td>\n",
       "      <td>2019</td>\n",
       "      <td>Suburban</td>\n",
       "      <td>Poor</td>\n",
       "      <td>Yes</td>\n",
       "      <td>580929</td>\n",
       "      <td>0</td>\n",
       "    </tr>\n",
       "    <tr>\n",
       "      <th>1997</th>\n",
       "      <td>1062</td>\n",
       "      <td>5</td>\n",
       "      <td>1</td>\n",
       "      <td>2</td>\n",
       "      <td>1903</td>\n",
       "      <td>Rural</td>\n",
       "      <td>Poor</td>\n",
       "      <td>No</td>\n",
       "      <td>476925</td>\n",
       "      <td>0</td>\n",
       "    </tr>\n",
       "    <tr>\n",
       "      <th>1998</th>\n",
       "      <td>4062</td>\n",
       "      <td>3</td>\n",
       "      <td>1</td>\n",
       "      <td>2</td>\n",
       "      <td>1936</td>\n",
       "      <td>Urban</td>\n",
       "      <td>Excellent</td>\n",
       "      <td>Yes</td>\n",
       "      <td>161119</td>\n",
       "      <td>1</td>\n",
       "    </tr>\n",
       "    <tr>\n",
       "      <th>1999</th>\n",
       "      <td>2989</td>\n",
       "      <td>5</td>\n",
       "      <td>1</td>\n",
       "      <td>3</td>\n",
       "      <td>1903</td>\n",
       "      <td>Suburban</td>\n",
       "      <td>Fair</td>\n",
       "      <td>No</td>\n",
       "      <td>482525</td>\n",
       "      <td>0</td>\n",
       "    </tr>\n",
       "  </tbody>\n",
       "</table>\n",
       "<p>1900 rows × 10 columns</p>\n",
       "</div>"
      ],
      "text/plain": [
       "      Area  Bedrooms  Bathrooms  Floors  YearBuilt  Location  Condition  \\\n",
       "0     1360         5          4       3       1970  Downtown  Excellent   \n",
       "1     4272         5          4       3       1958  Downtown  Excellent   \n",
       "2     3592         2          2       3       1938  Downtown       Good   \n",
       "3      966         4          2       2       1902  Suburban       Fair   \n",
       "4     4926         1          4       2       1975  Downtown       Fair   \n",
       "...    ...       ...        ...     ...        ...       ...        ...   \n",
       "1995  4994         5          4       3       1923  Suburban       Poor   \n",
       "1996  3046         5          2       1       2019  Suburban       Poor   \n",
       "1997  1062         5          1       2       1903     Rural       Poor   \n",
       "1998  4062         3          1       2       1936     Urban  Excellent   \n",
       "1999  2989         5          1       3       1903  Suburban       Fair   \n",
       "\n",
       "     Garage   Price  Accepted  \n",
       "0        No  149919         1  \n",
       "1        No  424998         1  \n",
       "2        No  266746         1  \n",
       "3       Yes  244020         0  \n",
       "4       Yes  636056         0  \n",
       "...     ...     ...       ...  \n",
       "1995     No  295620         0  \n",
       "1996    Yes  580929         0  \n",
       "1997     No  476925         0  \n",
       "1998    Yes  161119         1  \n",
       "1999     No  482525         0  \n",
       "\n",
       "[1900 rows x 10 columns]"
      ]
     },
     "execution_count": 22,
     "metadata": {},
     "output_type": "execute_result"
    }
   ],
   "source": [
    "df"
   ]
  },
  {
   "cell_type": "code",
   "execution_count": 23,
   "id": "3acce53c",
   "metadata": {
    "execution": {
     "iopub.execute_input": "2025-06-27T10:22:23.889682Z",
     "iopub.status.busy": "2025-06-27T10:22:23.889331Z",
     "iopub.status.idle": "2025-06-27T10:22:23.897083Z",
     "shell.execute_reply": "2025-06-27T10:22:23.896067Z"
    },
    "papermill": {
     "duration": 0.022729,
     "end_time": "2025-06-27T10:22:23.898634",
     "exception": false,
     "start_time": "2025-06-27T10:22:23.875905",
     "status": "completed"
    },
    "tags": []
   },
   "outputs": [
    {
     "data": {
      "text/plain": [
       "Bedrooms\n",
       "1    396\n",
       "3    388\n",
       "5    385\n",
       "4    383\n",
       "2    348\n",
       "Name: count, dtype: int64"
      ]
     },
     "execution_count": 23,
     "metadata": {},
     "output_type": "execute_result"
    }
   ],
   "source": [
    "df[\"Bedrooms\"].value_counts()\n"
   ]
  },
  {
   "cell_type": "code",
   "execution_count": 24,
   "id": "17f024e4",
   "metadata": {
    "execution": {
     "iopub.execute_input": "2025-06-27T10:22:23.928052Z",
     "iopub.status.busy": "2025-06-27T10:22:23.927721Z",
     "iopub.status.idle": "2025-06-27T10:22:23.939554Z",
     "shell.execute_reply": "2025-06-27T10:22:23.938641Z"
    },
    "papermill": {
     "duration": 0.028022,
     "end_time": "2025-06-27T10:22:23.941568",
     "exception": false,
     "start_time": "2025-06-27T10:22:23.913546",
     "status": "completed"
    },
    "tags": []
   },
   "outputs": [
    {
     "data": {
      "text/html": [
       "<div>\n",
       "<style scoped>\n",
       "    .dataframe tbody tr th:only-of-type {\n",
       "        vertical-align: middle;\n",
       "    }\n",
       "\n",
       "    .dataframe tbody tr th {\n",
       "        vertical-align: top;\n",
       "    }\n",
       "\n",
       "    .dataframe thead th {\n",
       "        text-align: right;\n",
       "    }\n",
       "</style>\n",
       "<table border=\"1\" class=\"dataframe\">\n",
       "  <thead>\n",
       "    <tr style=\"text-align: right;\">\n",
       "      <th></th>\n",
       "      <th>Area</th>\n",
       "      <th>Bedrooms</th>\n",
       "      <th>Bathrooms</th>\n",
       "      <th>Floors</th>\n",
       "      <th>YearBuilt</th>\n",
       "      <th>Location</th>\n",
       "      <th>Condition</th>\n",
       "      <th>Garage</th>\n",
       "      <th>Price</th>\n",
       "      <th>Accepted</th>\n",
       "    </tr>\n",
       "  </thead>\n",
       "  <tbody>\n",
       "    <tr>\n",
       "      <th>0</th>\n",
       "      <td>1360</td>\n",
       "      <td>5</td>\n",
       "      <td>4</td>\n",
       "      <td>3</td>\n",
       "      <td>1970</td>\n",
       "      <td>Downtown</td>\n",
       "      <td>Excellent</td>\n",
       "      <td>No</td>\n",
       "      <td>149919</td>\n",
       "      <td>1</td>\n",
       "    </tr>\n",
       "    <tr>\n",
       "      <th>1</th>\n",
       "      <td>4272</td>\n",
       "      <td>5</td>\n",
       "      <td>4</td>\n",
       "      <td>3</td>\n",
       "      <td>1958</td>\n",
       "      <td>Downtown</td>\n",
       "      <td>Excellent</td>\n",
       "      <td>No</td>\n",
       "      <td>424998</td>\n",
       "      <td>1</td>\n",
       "    </tr>\n",
       "    <tr>\n",
       "      <th>2</th>\n",
       "      <td>3592</td>\n",
       "      <td>2</td>\n",
       "      <td>2</td>\n",
       "      <td>3</td>\n",
       "      <td>1938</td>\n",
       "      <td>Downtown</td>\n",
       "      <td>Good</td>\n",
       "      <td>No</td>\n",
       "      <td>266746</td>\n",
       "      <td>1</td>\n",
       "    </tr>\n",
       "    <tr>\n",
       "      <th>3</th>\n",
       "      <td>966</td>\n",
       "      <td>4</td>\n",
       "      <td>2</td>\n",
       "      <td>2</td>\n",
       "      <td>1902</td>\n",
       "      <td>Suburban</td>\n",
       "      <td>Fair</td>\n",
       "      <td>Yes</td>\n",
       "      <td>244020</td>\n",
       "      <td>0</td>\n",
       "    </tr>\n",
       "    <tr>\n",
       "      <th>4</th>\n",
       "      <td>4926</td>\n",
       "      <td>1</td>\n",
       "      <td>4</td>\n",
       "      <td>2</td>\n",
       "      <td>1975</td>\n",
       "      <td>Downtown</td>\n",
       "      <td>Fair</td>\n",
       "      <td>Yes</td>\n",
       "      <td>636056</td>\n",
       "      <td>0</td>\n",
       "    </tr>\n",
       "  </tbody>\n",
       "</table>\n",
       "</div>"
      ],
      "text/plain": [
       "   Area  Bedrooms  Bathrooms  Floors  YearBuilt  Location  Condition Garage  \\\n",
       "0  1360         5          4       3       1970  Downtown  Excellent     No   \n",
       "1  4272         5          4       3       1958  Downtown  Excellent     No   \n",
       "2  3592         2          2       3       1938  Downtown       Good     No   \n",
       "3   966         4          2       2       1902  Suburban       Fair    Yes   \n",
       "4  4926         1          4       2       1975  Downtown       Fair    Yes   \n",
       "\n",
       "    Price  Accepted  \n",
       "0  149919         1  \n",
       "1  424998         1  \n",
       "2  266746         1  \n",
       "3  244020         0  \n",
       "4  636056         0  "
      ]
     },
     "execution_count": 24,
     "metadata": {},
     "output_type": "execute_result"
    }
   ],
   "source": [
    "df.head()"
   ]
  },
  {
   "cell_type": "code",
   "execution_count": 25,
   "id": "10d39e78",
   "metadata": {
    "execution": {
     "iopub.execute_input": "2025-06-27T10:22:23.968776Z",
     "iopub.status.busy": "2025-06-27T10:22:23.968324Z",
     "iopub.status.idle": "2025-06-27T10:22:23.985292Z",
     "shell.execute_reply": "2025-06-27T10:22:23.984004Z"
    },
    "papermill": {
     "duration": 0.03265,
     "end_time": "2025-06-27T10:22:23.987072",
     "exception": false,
     "start_time": "2025-06-27T10:22:23.954422",
     "status": "completed"
    },
    "tags": []
   },
   "outputs": [
    {
     "data": {
      "text/plain": [
       "Area  YearBuilt\n",
       "501   1905         1\n",
       "      1955         1\n",
       "502   1909         1\n",
       "503   2012         1\n",
       "504   1925         1\n",
       "                  ..\n",
       "4995  1925         1\n",
       "4996  1943         1\n",
       "      2005         1\n",
       "4997  1918         1\n",
       "4999  1967         1\n",
       "Name: count, Length: 1897, dtype: int64"
      ]
     },
     "execution_count": 25,
     "metadata": {},
     "output_type": "execute_result"
    }
   ],
   "source": [
    "areas=df.groupby(['Area'])['YearBuilt'].value_counts()\n",
    "areas"
   ]
  },
  {
   "cell_type": "code",
   "execution_count": 26,
   "id": "c4ef83af",
   "metadata": {
    "execution": {
     "iopub.execute_input": "2025-06-27T10:22:24.016084Z",
     "iopub.status.busy": "2025-06-27T10:22:24.015773Z",
     "iopub.status.idle": "2025-06-27T10:22:24.029044Z",
     "shell.execute_reply": "2025-06-27T10:22:24.028205Z"
    },
    "papermill": {
     "duration": 0.029749,
     "end_time": "2025-06-27T10:22:24.030535",
     "exception": false,
     "start_time": "2025-06-27T10:22:24.000786",
     "status": "completed"
    },
    "tags": []
   },
   "outputs": [
    {
     "data": {
      "text/html": [
       "<div>\n",
       "<style scoped>\n",
       "    .dataframe tbody tr th:only-of-type {\n",
       "        vertical-align: middle;\n",
       "    }\n",
       "\n",
       "    .dataframe tbody tr th {\n",
       "        vertical-align: top;\n",
       "    }\n",
       "\n",
       "    .dataframe thead th {\n",
       "        text-align: right;\n",
       "    }\n",
       "</style>\n",
       "<table border=\"1\" class=\"dataframe\">\n",
       "  <thead>\n",
       "    <tr style=\"text-align: right;\">\n",
       "      <th></th>\n",
       "      <th>Area</th>\n",
       "      <th>Bedrooms</th>\n",
       "      <th>Bathrooms</th>\n",
       "      <th>Floors</th>\n",
       "      <th>YearBuilt</th>\n",
       "      <th>Location</th>\n",
       "      <th>Condition</th>\n",
       "      <th>Garage</th>\n",
       "      <th>Price</th>\n",
       "      <th>Accepted</th>\n",
       "    </tr>\n",
       "  </thead>\n",
       "  <tbody>\n",
       "    <tr>\n",
       "      <th>0</th>\n",
       "      <td>1360</td>\n",
       "      <td>5</td>\n",
       "      <td>4</td>\n",
       "      <td>3</td>\n",
       "      <td>1970</td>\n",
       "      <td>Downtown</td>\n",
       "      <td>Excellent</td>\n",
       "      <td>No</td>\n",
       "      <td>149919</td>\n",
       "      <td>1</td>\n",
       "    </tr>\n",
       "    <tr>\n",
       "      <th>1</th>\n",
       "      <td>4272</td>\n",
       "      <td>5</td>\n",
       "      <td>4</td>\n",
       "      <td>3</td>\n",
       "      <td>1958</td>\n",
       "      <td>Downtown</td>\n",
       "      <td>Excellent</td>\n",
       "      <td>No</td>\n",
       "      <td>424998</td>\n",
       "      <td>1</td>\n",
       "    </tr>\n",
       "    <tr>\n",
       "      <th>2</th>\n",
       "      <td>3592</td>\n",
       "      <td>2</td>\n",
       "      <td>2</td>\n",
       "      <td>3</td>\n",
       "      <td>1938</td>\n",
       "      <td>Downtown</td>\n",
       "      <td>Good</td>\n",
       "      <td>No</td>\n",
       "      <td>266746</td>\n",
       "      <td>1</td>\n",
       "    </tr>\n",
       "    <tr>\n",
       "      <th>3</th>\n",
       "      <td>966</td>\n",
       "      <td>4</td>\n",
       "      <td>2</td>\n",
       "      <td>2</td>\n",
       "      <td>1902</td>\n",
       "      <td>Suburban</td>\n",
       "      <td>Fair</td>\n",
       "      <td>Yes</td>\n",
       "      <td>244020</td>\n",
       "      <td>0</td>\n",
       "    </tr>\n",
       "    <tr>\n",
       "      <th>4</th>\n",
       "      <td>4926</td>\n",
       "      <td>1</td>\n",
       "      <td>4</td>\n",
       "      <td>2</td>\n",
       "      <td>1975</td>\n",
       "      <td>Downtown</td>\n",
       "      <td>Fair</td>\n",
       "      <td>Yes</td>\n",
       "      <td>636056</td>\n",
       "      <td>0</td>\n",
       "    </tr>\n",
       "    <tr>\n",
       "      <th>...</th>\n",
       "      <td>...</td>\n",
       "      <td>...</td>\n",
       "      <td>...</td>\n",
       "      <td>...</td>\n",
       "      <td>...</td>\n",
       "      <td>...</td>\n",
       "      <td>...</td>\n",
       "      <td>...</td>\n",
       "      <td>...</td>\n",
       "      <td>...</td>\n",
       "    </tr>\n",
       "    <tr>\n",
       "      <th>1995</th>\n",
       "      <td>4994</td>\n",
       "      <td>5</td>\n",
       "      <td>4</td>\n",
       "      <td>3</td>\n",
       "      <td>1923</td>\n",
       "      <td>Suburban</td>\n",
       "      <td>Poor</td>\n",
       "      <td>No</td>\n",
       "      <td>295620</td>\n",
       "      <td>0</td>\n",
       "    </tr>\n",
       "    <tr>\n",
       "      <th>1996</th>\n",
       "      <td>3046</td>\n",
       "      <td>5</td>\n",
       "      <td>2</td>\n",
       "      <td>1</td>\n",
       "      <td>2019</td>\n",
       "      <td>Suburban</td>\n",
       "      <td>Poor</td>\n",
       "      <td>Yes</td>\n",
       "      <td>580929</td>\n",
       "      <td>0</td>\n",
       "    </tr>\n",
       "    <tr>\n",
       "      <th>1997</th>\n",
       "      <td>1062</td>\n",
       "      <td>5</td>\n",
       "      <td>1</td>\n",
       "      <td>2</td>\n",
       "      <td>1903</td>\n",
       "      <td>Rural</td>\n",
       "      <td>Poor</td>\n",
       "      <td>No</td>\n",
       "      <td>476925</td>\n",
       "      <td>0</td>\n",
       "    </tr>\n",
       "    <tr>\n",
       "      <th>1998</th>\n",
       "      <td>4062</td>\n",
       "      <td>3</td>\n",
       "      <td>1</td>\n",
       "      <td>2</td>\n",
       "      <td>1936</td>\n",
       "      <td>Urban</td>\n",
       "      <td>Excellent</td>\n",
       "      <td>Yes</td>\n",
       "      <td>161119</td>\n",
       "      <td>1</td>\n",
       "    </tr>\n",
       "    <tr>\n",
       "      <th>1999</th>\n",
       "      <td>2989</td>\n",
       "      <td>5</td>\n",
       "      <td>1</td>\n",
       "      <td>3</td>\n",
       "      <td>1903</td>\n",
       "      <td>Suburban</td>\n",
       "      <td>Fair</td>\n",
       "      <td>No</td>\n",
       "      <td>482525</td>\n",
       "      <td>0</td>\n",
       "    </tr>\n",
       "  </tbody>\n",
       "</table>\n",
       "<p>1900 rows × 10 columns</p>\n",
       "</div>"
      ],
      "text/plain": [
       "      Area  Bedrooms  Bathrooms  Floors  YearBuilt  Location  Condition  \\\n",
       "0     1360         5          4       3       1970  Downtown  Excellent   \n",
       "1     4272         5          4       3       1958  Downtown  Excellent   \n",
       "2     3592         2          2       3       1938  Downtown       Good   \n",
       "3      966         4          2       2       1902  Suburban       Fair   \n",
       "4     4926         1          4       2       1975  Downtown       Fair   \n",
       "...    ...       ...        ...     ...        ...       ...        ...   \n",
       "1995  4994         5          4       3       1923  Suburban       Poor   \n",
       "1996  3046         5          2       1       2019  Suburban       Poor   \n",
       "1997  1062         5          1       2       1903     Rural       Poor   \n",
       "1998  4062         3          1       2       1936     Urban  Excellent   \n",
       "1999  2989         5          1       3       1903  Suburban       Fair   \n",
       "\n",
       "     Garage   Price  Accepted  \n",
       "0        No  149919         1  \n",
       "1        No  424998         1  \n",
       "2        No  266746         1  \n",
       "3       Yes  244020         0  \n",
       "4       Yes  636056         0  \n",
       "...     ...     ...       ...  \n",
       "1995     No  295620         0  \n",
       "1996    Yes  580929         0  \n",
       "1997     No  476925         0  \n",
       "1998    Yes  161119         1  \n",
       "1999     No  482525         0  \n",
       "\n",
       "[1900 rows x 10 columns]"
      ]
     },
     "execution_count": 26,
     "metadata": {},
     "output_type": "execute_result"
    }
   ],
   "source": [
    "df"
   ]
  },
  {
   "cell_type": "code",
   "execution_count": 27,
   "id": "56f015b9",
   "metadata": {
    "execution": {
     "iopub.execute_input": "2025-06-27T10:22:24.059341Z",
     "iopub.status.busy": "2025-06-27T10:22:24.058992Z",
     "iopub.status.idle": "2025-06-27T10:22:24.064618Z",
     "shell.execute_reply": "2025-06-27T10:22:24.063704Z"
    },
    "papermill": {
     "duration": 0.022409,
     "end_time": "2025-06-27T10:22:24.066130",
     "exception": false,
     "start_time": "2025-06-27T10:22:24.043721",
     "status": "completed"
    },
    "tags": []
   },
   "outputs": [],
   "source": [
    "x=df.drop(columns=['Price'])\n",
    "y=df['Price']"
   ]
  },
  {
   "cell_type": "code",
   "execution_count": 28,
   "id": "14c09bda",
   "metadata": {
    "execution": {
     "iopub.execute_input": "2025-06-27T10:22:24.095307Z",
     "iopub.status.busy": "2025-06-27T10:22:24.094986Z",
     "iopub.status.idle": "2025-06-27T10:22:24.108555Z",
     "shell.execute_reply": "2025-06-27T10:22:24.107411Z"
    },
    "papermill": {
     "duration": 0.03035,
     "end_time": "2025-06-27T10:22:24.110303",
     "exception": false,
     "start_time": "2025-06-27T10:22:24.079953",
     "status": "completed"
    },
    "tags": []
   },
   "outputs": [
    {
     "data": {
      "text/html": [
       "<div>\n",
       "<style scoped>\n",
       "    .dataframe tbody tr th:only-of-type {\n",
       "        vertical-align: middle;\n",
       "    }\n",
       "\n",
       "    .dataframe tbody tr th {\n",
       "        vertical-align: top;\n",
       "    }\n",
       "\n",
       "    .dataframe thead th {\n",
       "        text-align: right;\n",
       "    }\n",
       "</style>\n",
       "<table border=\"1\" class=\"dataframe\">\n",
       "  <thead>\n",
       "    <tr style=\"text-align: right;\">\n",
       "      <th></th>\n",
       "      <th>Area</th>\n",
       "      <th>Bedrooms</th>\n",
       "      <th>Bathrooms</th>\n",
       "      <th>Floors</th>\n",
       "      <th>YearBuilt</th>\n",
       "      <th>Location</th>\n",
       "      <th>Condition</th>\n",
       "      <th>Garage</th>\n",
       "      <th>Accepted</th>\n",
       "    </tr>\n",
       "  </thead>\n",
       "  <tbody>\n",
       "    <tr>\n",
       "      <th>0</th>\n",
       "      <td>1360</td>\n",
       "      <td>5</td>\n",
       "      <td>4</td>\n",
       "      <td>3</td>\n",
       "      <td>1970</td>\n",
       "      <td>Downtown</td>\n",
       "      <td>Excellent</td>\n",
       "      <td>No</td>\n",
       "      <td>1</td>\n",
       "    </tr>\n",
       "    <tr>\n",
       "      <th>1</th>\n",
       "      <td>4272</td>\n",
       "      <td>5</td>\n",
       "      <td>4</td>\n",
       "      <td>3</td>\n",
       "      <td>1958</td>\n",
       "      <td>Downtown</td>\n",
       "      <td>Excellent</td>\n",
       "      <td>No</td>\n",
       "      <td>1</td>\n",
       "    </tr>\n",
       "    <tr>\n",
       "      <th>2</th>\n",
       "      <td>3592</td>\n",
       "      <td>2</td>\n",
       "      <td>2</td>\n",
       "      <td>3</td>\n",
       "      <td>1938</td>\n",
       "      <td>Downtown</td>\n",
       "      <td>Good</td>\n",
       "      <td>No</td>\n",
       "      <td>1</td>\n",
       "    </tr>\n",
       "    <tr>\n",
       "      <th>3</th>\n",
       "      <td>966</td>\n",
       "      <td>4</td>\n",
       "      <td>2</td>\n",
       "      <td>2</td>\n",
       "      <td>1902</td>\n",
       "      <td>Suburban</td>\n",
       "      <td>Fair</td>\n",
       "      <td>Yes</td>\n",
       "      <td>0</td>\n",
       "    </tr>\n",
       "    <tr>\n",
       "      <th>4</th>\n",
       "      <td>4926</td>\n",
       "      <td>1</td>\n",
       "      <td>4</td>\n",
       "      <td>2</td>\n",
       "      <td>1975</td>\n",
       "      <td>Downtown</td>\n",
       "      <td>Fair</td>\n",
       "      <td>Yes</td>\n",
       "      <td>0</td>\n",
       "    </tr>\n",
       "    <tr>\n",
       "      <th>...</th>\n",
       "      <td>...</td>\n",
       "      <td>...</td>\n",
       "      <td>...</td>\n",
       "      <td>...</td>\n",
       "      <td>...</td>\n",
       "      <td>...</td>\n",
       "      <td>...</td>\n",
       "      <td>...</td>\n",
       "      <td>...</td>\n",
       "    </tr>\n",
       "    <tr>\n",
       "      <th>1995</th>\n",
       "      <td>4994</td>\n",
       "      <td>5</td>\n",
       "      <td>4</td>\n",
       "      <td>3</td>\n",
       "      <td>1923</td>\n",
       "      <td>Suburban</td>\n",
       "      <td>Poor</td>\n",
       "      <td>No</td>\n",
       "      <td>0</td>\n",
       "    </tr>\n",
       "    <tr>\n",
       "      <th>1996</th>\n",
       "      <td>3046</td>\n",
       "      <td>5</td>\n",
       "      <td>2</td>\n",
       "      <td>1</td>\n",
       "      <td>2019</td>\n",
       "      <td>Suburban</td>\n",
       "      <td>Poor</td>\n",
       "      <td>Yes</td>\n",
       "      <td>0</td>\n",
       "    </tr>\n",
       "    <tr>\n",
       "      <th>1997</th>\n",
       "      <td>1062</td>\n",
       "      <td>5</td>\n",
       "      <td>1</td>\n",
       "      <td>2</td>\n",
       "      <td>1903</td>\n",
       "      <td>Rural</td>\n",
       "      <td>Poor</td>\n",
       "      <td>No</td>\n",
       "      <td>0</td>\n",
       "    </tr>\n",
       "    <tr>\n",
       "      <th>1998</th>\n",
       "      <td>4062</td>\n",
       "      <td>3</td>\n",
       "      <td>1</td>\n",
       "      <td>2</td>\n",
       "      <td>1936</td>\n",
       "      <td>Urban</td>\n",
       "      <td>Excellent</td>\n",
       "      <td>Yes</td>\n",
       "      <td>1</td>\n",
       "    </tr>\n",
       "    <tr>\n",
       "      <th>1999</th>\n",
       "      <td>2989</td>\n",
       "      <td>5</td>\n",
       "      <td>1</td>\n",
       "      <td>3</td>\n",
       "      <td>1903</td>\n",
       "      <td>Suburban</td>\n",
       "      <td>Fair</td>\n",
       "      <td>No</td>\n",
       "      <td>0</td>\n",
       "    </tr>\n",
       "  </tbody>\n",
       "</table>\n",
       "<p>1900 rows × 9 columns</p>\n",
       "</div>"
      ],
      "text/plain": [
       "      Area  Bedrooms  Bathrooms  Floors  YearBuilt  Location  Condition  \\\n",
       "0     1360         5          4       3       1970  Downtown  Excellent   \n",
       "1     4272         5          4       3       1958  Downtown  Excellent   \n",
       "2     3592         2          2       3       1938  Downtown       Good   \n",
       "3      966         4          2       2       1902  Suburban       Fair   \n",
       "4     4926         1          4       2       1975  Downtown       Fair   \n",
       "...    ...       ...        ...     ...        ...       ...        ...   \n",
       "1995  4994         5          4       3       1923  Suburban       Poor   \n",
       "1996  3046         5          2       1       2019  Suburban       Poor   \n",
       "1997  1062         5          1       2       1903     Rural       Poor   \n",
       "1998  4062         3          1       2       1936     Urban  Excellent   \n",
       "1999  2989         5          1       3       1903  Suburban       Fair   \n",
       "\n",
       "     Garage  Accepted  \n",
       "0        No         1  \n",
       "1        No         1  \n",
       "2        No         1  \n",
       "3       Yes         0  \n",
       "4       Yes         0  \n",
       "...     ...       ...  \n",
       "1995     No         0  \n",
       "1996    Yes         0  \n",
       "1997     No         0  \n",
       "1998    Yes         1  \n",
       "1999     No         0  \n",
       "\n",
       "[1900 rows x 9 columns]"
      ]
     },
     "execution_count": 28,
     "metadata": {},
     "output_type": "execute_result"
    }
   ],
   "source": [
    "x"
   ]
  },
  {
   "cell_type": "code",
   "execution_count": 29,
   "id": "adb44bc5",
   "metadata": {
    "execution": {
     "iopub.execute_input": "2025-06-27T10:22:24.139121Z",
     "iopub.status.busy": "2025-06-27T10:22:24.138817Z",
     "iopub.status.idle": "2025-06-27T10:22:24.146200Z",
     "shell.execute_reply": "2025-06-27T10:22:24.145142Z"
    },
    "papermill": {
     "duration": 0.023161,
     "end_time": "2025-06-27T10:22:24.147820",
     "exception": false,
     "start_time": "2025-06-27T10:22:24.124659",
     "status": "completed"
    },
    "tags": []
   },
   "outputs": [
    {
     "data": {
      "text/plain": [
       "0       149919\n",
       "1       424998\n",
       "2       266746\n",
       "3       244020\n",
       "4       636056\n",
       "         ...  \n",
       "1995    295620\n",
       "1996    580929\n",
       "1997    476925\n",
       "1998    161119\n",
       "1999    482525\n",
       "Name: Price, Length: 1900, dtype: int64"
      ]
     },
     "execution_count": 29,
     "metadata": {},
     "output_type": "execute_result"
    }
   ],
   "source": [
    "y"
   ]
  },
  {
   "cell_type": "code",
   "execution_count": 30,
   "id": "bfe8e908",
   "metadata": {
    "execution": {
     "iopub.execute_input": "2025-06-27T10:22:24.176818Z",
     "iopub.status.busy": "2025-06-27T10:22:24.176517Z",
     "iopub.status.idle": "2025-06-27T10:22:24.184292Z",
     "shell.execute_reply": "2025-06-27T10:22:24.183379Z"
    },
    "papermill": {
     "duration": 0.024014,
     "end_time": "2025-06-27T10:22:24.185926",
     "exception": false,
     "start_time": "2025-06-27T10:22:24.161912",
     "status": "completed"
    },
    "tags": []
   },
   "outputs": [],
   "source": [
    "encoder = LabelEncoder()\n",
    "x['Condition'] = encoder.fit_transform(df['Condition'])\n",
    "x['Location'] = encoder.fit_transform(df['Location'])\n",
    "x['Garage'] = encoder.fit_transform(df['Garage'])\n"
   ]
  },
  {
   "cell_type": "code",
   "execution_count": 31,
   "id": "e8ab4866",
   "metadata": {
    "execution": {
     "iopub.execute_input": "2025-06-27T10:22:24.215795Z",
     "iopub.status.busy": "2025-06-27T10:22:24.215434Z",
     "iopub.status.idle": "2025-06-27T10:22:24.227839Z",
     "shell.execute_reply": "2025-06-27T10:22:24.226961Z"
    },
    "papermill": {
     "duration": 0.029375,
     "end_time": "2025-06-27T10:22:24.229287",
     "exception": false,
     "start_time": "2025-06-27T10:22:24.199912",
     "status": "completed"
    },
    "tags": []
   },
   "outputs": [
    {
     "data": {
      "text/html": [
       "<div>\n",
       "<style scoped>\n",
       "    .dataframe tbody tr th:only-of-type {\n",
       "        vertical-align: middle;\n",
       "    }\n",
       "\n",
       "    .dataframe tbody tr th {\n",
       "        vertical-align: top;\n",
       "    }\n",
       "\n",
       "    .dataframe thead th {\n",
       "        text-align: right;\n",
       "    }\n",
       "</style>\n",
       "<table border=\"1\" class=\"dataframe\">\n",
       "  <thead>\n",
       "    <tr style=\"text-align: right;\">\n",
       "      <th></th>\n",
       "      <th>Area</th>\n",
       "      <th>Bedrooms</th>\n",
       "      <th>Bathrooms</th>\n",
       "      <th>Floors</th>\n",
       "      <th>YearBuilt</th>\n",
       "      <th>Location</th>\n",
       "      <th>Condition</th>\n",
       "      <th>Garage</th>\n",
       "      <th>Accepted</th>\n",
       "    </tr>\n",
       "  </thead>\n",
       "  <tbody>\n",
       "    <tr>\n",
       "      <th>0</th>\n",
       "      <td>1360</td>\n",
       "      <td>5</td>\n",
       "      <td>4</td>\n",
       "      <td>3</td>\n",
       "      <td>1970</td>\n",
       "      <td>0</td>\n",
       "      <td>0</td>\n",
       "      <td>0</td>\n",
       "      <td>1</td>\n",
       "    </tr>\n",
       "    <tr>\n",
       "      <th>1</th>\n",
       "      <td>4272</td>\n",
       "      <td>5</td>\n",
       "      <td>4</td>\n",
       "      <td>3</td>\n",
       "      <td>1958</td>\n",
       "      <td>0</td>\n",
       "      <td>0</td>\n",
       "      <td>0</td>\n",
       "      <td>1</td>\n",
       "    </tr>\n",
       "    <tr>\n",
       "      <th>2</th>\n",
       "      <td>3592</td>\n",
       "      <td>2</td>\n",
       "      <td>2</td>\n",
       "      <td>3</td>\n",
       "      <td>1938</td>\n",
       "      <td>0</td>\n",
       "      <td>2</td>\n",
       "      <td>0</td>\n",
       "      <td>1</td>\n",
       "    </tr>\n",
       "    <tr>\n",
       "      <th>3</th>\n",
       "      <td>966</td>\n",
       "      <td>4</td>\n",
       "      <td>2</td>\n",
       "      <td>2</td>\n",
       "      <td>1902</td>\n",
       "      <td>2</td>\n",
       "      <td>1</td>\n",
       "      <td>1</td>\n",
       "      <td>0</td>\n",
       "    </tr>\n",
       "    <tr>\n",
       "      <th>4</th>\n",
       "      <td>4926</td>\n",
       "      <td>1</td>\n",
       "      <td>4</td>\n",
       "      <td>2</td>\n",
       "      <td>1975</td>\n",
       "      <td>0</td>\n",
       "      <td>1</td>\n",
       "      <td>1</td>\n",
       "      <td>0</td>\n",
       "    </tr>\n",
       "    <tr>\n",
       "      <th>...</th>\n",
       "      <td>...</td>\n",
       "      <td>...</td>\n",
       "      <td>...</td>\n",
       "      <td>...</td>\n",
       "      <td>...</td>\n",
       "      <td>...</td>\n",
       "      <td>...</td>\n",
       "      <td>...</td>\n",
       "      <td>...</td>\n",
       "    </tr>\n",
       "    <tr>\n",
       "      <th>1995</th>\n",
       "      <td>4994</td>\n",
       "      <td>5</td>\n",
       "      <td>4</td>\n",
       "      <td>3</td>\n",
       "      <td>1923</td>\n",
       "      <td>2</td>\n",
       "      <td>3</td>\n",
       "      <td>0</td>\n",
       "      <td>0</td>\n",
       "    </tr>\n",
       "    <tr>\n",
       "      <th>1996</th>\n",
       "      <td>3046</td>\n",
       "      <td>5</td>\n",
       "      <td>2</td>\n",
       "      <td>1</td>\n",
       "      <td>2019</td>\n",
       "      <td>2</td>\n",
       "      <td>3</td>\n",
       "      <td>1</td>\n",
       "      <td>0</td>\n",
       "    </tr>\n",
       "    <tr>\n",
       "      <th>1997</th>\n",
       "      <td>1062</td>\n",
       "      <td>5</td>\n",
       "      <td>1</td>\n",
       "      <td>2</td>\n",
       "      <td>1903</td>\n",
       "      <td>1</td>\n",
       "      <td>3</td>\n",
       "      <td>0</td>\n",
       "      <td>0</td>\n",
       "    </tr>\n",
       "    <tr>\n",
       "      <th>1998</th>\n",
       "      <td>4062</td>\n",
       "      <td>3</td>\n",
       "      <td>1</td>\n",
       "      <td>2</td>\n",
       "      <td>1936</td>\n",
       "      <td>3</td>\n",
       "      <td>0</td>\n",
       "      <td>1</td>\n",
       "      <td>1</td>\n",
       "    </tr>\n",
       "    <tr>\n",
       "      <th>1999</th>\n",
       "      <td>2989</td>\n",
       "      <td>5</td>\n",
       "      <td>1</td>\n",
       "      <td>3</td>\n",
       "      <td>1903</td>\n",
       "      <td>2</td>\n",
       "      <td>1</td>\n",
       "      <td>0</td>\n",
       "      <td>0</td>\n",
       "    </tr>\n",
       "  </tbody>\n",
       "</table>\n",
       "<p>1900 rows × 9 columns</p>\n",
       "</div>"
      ],
      "text/plain": [
       "      Area  Bedrooms  Bathrooms  Floors  YearBuilt  Location  Condition  \\\n",
       "0     1360         5          4       3       1970         0          0   \n",
       "1     4272         5          4       3       1958         0          0   \n",
       "2     3592         2          2       3       1938         0          2   \n",
       "3      966         4          2       2       1902         2          1   \n",
       "4     4926         1          4       2       1975         0          1   \n",
       "...    ...       ...        ...     ...        ...       ...        ...   \n",
       "1995  4994         5          4       3       1923         2          3   \n",
       "1996  3046         5          2       1       2019         2          3   \n",
       "1997  1062         5          1       2       1903         1          3   \n",
       "1998  4062         3          1       2       1936         3          0   \n",
       "1999  2989         5          1       3       1903         2          1   \n",
       "\n",
       "      Garage  Accepted  \n",
       "0          0         1  \n",
       "1          0         1  \n",
       "2          0         1  \n",
       "3          1         0  \n",
       "4          1         0  \n",
       "...      ...       ...  \n",
       "1995       0         0  \n",
       "1996       1         0  \n",
       "1997       0         0  \n",
       "1998       1         1  \n",
       "1999       0         0  \n",
       "\n",
       "[1900 rows x 9 columns]"
      ]
     },
     "execution_count": 31,
     "metadata": {},
     "output_type": "execute_result"
    }
   ],
   "source": [
    "x"
   ]
  },
  {
   "cell_type": "code",
   "execution_count": 32,
   "id": "8d75a9c7",
   "metadata": {
    "execution": {
     "iopub.execute_input": "2025-06-27T10:22:24.258972Z",
     "iopub.status.busy": "2025-06-27T10:22:24.258016Z",
     "iopub.status.idle": "2025-06-27T10:22:24.266836Z",
     "shell.execute_reply": "2025-06-27T10:22:24.265668Z"
    },
    "papermill": {
     "duration": 0.025859,
     "end_time": "2025-06-27T10:22:24.268920",
     "exception": false,
     "start_time": "2025-06-27T10:22:24.243061",
     "status": "completed"
    },
    "tags": []
   },
   "outputs": [],
   "source": [
    "scaler = MinMaxScaler()\n",
    "x['Area'] = scaler.fit_transform(x[['Area']])"
   ]
  },
  {
   "cell_type": "code",
   "execution_count": 33,
   "id": "6084e622",
   "metadata": {
    "execution": {
     "iopub.execute_input": "2025-06-27T10:22:24.299514Z",
     "iopub.status.busy": "2025-06-27T10:22:24.298647Z",
     "iopub.status.idle": "2025-06-27T10:22:24.306887Z",
     "shell.execute_reply": "2025-06-27T10:22:24.305974Z"
    },
    "papermill": {
     "duration": 0.026046,
     "end_time": "2025-06-27T10:22:24.308746",
     "exception": false,
     "start_time": "2025-06-27T10:22:24.282700",
     "status": "completed"
    },
    "tags": []
   },
   "outputs": [],
   "source": [
    "x_train , x_test , y_train ,y_test = train_test_split(x,y,train_size=0.8, shuffle=True, random_state=True)"
   ]
  },
  {
   "cell_type": "code",
   "execution_count": 34,
   "id": "6ffff371",
   "metadata": {
    "execution": {
     "iopub.execute_input": "2025-06-27T10:22:24.338150Z",
     "iopub.status.busy": "2025-06-27T10:22:24.337823Z",
     "iopub.status.idle": "2025-06-27T10:22:24.351378Z",
     "shell.execute_reply": "2025-06-27T10:22:24.350262Z"
    },
    "papermill": {
     "duration": 0.030058,
     "end_time": "2025-06-27T10:22:24.353002",
     "exception": false,
     "start_time": "2025-06-27T10:22:24.322944",
     "status": "completed"
    },
    "tags": []
   },
   "outputs": [
    {
     "data": {
      "text/html": [
       "<div>\n",
       "<style scoped>\n",
       "    .dataframe tbody tr th:only-of-type {\n",
       "        vertical-align: middle;\n",
       "    }\n",
       "\n",
       "    .dataframe tbody tr th {\n",
       "        vertical-align: top;\n",
       "    }\n",
       "\n",
       "    .dataframe thead th {\n",
       "        text-align: right;\n",
       "    }\n",
       "</style>\n",
       "<table border=\"1\" class=\"dataframe\">\n",
       "  <thead>\n",
       "    <tr style=\"text-align: right;\">\n",
       "      <th></th>\n",
       "      <th>Area</th>\n",
       "      <th>Bedrooms</th>\n",
       "      <th>Bathrooms</th>\n",
       "      <th>Floors</th>\n",
       "      <th>YearBuilt</th>\n",
       "      <th>Location</th>\n",
       "      <th>Condition</th>\n",
       "      <th>Garage</th>\n",
       "      <th>Accepted</th>\n",
       "    </tr>\n",
       "  </thead>\n",
       "  <tbody>\n",
       "    <tr>\n",
       "      <th>1987</th>\n",
       "      <td>0.686305</td>\n",
       "      <td>4</td>\n",
       "      <td>1</td>\n",
       "      <td>3</td>\n",
       "      <td>1929</td>\n",
       "      <td>3</td>\n",
       "      <td>3</td>\n",
       "      <td>0</td>\n",
       "      <td>0</td>\n",
       "    </tr>\n",
       "    <tr>\n",
       "      <th>1087</th>\n",
       "      <td>0.865496</td>\n",
       "      <td>4</td>\n",
       "      <td>3</td>\n",
       "      <td>2</td>\n",
       "      <td>2004</td>\n",
       "      <td>3</td>\n",
       "      <td>0</td>\n",
       "      <td>0</td>\n",
       "      <td>1</td>\n",
       "    </tr>\n",
       "    <tr>\n",
       "      <th>1816</th>\n",
       "      <td>0.826590</td>\n",
       "      <td>1</td>\n",
       "      <td>1</td>\n",
       "      <td>1</td>\n",
       "      <td>2001</td>\n",
       "      <td>0</td>\n",
       "      <td>0</td>\n",
       "      <td>1</td>\n",
       "      <td>1</td>\n",
       "    </tr>\n",
       "    <tr>\n",
       "      <th>905</th>\n",
       "      <td>0.267675</td>\n",
       "      <td>3</td>\n",
       "      <td>1</td>\n",
       "      <td>2</td>\n",
       "      <td>1996</td>\n",
       "      <td>0</td>\n",
       "      <td>2</td>\n",
       "      <td>1</td>\n",
       "      <td>1</td>\n",
       "    </tr>\n",
       "    <tr>\n",
       "      <th>1487</th>\n",
       "      <td>0.460205</td>\n",
       "      <td>3</td>\n",
       "      <td>3</td>\n",
       "      <td>3</td>\n",
       "      <td>1962</td>\n",
       "      <td>3</td>\n",
       "      <td>1</td>\n",
       "      <td>1</td>\n",
       "      <td>0</td>\n",
       "    </tr>\n",
       "    <tr>\n",
       "      <th>...</th>\n",
       "      <td>...</td>\n",
       "      <td>...</td>\n",
       "      <td>...</td>\n",
       "      <td>...</td>\n",
       "      <td>...</td>\n",
       "      <td>...</td>\n",
       "      <td>...</td>\n",
       "      <td>...</td>\n",
       "      <td>...</td>\n",
       "    </tr>\n",
       "    <tr>\n",
       "      <th>948</th>\n",
       "      <td>0.422410</td>\n",
       "      <td>4</td>\n",
       "      <td>1</td>\n",
       "      <td>3</td>\n",
       "      <td>1933</td>\n",
       "      <td>3</td>\n",
       "      <td>3</td>\n",
       "      <td>0</td>\n",
       "      <td>0</td>\n",
       "    </tr>\n",
       "    <tr>\n",
       "      <th>1886</th>\n",
       "      <td>0.120276</td>\n",
       "      <td>4</td>\n",
       "      <td>3</td>\n",
       "      <td>2</td>\n",
       "      <td>1923</td>\n",
       "      <td>0</td>\n",
       "      <td>1</td>\n",
       "      <td>0</td>\n",
       "      <td>0</td>\n",
       "    </tr>\n",
       "    <tr>\n",
       "      <th>1152</th>\n",
       "      <td>0.916630</td>\n",
       "      <td>5</td>\n",
       "      <td>4</td>\n",
       "      <td>1</td>\n",
       "      <td>1954</td>\n",
       "      <td>0</td>\n",
       "      <td>2</td>\n",
       "      <td>0</td>\n",
       "      <td>1</td>\n",
       "    </tr>\n",
       "    <tr>\n",
       "      <th>249</th>\n",
       "      <td>0.276123</td>\n",
       "      <td>1</td>\n",
       "      <td>3</td>\n",
       "      <td>3</td>\n",
       "      <td>1923</td>\n",
       "      <td>2</td>\n",
       "      <td>2</td>\n",
       "      <td>1</td>\n",
       "      <td>1</td>\n",
       "    </tr>\n",
       "    <tr>\n",
       "      <th>1111</th>\n",
       "      <td>0.984660</td>\n",
       "      <td>3</td>\n",
       "      <td>2</td>\n",
       "      <td>2</td>\n",
       "      <td>1954</td>\n",
       "      <td>1</td>\n",
       "      <td>2</td>\n",
       "      <td>0</td>\n",
       "      <td>1</td>\n",
       "    </tr>\n",
       "  </tbody>\n",
       "</table>\n",
       "<p>1520 rows × 9 columns</p>\n",
       "</div>"
      ],
      "text/plain": [
       "          Area  Bedrooms  Bathrooms  Floors  YearBuilt  Location  Condition  \\\n",
       "1987  0.686305         4          1       3       1929         3          3   \n",
       "1087  0.865496         4          3       2       2004         3          0   \n",
       "1816  0.826590         1          1       1       2001         0          0   \n",
       "905   0.267675         3          1       2       1996         0          2   \n",
       "1487  0.460205         3          3       3       1962         3          1   \n",
       "...        ...       ...        ...     ...        ...       ...        ...   \n",
       "948   0.422410         4          1       3       1933         3          3   \n",
       "1886  0.120276         4          3       2       1923         0          1   \n",
       "1152  0.916630         5          4       1       1954         0          2   \n",
       "249   0.276123         1          3       3       1923         2          2   \n",
       "1111  0.984660         3          2       2       1954         1          2   \n",
       "\n",
       "      Garage  Accepted  \n",
       "1987       0         0  \n",
       "1087       0         1  \n",
       "1816       1         1  \n",
       "905        1         1  \n",
       "1487       1         0  \n",
       "...      ...       ...  \n",
       "948        0         0  \n",
       "1886       0         0  \n",
       "1152       0         1  \n",
       "249        1         1  \n",
       "1111       0         1  \n",
       "\n",
       "[1520 rows x 9 columns]"
      ]
     },
     "execution_count": 34,
     "metadata": {},
     "output_type": "execute_result"
    }
   ],
   "source": [
    "x_train\n"
   ]
  },
  {
   "cell_type": "code",
   "execution_count": 35,
   "id": "eb5312e6",
   "metadata": {
    "execution": {
     "iopub.execute_input": "2025-06-27T10:22:24.382792Z",
     "iopub.status.busy": "2025-06-27T10:22:24.382343Z",
     "iopub.status.idle": "2025-06-27T10:22:24.390744Z",
     "shell.execute_reply": "2025-06-27T10:22:24.388853Z"
    },
    "papermill": {
     "duration": 0.025762,
     "end_time": "2025-06-27T10:22:24.392942",
     "exception": false,
     "start_time": "2025-06-27T10:22:24.367180",
     "status": "completed"
    },
    "tags": []
   },
   "outputs": [
    {
     "data": {
      "text/plain": [
       "1987     59765\n",
       "1087    325871\n",
       "1816    352468\n",
       "905     650243\n",
       "1487    493884\n",
       "         ...  \n",
       "948     297145\n",
       "1886    264776\n",
       "1152    487538\n",
       "249     178824\n",
       "1111     56457\n",
       "Name: Price, Length: 1520, dtype: int64"
      ]
     },
     "execution_count": 35,
     "metadata": {},
     "output_type": "execute_result"
    }
   ],
   "source": [
    "y_train"
   ]
  },
  {
   "cell_type": "code",
   "execution_count": 36,
   "id": "d94e6745",
   "metadata": {
    "execution": {
     "iopub.execute_input": "2025-06-27T10:22:24.425340Z",
     "iopub.status.busy": "2025-06-27T10:22:24.424550Z",
     "iopub.status.idle": "2025-06-27T10:22:24.464029Z",
     "shell.execute_reply": "2025-06-27T10:22:24.463101Z"
    },
    "papermill": {
     "duration": 0.057193,
     "end_time": "2025-06-27T10:22:24.465678",
     "exception": false,
     "start_time": "2025-06-27T10:22:24.408485",
     "status": "completed"
    },
    "tags": []
   },
   "outputs": [
    {
     "data": {
      "text/html": [
       "<style>#sk-container-id-1 {color: black;background-color: white;}#sk-container-id-1 pre{padding: 0;}#sk-container-id-1 div.sk-toggleable {background-color: white;}#sk-container-id-1 label.sk-toggleable__label {cursor: pointer;display: block;width: 100%;margin-bottom: 0;padding: 0.3em;box-sizing: border-box;text-align: center;}#sk-container-id-1 label.sk-toggleable__label-arrow:before {content: \"▸\";float: left;margin-right: 0.25em;color: #696969;}#sk-container-id-1 label.sk-toggleable__label-arrow:hover:before {color: black;}#sk-container-id-1 div.sk-estimator:hover label.sk-toggleable__label-arrow:before {color: black;}#sk-container-id-1 div.sk-toggleable__content {max-height: 0;max-width: 0;overflow: hidden;text-align: left;background-color: #f0f8ff;}#sk-container-id-1 div.sk-toggleable__content pre {margin: 0.2em;color: black;border-radius: 0.25em;background-color: #f0f8ff;}#sk-container-id-1 input.sk-toggleable__control:checked~div.sk-toggleable__content {max-height: 200px;max-width: 100%;overflow: auto;}#sk-container-id-1 input.sk-toggleable__control:checked~label.sk-toggleable__label-arrow:before {content: \"▾\";}#sk-container-id-1 div.sk-estimator input.sk-toggleable__control:checked~label.sk-toggleable__label {background-color: #d4ebff;}#sk-container-id-1 div.sk-label input.sk-toggleable__control:checked~label.sk-toggleable__label {background-color: #d4ebff;}#sk-container-id-1 input.sk-hidden--visually {border: 0;clip: rect(1px 1px 1px 1px);clip: rect(1px, 1px, 1px, 1px);height: 1px;margin: -1px;overflow: hidden;padding: 0;position: absolute;width: 1px;}#sk-container-id-1 div.sk-estimator {font-family: monospace;background-color: #f0f8ff;border: 1px dotted black;border-radius: 0.25em;box-sizing: border-box;margin-bottom: 0.5em;}#sk-container-id-1 div.sk-estimator:hover {background-color: #d4ebff;}#sk-container-id-1 div.sk-parallel-item::after {content: \"\";width: 100%;border-bottom: 1px solid gray;flex-grow: 1;}#sk-container-id-1 div.sk-label:hover label.sk-toggleable__label {background-color: #d4ebff;}#sk-container-id-1 div.sk-serial::before {content: \"\";position: absolute;border-left: 1px solid gray;box-sizing: border-box;top: 0;bottom: 0;left: 50%;z-index: 0;}#sk-container-id-1 div.sk-serial {display: flex;flex-direction: column;align-items: center;background-color: white;padding-right: 0.2em;padding-left: 0.2em;position: relative;}#sk-container-id-1 div.sk-item {position: relative;z-index: 1;}#sk-container-id-1 div.sk-parallel {display: flex;align-items: stretch;justify-content: center;background-color: white;position: relative;}#sk-container-id-1 div.sk-item::before, #sk-container-id-1 div.sk-parallel-item::before {content: \"\";position: absolute;border-left: 1px solid gray;box-sizing: border-box;top: 0;bottom: 0;left: 50%;z-index: -1;}#sk-container-id-1 div.sk-parallel-item {display: flex;flex-direction: column;z-index: 1;position: relative;background-color: white;}#sk-container-id-1 div.sk-parallel-item:first-child::after {align-self: flex-end;width: 50%;}#sk-container-id-1 div.sk-parallel-item:last-child::after {align-self: flex-start;width: 50%;}#sk-container-id-1 div.sk-parallel-item:only-child::after {width: 0;}#sk-container-id-1 div.sk-dashed-wrapped {border: 1px dashed gray;margin: 0 0.4em 0.5em 0.4em;box-sizing: border-box;padding-bottom: 0.4em;background-color: white;}#sk-container-id-1 div.sk-label label {font-family: monospace;font-weight: bold;display: inline-block;line-height: 1.2em;}#sk-container-id-1 div.sk-label-container {text-align: center;}#sk-container-id-1 div.sk-container {/* jupyter's `normalize.less` sets `[hidden] { display: none; }` but bootstrap.min.css set `[hidden] { display: none !important; }` so we also need the `!important` here to be able to override the default hidden behavior on the sphinx rendered scikit-learn.org. See: https://github.com/scikit-learn/scikit-learn/issues/21755 */display: inline-block !important;position: relative;}#sk-container-id-1 div.sk-text-repr-fallback {display: none;}</style><div id=\"sk-container-id-1\" class=\"sk-top-container\"><div class=\"sk-text-repr-fallback\"><pre>LinearRegression()</pre><b>In a Jupyter environment, please rerun this cell to show the HTML representation or trust the notebook. <br />On GitHub, the HTML representation is unable to render, please try loading this page with nbviewer.org.</b></div><div class=\"sk-container\" hidden><div class=\"sk-item\"><div class=\"sk-estimator sk-toggleable\"><input class=\"sk-toggleable__control sk-hidden--visually\" id=\"sk-estimator-id-1\" type=\"checkbox\" checked><label for=\"sk-estimator-id-1\" class=\"sk-toggleable__label sk-toggleable__label-arrow\">LinearRegression</label><div class=\"sk-toggleable__content\"><pre>LinearRegression()</pre></div></div></div></div></div>"
      ],
      "text/plain": [
       "LinearRegression()"
      ]
     },
     "execution_count": 36,
     "metadata": {},
     "output_type": "execute_result"
    }
   ],
   "source": [
    "lr=LinearRegression()\n",
    "lr.fit(x_train,y_train)"
   ]
  },
  {
   "cell_type": "code",
   "execution_count": 37,
   "id": "b54af64a",
   "metadata": {
    "execution": {
     "iopub.execute_input": "2025-06-27T10:22:24.512511Z",
     "iopub.status.busy": "2025-06-27T10:22:24.512091Z",
     "iopub.status.idle": "2025-06-27T10:22:24.519319Z",
     "shell.execute_reply": "2025-06-27T10:22:24.518443Z"
    },
    "papermill": {
     "duration": 0.030314,
     "end_time": "2025-06-27T10:22:24.520925",
     "exception": false,
     "start_time": "2025-06-27T10:22:24.490611",
     "status": "completed"
    },
    "tags": []
   },
   "outputs": [],
   "source": [
    "y_pred = lr.predict(x_test)\n"
   ]
  },
  {
   "cell_type": "code",
   "execution_count": 38,
   "id": "2c6e1208",
   "metadata": {
    "execution": {
     "iopub.execute_input": "2025-06-27T10:22:24.553325Z",
     "iopub.status.busy": "2025-06-27T10:22:24.552296Z",
     "iopub.status.idle": "2025-06-27T10:22:24.563972Z",
     "shell.execute_reply": "2025-06-27T10:22:24.562878Z"
    },
    "papermill": {
     "duration": 0.029933,
     "end_time": "2025-06-27T10:22:24.565745",
     "exception": false,
     "start_time": "2025-06-27T10:22:24.535812",
     "status": "completed"
    },
    "tags": []
   },
   "outputs": [
    {
     "data": {
      "text/plain": [
       "array([541541.44410751, 494360.36374045, 520875.43565838, 509000.25633497,\n",
       "       513853.10382311, 486494.97134037, 490216.5320822 , 529367.22078472,\n",
       "       497946.8424261 , 505346.30362377, 522491.22542736, 531605.45341793,\n",
       "       516671.65101242, 517346.69978788, 524138.55884397, 507962.95923957,\n",
       "       532658.60901924, 483296.09542165, 514252.36101631, 541150.51423012,\n",
       "       527566.10123562, 519346.22910299, 491375.9793154 , 501793.42354959,\n",
       "       527032.16953769, 499997.27178702, 520570.0921629 , 503514.97324384,\n",
       "       515079.0759352 , 508975.79328987, 524607.09580367, 489607.84214738,\n",
       "       486237.71457014, 541315.29447046, 517399.73492712, 528456.51600435,\n",
       "       497012.36275557, 504889.54063356, 514500.42443782, 498625.99842476,\n",
       "       487831.48477808, 491883.18920918, 504070.03995204, 530455.95181352,\n",
       "       502853.19203593, 523637.6203734 , 519750.39701125, 515922.23928418,\n",
       "       498840.09990927, 502386.00510105, 536125.79612192, 541114.08118933,\n",
       "       510887.1681977 , 548558.24794408, 481302.24040824, 514583.30604503,\n",
       "       524255.01709091, 528355.0364329 , 508959.71499623, 503925.24509784,\n",
       "       520623.41031175, 509016.31872311, 526394.79223162, 518600.23041869,\n",
       "       520905.65747844, 507702.0877984 , 516266.58672603, 525700.95069968,\n",
       "       533514.57031944, 519150.14044376, 477024.95775729, 518607.14624047,\n",
       "       511207.18669583, 497986.73912582, 522186.86109033, 500937.17395366,\n",
       "       506268.01589692, 499656.81080598, 503930.85504337, 499687.08249917,\n",
       "       534704.77568847, 510896.3165905 , 509432.80761677, 487098.72698542,\n",
       "       494620.5868954 , 523938.78262555, 518517.04185327, 541060.63265676,\n",
       "       528475.41008489, 545104.41973949, 498558.76487033, 517456.00469726,\n",
       "       530760.25066119, 513237.36932947, 507666.92364902, 501651.66062115,\n",
       "       528006.22835891, 503439.64342249, 524004.163033  , 510826.1791063 ,\n",
       "       504215.54853944, 529149.23824283, 529956.96186521, 521420.40657226,\n",
       "       501535.55769734, 530244.51920674, 519932.33187783, 509793.63478285,\n",
       "       529223.35360202, 520376.45326674, 505274.26449618, 508841.77247351,\n",
       "       518496.65493702, 531045.93287305, 509657.94883387, 528249.79099056,\n",
       "       479085.78185312, 490216.68250673, 535959.85409614, 489991.80985249,\n",
       "       504790.49014807, 508090.48869829, 504833.19190512, 529608.67042052,\n",
       "       508906.7024695 , 528548.12839954, 485460.24364182, 499415.7368302 ,\n",
       "       505193.39076581, 495441.05361911, 519150.03516126, 492198.51433055,\n",
       "       500493.23730762, 514613.21659027, 513275.86079457, 508357.92951767,\n",
       "       498898.98258612, 541072.79337814, 494228.79965412, 514674.35897947,\n",
       "       541651.546287  , 511869.1412497 , 486605.27995093, 533852.56725449,\n",
       "       491578.58679883, 505451.7370114 , 508734.54063173, 521177.47019152,\n",
       "       536021.38597626, 520720.37292584, 520797.25991085, 522350.61749985,\n",
       "       504052.79434056, 530125.66067301, 541261.15945041, 525514.24310035,\n",
       "       509741.48897235, 522352.59750084, 487317.50152045, 525384.841081  ,\n",
       "       512069.11565581, 515184.26445478, 513321.12191773, 485730.90183168,\n",
       "       552678.01135968, 529318.42067623, 540095.74977636, 506208.42266915,\n",
       "       512857.82946786, 524793.45244378, 528270.35396239, 517374.72714749,\n",
       "       513469.11298435, 493349.85273355, 482392.20619763, 489879.04853624,\n",
       "       527607.15397615, 548605.37570296, 509232.33164036, 493224.66511716,\n",
       "       521233.89320334, 508068.88241314, 512851.67447521, 511122.58606379,\n",
       "       513267.30614176, 506285.24919076, 489371.33245318, 535324.74480866,\n",
       "       529106.48020951, 507302.26359258, 526472.38535748, 496020.83539885,\n",
       "       503173.41907031, 513885.2266499 , 529557.19773907, 506571.17417336,\n",
       "       520219.50050081, 496417.49657961, 517310.71816074, 502876.4897451 ,\n",
       "       505026.25285886, 502434.84424075, 547119.45350589, 509608.27135557,\n",
       "       505516.8697711 , 508727.64255662, 486896.80874437, 520307.18199411,\n",
       "       510003.55422248, 513253.81724185, 545066.49199641, 503779.98858405,\n",
       "       523898.58154231, 532190.45935689, 510152.23257105, 513117.67413955,\n",
       "       532202.41022119, 492874.11523294, 541397.71789909, 548640.78973067,\n",
       "       534127.64837648, 490281.10210119, 534634.37513283, 514691.46759918,\n",
       "       501150.34384171, 511359.7183539 , 544029.61465872, 527864.44610446,\n",
       "       511070.32299273, 521755.30184725, 497155.48058851, 510847.01488693,\n",
       "       497594.17961663, 512488.91598085, 533928.71177339, 541393.00332882,\n",
       "       486145.41622113, 499832.0407496 , 535937.28349948, 523427.70865852,\n",
       "       517679.95634692, 524999.82434353, 510483.01314907, 490649.83591533,\n",
       "       507582.66247214, 501412.40099748, 516387.18546778, 480993.89742112,\n",
       "       506521.71194079, 504632.62233044, 523458.87044019, 510518.70898267,\n",
       "       536095.41265684, 516797.03820707, 534962.9041881 , 497083.33280065,\n",
       "       504583.62310325, 500804.04094558, 543863.49510505, 479663.37331818,\n",
       "       551562.63211186, 525633.73459222, 514785.55962767, 517029.22997724,\n",
       "       531695.93341516, 531847.70170165, 495245.60780431, 487975.43741207,\n",
       "       518475.26440137, 510088.6832867 , 506022.53996892, 507597.39004892,\n",
       "       507469.52556281, 505980.41798319, 546127.59692303, 517116.62793624,\n",
       "       513675.34500043, 515868.62333919, 512879.13741042, 511264.47945104,\n",
       "       491575.37445368, 503594.42793093, 493353.5226143 , 507729.03994767,\n",
       "       491799.33438013, 531053.1363301 , 516812.44308719, 552174.51239627,\n",
       "       512769.2985223 , 525431.36832837, 518098.2436362 , 505639.48655784,\n",
       "       518889.29642219, 491932.54076012, 518094.77982035, 511511.30358155,\n",
       "       520505.36764311, 531789.42806783, 505260.97906788, 512741.15009306,\n",
       "       506913.06357016, 521451.9076819 , 509470.63417993, 522376.74228504,\n",
       "       530855.69648061, 498573.28115214, 492247.47645971, 511740.40666018,\n",
       "       529425.86959218, 518101.86179347, 528638.32928358, 504660.0663259 ,\n",
       "       510257.11086999, 542334.13610202, 532445.2684684 , 476788.53711366,\n",
       "       525146.05492025, 502618.9058192 , 498903.41894417, 474207.40495536,\n",
       "       533981.32620899, 514482.8305701 , 511173.44094516, 489317.95248653,\n",
       "       496351.69127668, 504576.20457455, 531640.46024948, 495422.90329085,\n",
       "       521834.75683721, 518837.1336277 , 491067.06668931, 505381.59442448,\n",
       "       506042.46538054, 486022.53218063, 546574.10427371, 498442.6141144 ,\n",
       "       509631.80223004, 511091.81977724, 510107.37760656, 537071.492989  ,\n",
       "       530725.32409549, 530305.42849223, 506028.88684626, 515998.9984907 ,\n",
       "       524411.93974419, 531514.71603651, 513548.58554189, 509602.97281967,\n",
       "       522878.15201758, 523645.56527263, 518297.35520984, 493970.41058273,\n",
       "       503584.00422656, 512612.02703255, 504934.19503763, 506888.05354094,\n",
       "       489460.55421006, 533645.60436353, 521578.30555858, 498523.42880971,\n",
       "       525088.79649938, 501786.88598794, 533408.47078986, 516004.12320268,\n",
       "       477198.12106912, 479803.38796331, 502056.15079917, 494619.04914477,\n",
       "       537347.41812504, 488500.81923037, 493105.79885647, 526177.74018308,\n",
       "       503068.56659395, 520060.8131318 , 506831.44943348, 522716.65515971,\n",
       "       476020.60317719, 489318.19804393, 538839.53399645, 518515.04591058])"
      ]
     },
     "execution_count": 38,
     "metadata": {},
     "output_type": "execute_result"
    }
   ],
   "source": [
    "y_pred\n"
   ]
  },
  {
   "cell_type": "code",
   "execution_count": 39,
   "id": "1ccd9d6d",
   "metadata": {
    "execution": {
     "iopub.execute_input": "2025-06-27T10:22:24.599935Z",
     "iopub.status.busy": "2025-06-27T10:22:24.599617Z",
     "iopub.status.idle": "2025-06-27T10:22:24.605472Z",
     "shell.execute_reply": "2025-06-27T10:22:24.604461Z"
    },
    "papermill": {
     "duration": 0.026209,
     "end_time": "2025-06-27T10:22:24.608075",
     "exception": false,
     "start_time": "2025-06-27T10:22:24.581866",
     "status": "completed"
    },
    "tags": []
   },
   "outputs": [
    {
     "name": "stdout",
     "output_type": "stream",
     "text": [
      "70927001934.13933\n"
     ]
    }
   ],
   "source": [
    "print(mean_squared_error(y_test, y_pred))\n"
   ]
  },
  {
   "cell_type": "code",
   "execution_count": 40,
   "id": "26c4f96d",
   "metadata": {
    "execution": {
     "iopub.execute_input": "2025-06-27T10:22:24.640531Z",
     "iopub.status.busy": "2025-06-27T10:22:24.640177Z",
     "iopub.status.idle": "2025-06-27T10:22:24.646268Z",
     "shell.execute_reply": "2025-06-27T10:22:24.645128Z"
    },
    "papermill": {
     "duration": 0.023487,
     "end_time": "2025-06-27T10:22:24.647802",
     "exception": false,
     "start_time": "2025-06-27T10:22:24.624315",
     "status": "completed"
    },
    "tags": []
   },
   "outputs": [
    {
     "name": "stdout",
     "output_type": "stream",
     "text": [
      "229796.05658581122\n"
     ]
    }
   ],
   "source": [
    "print(mean_absolute_error(y_test, y_pred))\n"
   ]
  },
  {
   "cell_type": "code",
   "execution_count": 41,
   "id": "f60bb343",
   "metadata": {
    "execution": {
     "iopub.execute_input": "2025-06-27T10:22:24.681461Z",
     "iopub.status.busy": "2025-06-27T10:22:24.681093Z",
     "iopub.status.idle": "2025-06-27T10:22:24.698139Z",
     "shell.execute_reply": "2025-06-27T10:22:24.697001Z"
    },
    "papermill": {
     "duration": 0.035575,
     "end_time": "2025-06-27T10:22:24.699870",
     "exception": false,
     "start_time": "2025-06-27T10:22:24.664295",
     "status": "completed"
    },
    "tags": []
   },
   "outputs": [
    {
     "data": {
      "text/html": [
       "<style>#sk-container-id-2 {color: black;background-color: white;}#sk-container-id-2 pre{padding: 0;}#sk-container-id-2 div.sk-toggleable {background-color: white;}#sk-container-id-2 label.sk-toggleable__label {cursor: pointer;display: block;width: 100%;margin-bottom: 0;padding: 0.3em;box-sizing: border-box;text-align: center;}#sk-container-id-2 label.sk-toggleable__label-arrow:before {content: \"▸\";float: left;margin-right: 0.25em;color: #696969;}#sk-container-id-2 label.sk-toggleable__label-arrow:hover:before {color: black;}#sk-container-id-2 div.sk-estimator:hover label.sk-toggleable__label-arrow:before {color: black;}#sk-container-id-2 div.sk-toggleable__content {max-height: 0;max-width: 0;overflow: hidden;text-align: left;background-color: #f0f8ff;}#sk-container-id-2 div.sk-toggleable__content pre {margin: 0.2em;color: black;border-radius: 0.25em;background-color: #f0f8ff;}#sk-container-id-2 input.sk-toggleable__control:checked~div.sk-toggleable__content {max-height: 200px;max-width: 100%;overflow: auto;}#sk-container-id-2 input.sk-toggleable__control:checked~label.sk-toggleable__label-arrow:before {content: \"▾\";}#sk-container-id-2 div.sk-estimator input.sk-toggleable__control:checked~label.sk-toggleable__label {background-color: #d4ebff;}#sk-container-id-2 div.sk-label input.sk-toggleable__control:checked~label.sk-toggleable__label {background-color: #d4ebff;}#sk-container-id-2 input.sk-hidden--visually {border: 0;clip: rect(1px 1px 1px 1px);clip: rect(1px, 1px, 1px, 1px);height: 1px;margin: -1px;overflow: hidden;padding: 0;position: absolute;width: 1px;}#sk-container-id-2 div.sk-estimator {font-family: monospace;background-color: #f0f8ff;border: 1px dotted black;border-radius: 0.25em;box-sizing: border-box;margin-bottom: 0.5em;}#sk-container-id-2 div.sk-estimator:hover {background-color: #d4ebff;}#sk-container-id-2 div.sk-parallel-item::after {content: \"\";width: 100%;border-bottom: 1px solid gray;flex-grow: 1;}#sk-container-id-2 div.sk-label:hover label.sk-toggleable__label {background-color: #d4ebff;}#sk-container-id-2 div.sk-serial::before {content: \"\";position: absolute;border-left: 1px solid gray;box-sizing: border-box;top: 0;bottom: 0;left: 50%;z-index: 0;}#sk-container-id-2 div.sk-serial {display: flex;flex-direction: column;align-items: center;background-color: white;padding-right: 0.2em;padding-left: 0.2em;position: relative;}#sk-container-id-2 div.sk-item {position: relative;z-index: 1;}#sk-container-id-2 div.sk-parallel {display: flex;align-items: stretch;justify-content: center;background-color: white;position: relative;}#sk-container-id-2 div.sk-item::before, #sk-container-id-2 div.sk-parallel-item::before {content: \"\";position: absolute;border-left: 1px solid gray;box-sizing: border-box;top: 0;bottom: 0;left: 50%;z-index: -1;}#sk-container-id-2 div.sk-parallel-item {display: flex;flex-direction: column;z-index: 1;position: relative;background-color: white;}#sk-container-id-2 div.sk-parallel-item:first-child::after {align-self: flex-end;width: 50%;}#sk-container-id-2 div.sk-parallel-item:last-child::after {align-self: flex-start;width: 50%;}#sk-container-id-2 div.sk-parallel-item:only-child::after {width: 0;}#sk-container-id-2 div.sk-dashed-wrapped {border: 1px dashed gray;margin: 0 0.4em 0.5em 0.4em;box-sizing: border-box;padding-bottom: 0.4em;background-color: white;}#sk-container-id-2 div.sk-label label {font-family: monospace;font-weight: bold;display: inline-block;line-height: 1.2em;}#sk-container-id-2 div.sk-label-container {text-align: center;}#sk-container-id-2 div.sk-container {/* jupyter's `normalize.less` sets `[hidden] { display: none; }` but bootstrap.min.css set `[hidden] { display: none !important; }` so we also need the `!important` here to be able to override the default hidden behavior on the sphinx rendered scikit-learn.org. See: https://github.com/scikit-learn/scikit-learn/issues/21755 */display: inline-block !important;position: relative;}#sk-container-id-2 div.sk-text-repr-fallback {display: none;}</style><div id=\"sk-container-id-2\" class=\"sk-top-container\"><div class=\"sk-text-repr-fallback\"><pre>SGDRegressor()</pre><b>In a Jupyter environment, please rerun this cell to show the HTML representation or trust the notebook. <br />On GitHub, the HTML representation is unable to render, please try loading this page with nbviewer.org.</b></div><div class=\"sk-container\" hidden><div class=\"sk-item\"><div class=\"sk-estimator sk-toggleable\"><input class=\"sk-toggleable__control sk-hidden--visually\" id=\"sk-estimator-id-2\" type=\"checkbox\" checked><label for=\"sk-estimator-id-2\" class=\"sk-toggleable__label sk-toggleable__label-arrow\">SGDRegressor</label><div class=\"sk-toggleable__content\"><pre>SGDRegressor()</pre></div></div></div></div></div>"
      ],
      "text/plain": [
       "SGDRegressor()"
      ]
     },
     "execution_count": 41,
     "metadata": {},
     "output_type": "execute_result"
    }
   ],
   "source": [
    "sgd = SGDRegressor()\n",
    "\n",
    "sgd.fit(x_train, y_train)\n"
   ]
  },
  {
   "cell_type": "code",
   "execution_count": 42,
   "id": "43798816",
   "metadata": {
    "execution": {
     "iopub.execute_input": "2025-06-27T10:22:24.733212Z",
     "iopub.status.busy": "2025-06-27T10:22:24.732367Z",
     "iopub.status.idle": "2025-06-27T10:22:24.739712Z",
     "shell.execute_reply": "2025-06-27T10:22:24.738354Z"
    },
    "papermill": {
     "duration": 0.025683,
     "end_time": "2025-06-27T10:22:24.741545",
     "exception": false,
     "start_time": "2025-06-27T10:22:24.715862",
     "status": "completed"
    },
    "tags": []
   },
   "outputs": [],
   "source": [
    "y_pred = sgd.predict(x_test)\n"
   ]
  },
  {
   "cell_type": "code",
   "execution_count": 43,
   "id": "3596a15c",
   "metadata": {
    "execution": {
     "iopub.execute_input": "2025-06-27T10:22:24.774888Z",
     "iopub.status.busy": "2025-06-27T10:22:24.774253Z",
     "iopub.status.idle": "2025-06-27T10:22:24.780764Z",
     "shell.execute_reply": "2025-06-27T10:22:24.779762Z"
    },
    "papermill": {
     "duration": 0.025362,
     "end_time": "2025-06-27T10:22:24.782710",
     "exception": false,
     "start_time": "2025-06-27T10:22:24.757348",
     "status": "completed"
    },
    "tags": []
   },
   "outputs": [
    {
     "name": "stdout",
     "output_type": "stream",
     "text": [
      "1099216723816562.5\n"
     ]
    }
   ],
   "source": [
    "print(mean_absolute_error(y_test, y_pred))\n"
   ]
  },
  {
   "cell_type": "code",
   "execution_count": 44,
   "id": "b037f643",
   "metadata": {
    "execution": {
     "iopub.execute_input": "2025-06-27T10:22:24.814907Z",
     "iopub.status.busy": "2025-06-27T10:22:24.814594Z",
     "iopub.status.idle": "2025-06-27T10:22:24.821453Z",
     "shell.execute_reply": "2025-06-27T10:22:24.820145Z"
    },
    "papermill": {
     "duration": 0.024809,
     "end_time": "2025-06-27T10:22:24.823253",
     "exception": false,
     "start_time": "2025-06-27T10:22:24.798444",
     "status": "completed"
    },
    "tags": []
   },
   "outputs": [
    {
     "name": "stdout",
     "output_type": "stream",
     "text": [
      "1.2086600998839846e+30\n"
     ]
    }
   ],
   "source": [
    "print(mean_squared_error(y_test, y_pred))\n"
   ]
  },
  {
   "cell_type": "code",
   "execution_count": 45,
   "id": "6508622c",
   "metadata": {
    "execution": {
     "iopub.execute_input": "2025-06-27T10:22:24.859524Z",
     "iopub.status.busy": "2025-06-27T10:22:24.859164Z",
     "iopub.status.idle": "2025-06-27T10:22:24.873737Z",
     "shell.execute_reply": "2025-06-27T10:22:24.872690Z"
    },
    "papermill": {
     "duration": 0.034061,
     "end_time": "2025-06-27T10:22:24.875366",
     "exception": false,
     "start_time": "2025-06-27T10:22:24.841305",
     "status": "completed"
    },
    "tags": []
   },
   "outputs": [
    {
     "data": {
      "text/html": [
       "<style>#sk-container-id-3 {color: black;background-color: white;}#sk-container-id-3 pre{padding: 0;}#sk-container-id-3 div.sk-toggleable {background-color: white;}#sk-container-id-3 label.sk-toggleable__label {cursor: pointer;display: block;width: 100%;margin-bottom: 0;padding: 0.3em;box-sizing: border-box;text-align: center;}#sk-container-id-3 label.sk-toggleable__label-arrow:before {content: \"▸\";float: left;margin-right: 0.25em;color: #696969;}#sk-container-id-3 label.sk-toggleable__label-arrow:hover:before {color: black;}#sk-container-id-3 div.sk-estimator:hover label.sk-toggleable__label-arrow:before {color: black;}#sk-container-id-3 div.sk-toggleable__content {max-height: 0;max-width: 0;overflow: hidden;text-align: left;background-color: #f0f8ff;}#sk-container-id-3 div.sk-toggleable__content pre {margin: 0.2em;color: black;border-radius: 0.25em;background-color: #f0f8ff;}#sk-container-id-3 input.sk-toggleable__control:checked~div.sk-toggleable__content {max-height: 200px;max-width: 100%;overflow: auto;}#sk-container-id-3 input.sk-toggleable__control:checked~label.sk-toggleable__label-arrow:before {content: \"▾\";}#sk-container-id-3 div.sk-estimator input.sk-toggleable__control:checked~label.sk-toggleable__label {background-color: #d4ebff;}#sk-container-id-3 div.sk-label input.sk-toggleable__control:checked~label.sk-toggleable__label {background-color: #d4ebff;}#sk-container-id-3 input.sk-hidden--visually {border: 0;clip: rect(1px 1px 1px 1px);clip: rect(1px, 1px, 1px, 1px);height: 1px;margin: -1px;overflow: hidden;padding: 0;position: absolute;width: 1px;}#sk-container-id-3 div.sk-estimator {font-family: monospace;background-color: #f0f8ff;border: 1px dotted black;border-radius: 0.25em;box-sizing: border-box;margin-bottom: 0.5em;}#sk-container-id-3 div.sk-estimator:hover {background-color: #d4ebff;}#sk-container-id-3 div.sk-parallel-item::after {content: \"\";width: 100%;border-bottom: 1px solid gray;flex-grow: 1;}#sk-container-id-3 div.sk-label:hover label.sk-toggleable__label {background-color: #d4ebff;}#sk-container-id-3 div.sk-serial::before {content: \"\";position: absolute;border-left: 1px solid gray;box-sizing: border-box;top: 0;bottom: 0;left: 50%;z-index: 0;}#sk-container-id-3 div.sk-serial {display: flex;flex-direction: column;align-items: center;background-color: white;padding-right: 0.2em;padding-left: 0.2em;position: relative;}#sk-container-id-3 div.sk-item {position: relative;z-index: 1;}#sk-container-id-3 div.sk-parallel {display: flex;align-items: stretch;justify-content: center;background-color: white;position: relative;}#sk-container-id-3 div.sk-item::before, #sk-container-id-3 div.sk-parallel-item::before {content: \"\";position: absolute;border-left: 1px solid gray;box-sizing: border-box;top: 0;bottom: 0;left: 50%;z-index: -1;}#sk-container-id-3 div.sk-parallel-item {display: flex;flex-direction: column;z-index: 1;position: relative;background-color: white;}#sk-container-id-3 div.sk-parallel-item:first-child::after {align-self: flex-end;width: 50%;}#sk-container-id-3 div.sk-parallel-item:last-child::after {align-self: flex-start;width: 50%;}#sk-container-id-3 div.sk-parallel-item:only-child::after {width: 0;}#sk-container-id-3 div.sk-dashed-wrapped {border: 1px dashed gray;margin: 0 0.4em 0.5em 0.4em;box-sizing: border-box;padding-bottom: 0.4em;background-color: white;}#sk-container-id-3 div.sk-label label {font-family: monospace;font-weight: bold;display: inline-block;line-height: 1.2em;}#sk-container-id-3 div.sk-label-container {text-align: center;}#sk-container-id-3 div.sk-container {/* jupyter's `normalize.less` sets `[hidden] { display: none; }` but bootstrap.min.css set `[hidden] { display: none !important; }` so we also need the `!important` here to be able to override the default hidden behavior on the sphinx rendered scikit-learn.org. See: https://github.com/scikit-learn/scikit-learn/issues/21755 */display: inline-block !important;position: relative;}#sk-container-id-3 div.sk-text-repr-fallback {display: none;}</style><div id=\"sk-container-id-3\" class=\"sk-top-container\"><div class=\"sk-text-repr-fallback\"><pre>Ridge()</pre><b>In a Jupyter environment, please rerun this cell to show the HTML representation or trust the notebook. <br />On GitHub, the HTML representation is unable to render, please try loading this page with nbviewer.org.</b></div><div class=\"sk-container\" hidden><div class=\"sk-item\"><div class=\"sk-estimator sk-toggleable\"><input class=\"sk-toggleable__control sk-hidden--visually\" id=\"sk-estimator-id-3\" type=\"checkbox\" checked><label for=\"sk-estimator-id-3\" class=\"sk-toggleable__label sk-toggleable__label-arrow\">Ridge</label><div class=\"sk-toggleable__content\"><pre>Ridge()</pre></div></div></div></div></div>"
      ],
      "text/plain": [
       "Ridge()"
      ]
     },
     "execution_count": 45,
     "metadata": {},
     "output_type": "execute_result"
    }
   ],
   "source": [
    "ridge = Ridge()\n",
    "\n",
    "ridge.fit(x_train, y_train)"
   ]
  },
  {
   "cell_type": "code",
   "execution_count": 46,
   "id": "4fa7be26",
   "metadata": {
    "execution": {
     "iopub.execute_input": "2025-06-27T10:22:24.907654Z",
     "iopub.status.busy": "2025-06-27T10:22:24.907313Z",
     "iopub.status.idle": "2025-06-27T10:22:24.914359Z",
     "shell.execute_reply": "2025-06-27T10:22:24.913315Z"
    },
    "papermill": {
     "duration": 0.025516,
     "end_time": "2025-06-27T10:22:24.916307",
     "exception": false,
     "start_time": "2025-06-27T10:22:24.890791",
     "status": "completed"
    },
    "tags": []
   },
   "outputs": [],
   "source": [
    "y_pred = ridge.predict(x_test)\n"
   ]
  },
  {
   "cell_type": "code",
   "execution_count": 47,
   "id": "61effa66",
   "metadata": {
    "execution": {
     "iopub.execute_input": "2025-06-27T10:22:24.949927Z",
     "iopub.status.busy": "2025-06-27T10:22:24.949573Z",
     "iopub.status.idle": "2025-06-27T10:22:24.956215Z",
     "shell.execute_reply": "2025-06-27T10:22:24.955112Z"
    },
    "papermill": {
     "duration": 0.025448,
     "end_time": "2025-06-27T10:22:24.957861",
     "exception": false,
     "start_time": "2025-06-27T10:22:24.932413",
     "status": "completed"
    },
    "tags": []
   },
   "outputs": [
    {
     "name": "stdout",
     "output_type": "stream",
     "text": [
      "229796.04159628553\n"
     ]
    }
   ],
   "source": [
    "print(mean_absolute_error(y_test, y_pred))\n"
   ]
  },
  {
   "cell_type": "code",
   "execution_count": 48,
   "id": "089f4671",
   "metadata": {
    "execution": {
     "iopub.execute_input": "2025-06-27T10:22:24.992103Z",
     "iopub.status.busy": "2025-06-27T10:22:24.991802Z",
     "iopub.status.idle": "2025-06-27T10:22:24.997640Z",
     "shell.execute_reply": "2025-06-27T10:22:24.996422Z"
    },
    "papermill": {
     "duration": 0.025796,
     "end_time": "2025-06-27T10:22:24.999529",
     "exception": false,
     "start_time": "2025-06-27T10:22:24.973733",
     "status": "completed"
    },
    "tags": []
   },
   "outputs": [
    {
     "name": "stdout",
     "output_type": "stream",
     "text": [
      "517526.9815789474\n"
     ]
    }
   ],
   "source": [
    "print(y_test.mean())\n"
   ]
  },
  {
   "cell_type": "code",
   "execution_count": 49,
   "id": "0cbe9779",
   "metadata": {
    "execution": {
     "iopub.execute_input": "2025-06-27T10:22:25.032908Z",
     "iopub.status.busy": "2025-06-27T10:22:25.032600Z",
     "iopub.status.idle": "2025-06-27T10:22:25.039754Z",
     "shell.execute_reply": "2025-06-27T10:22:25.038629Z"
    },
    "papermill": {
     "duration": 0.025723,
     "end_time": "2025-06-27T10:22:25.041475",
     "exception": false,
     "start_time": "2025-06-27T10:22:25.015752",
     "status": "completed"
    },
    "tags": []
   },
   "outputs": [
    {
     "name": "stdout",
     "output_type": "stream",
     "text": [
      "Mean Absolute Error : 44.40%\n"
     ]
    }
   ],
   "source": [
    "m_1 = mean_absolute_error(y_test, y_pred)\n",
    "m1_percent = m_1 / y_test.mean()\n",
    "print(f\"Mean Absolute Error : {m1_percent:.2%}\")"
   ]
  },
  {
   "cell_type": "code",
   "execution_count": 50,
   "id": "ed1a919b",
   "metadata": {
    "execution": {
     "iopub.execute_input": "2025-06-27T10:22:25.074465Z",
     "iopub.status.busy": "2025-06-27T10:22:25.074074Z",
     "iopub.status.idle": "2025-06-27T10:22:25.099761Z",
     "shell.execute_reply": "2025-06-27T10:22:25.098728Z"
    },
    "papermill": {
     "duration": 0.044352,
     "end_time": "2025-06-27T10:22:25.101456",
     "exception": false,
     "start_time": "2025-06-27T10:22:25.057104",
     "status": "completed"
    },
    "tags": []
   },
   "outputs": [],
   "source": [
    "from sklearn.preprocessing import StandardScaler\n",
    "\n",
    "scaler = StandardScaler()\n",
    "X_train_scaled = scaler.fit_transform(x_train)\n",
    "X_test_scaled = scaler.transform(x_test)\n",
    "\n",
    "ridge.fit(X_train_scaled, y_train)\n",
    "y_pred = ridge.predict(X_test_scaled)\n"
   ]
  },
  {
   "cell_type": "code",
   "execution_count": 51,
   "id": "516a7b87",
   "metadata": {
    "execution": {
     "iopub.execute_input": "2025-06-27T10:22:25.135779Z",
     "iopub.status.busy": "2025-06-27T10:22:25.135383Z",
     "iopub.status.idle": "2025-06-27T10:22:25.144192Z",
     "shell.execute_reply": "2025-06-27T10:22:25.143090Z"
    },
    "papermill": {
     "duration": 0.028237,
     "end_time": "2025-06-27T10:22:25.146094",
     "exception": false,
     "start_time": "2025-06-27T10:22:25.117857",
     "status": "completed"
    },
    "tags": []
   },
   "outputs": [
    {
     "name": "stdout",
     "output_type": "stream",
     "text": [
      "MAE: 229796.05246821203\n",
      "RMSE: 266320.6130165384\n",
      "R²: -0.0015689828583447252\n"
     ]
    }
   ],
   "source": [
    "from sklearn.metrics import mean_absolute_error, mean_squared_error, r2_score\n",
    "\n",
    "mae = mean_absolute_error(y_test, y_pred)\n",
    "rmse = mean_squared_error(y_test, y_pred) ** 0.5\n",
    "r2 = r2_score(y_test, y_pred)\n",
    "\n",
    "print(f\"MAE: {mae}\")\n",
    "print(f\"RMSE: {rmse}\")\n",
    "print(f\"R²: {r2}\")\n"
   ]
  },
  {
   "cell_type": "code",
   "execution_count": 52,
   "id": "010f7ece",
   "metadata": {
    "execution": {
     "iopub.execute_input": "2025-06-27T10:22:25.179885Z",
     "iopub.status.busy": "2025-06-27T10:22:25.179576Z",
     "iopub.status.idle": "2025-06-27T10:22:25.569564Z",
     "shell.execute_reply": "2025-06-27T10:22:25.568582Z"
    },
    "papermill": {
     "duration": 0.409329,
     "end_time": "2025-06-27T10:22:25.571742",
     "exception": false,
     "start_time": "2025-06-27T10:22:25.162413",
     "status": "completed"
    },
    "tags": []
   },
   "outputs": [
    {
     "data": {
      "text/plain": [
       "<Axes: >"
      ]
     },
     "execution_count": 52,
     "metadata": {},
     "output_type": "execute_result"
    },
    {
     "data": {
      "image/png": "[encoded data removed]",
      "text/plain": [
       "<Figure size 640x480 with 2 Axes>"
      ]
     },
     "metadata": {},
     "output_type": "display_data"
    }
   ],
   "source": [
    "import seaborn as sns\n",
    "import matplotlib.pyplot as plt\n",
    "\n",
    "\n",
    "sns.heatmap(df.corr(numeric_only=True), annot=True, cmap=\"coolwarm\")\n"
   ]
  },
  {
   "cell_type": "code",
   "execution_count": 53,
   "id": "c3b8c936",
   "metadata": {
    "execution": {
     "iopub.execute_input": "2025-06-27T10:22:25.609322Z",
     "iopub.status.busy": "2025-06-27T10:22:25.608994Z",
     "iopub.status.idle": "2025-06-27T10:22:26.575746Z",
     "shell.execute_reply": "2025-06-27T10:22:26.574697Z"
    },
    "papermill": {
     "duration": 0.988549,
     "end_time": "2025-06-27T10:22:26.578046",
     "exception": false,
     "start_time": "2025-06-27T10:22:25.589497",
     "status": "completed"
    },
    "tags": []
   },
   "outputs": [
    {
     "name": "stdout",
     "output_type": "stream",
     "text": [
      "Random Forest MAE: 244057.47936842105\n",
      "Random Forest RMSE: 285295.12972421537\n",
      "Random Forest R²: -0.1493704272082328\n"
     ]
    }
   ],
   "source": [
    "from sklearn.ensemble import RandomForestRegressor\n",
    "from sklearn.metrics import mean_absolute_error, mean_squared_error, r2_score\n",
    "\n",
    "rf = RandomForestRegressor()\n",
    "rf.fit(x_train, y_train)\n",
    "y_pred_rf = rf.predict(x_test)\n",
    "\n",
    "mae_rf = mean_absolute_error(y_test, y_pred_rf)\n",
    "rmse_rf = mean_squared_error(y_test, y_pred_rf) ** 0.5\n",
    "r2_rf = r2_score(y_test, y_pred_rf)\n",
    "\n",
    "print(f\"Random Forest MAE: {mae_rf}\")\n",
    "print(f\"Random Forest RMSE: {rmse_rf}\")\n",
    "print(f\"Random Forest R²: {r2_rf}\")\n"
   ]
  },
  {
   "cell_type": "code",
   "execution_count": 54,
   "id": "583e3d52",
   "metadata": {
    "execution": {
     "iopub.execute_input": "2025-06-27T10:22:26.614876Z",
     "iopub.status.busy": "2025-06-27T10:22:26.614569Z",
     "iopub.status.idle": "2025-06-27T10:22:26.621174Z",
     "shell.execute_reply": "2025-06-27T10:22:26.619878Z"
    },
    "papermill": {
     "duration": 0.025914,
     "end_time": "2025-06-27T10:22:26.622811",
     "exception": false,
     "start_time": "2025-06-27T10:22:26.596897",
     "status": "completed"
    },
    "tags": []
   },
   "outputs": [
    {
     "data": {
      "text/plain": [
       "Index(['Area', 'Bedrooms', 'Bathrooms', 'Floors', 'YearBuilt', 'Location',\n",
       "       'Condition', 'Garage', 'Price', 'Accepted'],\n",
       "      dtype='object')"
      ]
     },
     "execution_count": 54,
     "metadata": {},
     "output_type": "execute_result"
    }
   ],
   "source": [
    "df.columns\n"
   ]
  },
  {
   "cell_type": "code",
   "execution_count": 55,
   "id": "52e2dad7",
   "metadata": {
    "execution": {
     "iopub.execute_input": "2025-06-27T10:22:26.658618Z",
     "iopub.status.busy": "2025-06-27T10:22:26.658240Z",
     "iopub.status.idle": "2025-06-27T10:22:26.670156Z",
     "shell.execute_reply": "2025-06-27T10:22:26.669144Z"
    },
    "papermill": {
     "duration": 0.032196,
     "end_time": "2025-06-27T10:22:26.671939",
     "exception": false,
     "start_time": "2025-06-27T10:22:26.639743",
     "status": "completed"
    },
    "tags": []
   },
   "outputs": [],
   "source": [
    "df = pd.get_dummies(df, columns=['Location', 'Condition'], drop_first=True)\n"
   ]
  },
  {
   "cell_type": "code",
   "execution_count": 56,
   "id": "1da20fec",
   "metadata": {
    "execution": {
     "iopub.execute_input": "2025-06-27T10:22:26.709202Z",
     "iopub.status.busy": "2025-06-27T10:22:26.708896Z",
     "iopub.status.idle": "2025-06-27T10:22:26.732833Z",
     "shell.execute_reply": "2025-06-27T10:22:26.731827Z"
    },
    "papermill": {
     "duration": 0.044522,
     "end_time": "2025-06-27T10:22:26.734613",
     "exception": false,
     "start_time": "2025-06-27T10:22:26.690091",
     "status": "completed"
    },
    "tags": []
   },
   "outputs": [
    {
     "name": "stdout",
     "output_type": "stream",
     "text": [
      "Area                 0\n",
      "Bedrooms             0\n",
      "Bathrooms            0\n",
      "Floors               0\n",
      "YearBuilt            0\n",
      "Garage               0\n",
      "Price                0\n",
      "Accepted             0\n",
      "Location_Rural       0\n",
      "Location_Suburban    0\n",
      "Location_Urban       0\n",
      "Condition_Fair       0\n",
      "Condition_Good       0\n",
      "Condition_Poor       0\n",
      "dtype: int64\n",
      "              Area     Bedrooms    Bathrooms       Floors    YearBuilt  \\\n",
      "count  1900.000000  1900.000000  1900.000000  1900.000000  1900.000000   \n",
      "mean   2790.599474     3.006842     2.560000     1.984737  1961.264737   \n",
      "std    1296.106331     1.424770     1.108196     0.807599    35.926259   \n",
      "min     501.000000     1.000000     1.000000     1.000000  1900.000000   \n",
      "25%    1665.750000     2.000000     2.000000     1.000000  1930.000000   \n",
      "50%    2829.500000     3.000000     3.000000     2.000000  1961.000000   \n",
      "75%    3894.750000     4.000000     4.000000     3.000000  1993.000000   \n",
      "max    4999.000000     5.000000     4.000000     3.000000  2023.000000   \n",
      "\n",
      "               Price     Accepted  \n",
      "count    1900.000000  1900.000000  \n",
      "mean   514552.727368     0.493158  \n",
      "std    264063.016768     0.500085  \n",
      "min     50005.000000     0.000000  \n",
      "25%    287080.500000     0.000000  \n",
      "50%    520332.000000     0.000000  \n",
      "75%    741366.500000     1.000000  \n",
      "max    958840.000000     1.000000  \n"
     ]
    }
   ],
   "source": [
    "print(df.isnull().sum())\n",
    "print(df.describe())\n"
   ]
  },
  {
   "cell_type": "code",
   "execution_count": 57,
   "id": "94b25665",
   "metadata": {
    "execution": {
     "iopub.execute_input": "2025-06-27T10:22:26.770907Z",
     "iopub.status.busy": "2025-06-27T10:22:26.770571Z",
     "iopub.status.idle": "2025-06-27T10:22:26.777662Z",
     "shell.execute_reply": "2025-06-27T10:22:26.776697Z"
    },
    "papermill": {
     "duration": 0.027321,
     "end_time": "2025-06-27T10:22:26.779298",
     "exception": false,
     "start_time": "2025-06-27T10:22:26.751977",
     "status": "completed"
    },
    "tags": []
   },
   "outputs": [],
   "source": [
    "df = df[df['Area'] > 0]\n",
    "df = df[df['Bedrooms'] > 0]\n"
   ]
  },
  {
   "cell_type": "code",
   "execution_count": 58,
   "id": "10641d6d",
   "metadata": {
    "execution": {
     "iopub.execute_input": "2025-06-27T10:22:26.816814Z",
     "iopub.status.busy": "2025-06-27T10:22:26.816482Z",
     "iopub.status.idle": "2025-06-27T10:22:26.823821Z",
     "shell.execute_reply": "2025-06-27T10:22:26.822718Z"
    },
    "papermill": {
     "duration": 0.027888,
     "end_time": "2025-06-27T10:22:26.825790",
     "exception": false,
     "start_time": "2025-06-27T10:22:26.797902",
     "status": "completed"
    },
    "tags": []
   },
   "outputs": [],
   "source": [
    "X = df.drop(['Price', 'Accepted'], axis=1)\n",
    "y = df['Price']\n"
   ]
  },
  {
   "cell_type": "code",
   "execution_count": 59,
   "id": "3318afe2",
   "metadata": {
    "execution": {
     "iopub.execute_input": "2025-06-27T10:22:26.863052Z",
     "iopub.status.busy": "2025-06-27T10:22:26.862745Z",
     "iopub.status.idle": "2025-06-27T10:22:27.801303Z",
     "shell.execute_reply": "2025-06-27T10:22:27.800406Z"
    },
    "papermill": {
     "duration": 0.95915,
     "end_time": "2025-06-27T10:22:27.802799",
     "exception": false,
     "start_time": "2025-06-27T10:22:26.843649",
     "status": "completed"
    },
    "tags": []
   },
   "outputs": [
    {
     "data": {
      "text/html": [
       "<style>#sk-container-id-4 {color: black;background-color: white;}#sk-container-id-4 pre{padding: 0;}#sk-container-id-4 div.sk-toggleable {background-color: white;}#sk-container-id-4 label.sk-toggleable__label {cursor: pointer;display: block;width: 100%;margin-bottom: 0;padding: 0.3em;box-sizing: border-box;text-align: center;}#sk-container-id-4 label.sk-toggleable__label-arrow:before {content: \"▸\";float: left;margin-right: 0.25em;color: #696969;}#sk-container-id-4 label.sk-toggleable__label-arrow:hover:before {color: black;}#sk-container-id-4 div.sk-estimator:hover label.sk-toggleable__label-arrow:before {color: black;}#sk-container-id-4 div.sk-toggleable__content {max-height: 0;max-width: 0;overflow: hidden;text-align: left;background-color: #f0f8ff;}#sk-container-id-4 div.sk-toggleable__content pre {margin: 0.2em;color: black;border-radius: 0.25em;background-color: #f0f8ff;}#sk-container-id-4 input.sk-toggleable__control:checked~div.sk-toggleable__content {max-height: 200px;max-width: 100%;overflow: auto;}#sk-container-id-4 input.sk-toggleable__control:checked~label.sk-toggleable__label-arrow:before {content: \"▾\";}#sk-container-id-4 div.sk-estimator input.sk-toggleable__control:checked~label.sk-toggleable__label {background-color: #d4ebff;}#sk-container-id-4 div.sk-label input.sk-toggleable__control:checked~label.sk-toggleable__label {background-color: #d4ebff;}#sk-container-id-4 input.sk-hidden--visually {border: 0;clip: rect(1px 1px 1px 1px);clip: rect(1px, 1px, 1px, 1px);height: 1px;margin: -1px;overflow: hidden;padding: 0;position: absolute;width: 1px;}#sk-container-id-4 div.sk-estimator {font-family: monospace;background-color: #f0f8ff;border: 1px dotted black;border-radius: 0.25em;box-sizing: border-box;margin-bottom: 0.5em;}#sk-container-id-4 div.sk-estimator:hover {background-color: #d4ebff;}#sk-container-id-4 div.sk-parallel-item::after {content: \"\";width: 100%;border-bottom: 1px solid gray;flex-grow: 1;}#sk-container-id-4 div.sk-label:hover label.sk-toggleable__label {background-color: #d4ebff;}#sk-container-id-4 div.sk-serial::before {content: \"\";position: absolute;border-left: 1px solid gray;box-sizing: border-box;top: 0;bottom: 0;left: 50%;z-index: 0;}#sk-container-id-4 div.sk-serial {display: flex;flex-direction: column;align-items: center;background-color: white;padding-right: 0.2em;padding-left: 0.2em;position: relative;}#sk-container-id-4 div.sk-item {position: relative;z-index: 1;}#sk-container-id-4 div.sk-parallel {display: flex;align-items: stretch;justify-content: center;background-color: white;position: relative;}#sk-container-id-4 div.sk-item::before, #sk-container-id-4 div.sk-parallel-item::before {content: \"\";position: absolute;border-left: 1px solid gray;box-sizing: border-box;top: 0;bottom: 0;left: 50%;z-index: -1;}#sk-container-id-4 div.sk-parallel-item {display: flex;flex-direction: column;z-index: 1;position: relative;background-color: white;}#sk-container-id-4 div.sk-parallel-item:first-child::after {align-self: flex-end;width: 50%;}#sk-container-id-4 div.sk-parallel-item:last-child::after {align-self: flex-start;width: 50%;}#sk-container-id-4 div.sk-parallel-item:only-child::after {width: 0;}#sk-container-id-4 div.sk-dashed-wrapped {border: 1px dashed gray;margin: 0 0.4em 0.5em 0.4em;box-sizing: border-box;padding-bottom: 0.4em;background-color: white;}#sk-container-id-4 div.sk-label label {font-family: monospace;font-weight: bold;display: inline-block;line-height: 1.2em;}#sk-container-id-4 div.sk-label-container {text-align: center;}#sk-container-id-4 div.sk-container {/* jupyter's `normalize.less` sets `[hidden] { display: none; }` but bootstrap.min.css set `[hidden] { display: none !important; }` so we also need the `!important` here to be able to override the default hidden behavior on the sphinx rendered scikit-learn.org. See: https://github.com/scikit-learn/scikit-learn/issues/21755 */display: inline-block !important;position: relative;}#sk-container-id-4 div.sk-text-repr-fallback {display: none;}</style><div id=\"sk-container-id-4\" class=\"sk-top-container\"><div class=\"sk-text-repr-fallback\"><pre>RandomForestRegressor(max_depth=10, n_estimators=200, random_state=42)</pre><b>In a Jupyter environment, please rerun this cell to show the HTML representation or trust the notebook. <br />On GitHub, the HTML representation is unable to render, please try loading this page with nbviewer.org.</b></div><div class=\"sk-container\" hidden><div class=\"sk-item\"><div class=\"sk-estimator sk-toggleable\"><input class=\"sk-toggleable__control sk-hidden--visually\" id=\"sk-estimator-id-4\" type=\"checkbox\" checked><label for=\"sk-estimator-id-4\" class=\"sk-toggleable__label sk-toggleable__label-arrow\">RandomForestRegressor</label><div class=\"sk-toggleable__content\"><pre>RandomForestRegressor(max_depth=10, n_estimators=200, random_state=42)</pre></div></div></div></div></div>"
      ],
      "text/plain": [
       "RandomForestRegressor(max_depth=10, n_estimators=200, random_state=42)"
      ]
     },
     "execution_count": 59,
     "metadata": {},
     "output_type": "execute_result"
    }
   ],
   "source": [
    "rf = RandomForestRegressor(n_estimators=200, max_depth=10, random_state=42)\n",
    "rf.fit(x_train, y_train)\n"
   ]
  },
  {
   "cell_type": "code",
   "execution_count": 60,
   "id": "114c6425",
   "metadata": {
    "execution": {
     "iopub.execute_input": "2025-06-27T10:22:27.841749Z",
     "iopub.status.busy": "2025-06-27T10:22:27.841409Z",
     "iopub.status.idle": "2025-06-27T10:22:32.417282Z",
     "shell.execute_reply": "2025-06-27T10:22:32.416088Z"
    },
    "papermill": {
     "duration": 4.598781,
     "end_time": "2025-06-27T10:22:32.418952",
     "exception": false,
     "start_time": "2025-06-27T10:22:27.820171",
     "status": "completed"
    },
    "tags": []
   },
   "outputs": [
    {
     "name": "stdout",
     "output_type": "stream",
     "text": [
      "Average MAE: 233178.14663192825\n"
     ]
    }
   ],
   "source": [
    "from sklearn.model_selection import cross_val_score\n",
    "\n",
    "scores = cross_val_score(rf, x, y, cv=5, scoring='neg_mean_absolute_error')\n",
    "print(\"Average MAE:\", -scores.mean())\n"
   ]
  },
  {
   "cell_type": "code",
   "execution_count": 61,
   "id": "91ec2360",
   "metadata": {
    "execution": {
     "iopub.execute_input": "2025-06-27T10:22:32.455464Z",
     "iopub.status.busy": "2025-06-27T10:22:32.455072Z",
     "iopub.status.idle": "2025-06-27T10:22:32.649196Z",
     "shell.execute_reply": "2025-06-27T10:22:32.648232Z"
    },
    "papermill": {
     "duration": 0.21378,
     "end_time": "2025-06-27T10:22:32.650758",
     "exception": false,
     "start_time": "2025-06-27T10:22:32.436978",
     "status": "completed"
    },
    "tags": []
   },
   "outputs": [
    {
     "data": {
      "image/png": "[encoded data removed]",
      "text/plain": [
       "<Figure size 640x480 with 1 Axes>"
      ]
     },
     "metadata": {},
     "output_type": "display_data"
    }
   ],
   "source": [
    "import matplotlib.pyplot as plt\n",
    "\n",
    "plt.scatter(y_test, y_pred_rf, alpha=0.5)\n",
    "plt.xlabel(\"true value\")\n",
    "plt.ylabel(\"future value\")\n",
    "plt.title(\"Random Forest - Actual vs Predicted\")\n",
    "plt.plot([y_test.min(), y_test.max()], [y_test.min(), y_test.max()], color='red')\n",
    "plt.show()\n"
   ]
  },
  {
   "cell_type": "code",
   "execution_count": 62,
   "id": "d1edf898",
   "metadata": {
    "execution": {
     "iopub.execute_input": "2025-06-27T10:22:32.690950Z",
     "iopub.status.busy": "2025-06-27T10:22:32.689954Z",
     "iopub.status.idle": "2025-06-27T10:22:32.698650Z",
     "shell.execute_reply": "2025-06-27T10:22:32.697783Z"
    },
    "papermill": {
     "duration": 0.029833,
     "end_time": "2025-06-27T10:22:32.700292",
     "exception": false,
     "start_time": "2025-06-27T10:22:32.670459",
     "status": "completed"
    },
    "tags": []
   },
   "outputs": [
    {
     "data": {
      "text/plain": [
       "0"
      ]
     },
     "execution_count": 62,
     "metadata": {},
     "output_type": "execute_result"
    }
   ],
   "source": [
    "df.duplicated().sum()\n"
   ]
  }
 ],
 "metadata": {
  "kaggle": {
   "accelerator": "none",
   "dataSources": [
    {
     "datasetId": 5744880,
     "sourceId": 9451387,
     "sourceType": "datasetVersion"
    }
   ],
   "dockerImageVersionId": 31040,
   "isGpuEnabled": false,
   "isInternetEnabled": true,
   "language": "python",
   "sourceType": "notebook"
  },
  "kernelspec": {
   "display_name": "Python 3",
   "language": "python",
   "name": "python3"
  },
  "language_info": {
   "codemirror_mode": {
    "name": "ipython",
    "version": 3
   },
   "file_extension": ".py",
   "mimetype": "text/x-python",
   "name": "python",
   "nbconvert_exporter": "python",
   "pygments_lexer": "ipython3",
   "version": "3.11.11"
  },
  "papermill": {
   "default_parameters": {},
   "duration": 22.319319,
   "end_time": "2025-06-27T10:22:33.541100",
   "environment_variables": {},
   "exception": null,
   "input_path": "__notebook__.ipynb",
   "output_path": "__notebook__.ipynb",
   "parameters": {},
   "start_time": "2025-06-27T10:22:11.221781",
   "version": "2.6.0"
  }
 },
 "nbformat": 4,
 "nbformat_minor": 5
}
