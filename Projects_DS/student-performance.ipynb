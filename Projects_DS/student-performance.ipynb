{
 "cells": [
  {
   "cell_type": "code",
   "execution_count": 1,
   "id": "ca57f176",
   "metadata": {
    "_cell_guid": "b1076dfc-b9ad-4769-8c92-a6c4dae69d19",
    "_uuid": "8f2839f25d086af736a60e9eeb907d3b93b6e0e5",
    "execution": {
     "iopub.execute_input": "2025-06-27T12:47:28.103302Z",
     "iopub.status.busy": "2025-06-27T12:47:28.102362Z",
     "iopub.status.idle": "2025-06-27T12:47:32.111250Z",
     "shell.execute_reply": "2025-06-27T12:47:32.110330Z"
    },
    "papermill": {
     "duration": 4.018171,
     "end_time": "2025-06-27T12:47:32.113028",
     "exception": false,
     "start_time": "2025-06-27T12:47:28.094857",
     "status": "completed"
    },
    "tags": []
   },
   "outputs": [],
   "source": [
    "import numpy as np\n",
    "import pandas as pd\n",
    "import matplotlib.pyplot as plt\n",
    "import seaborn as sns\n",
    "from sklearn.model_selection import train_test_split\n"
   ]
  },
  {
   "cell_type": "code",
   "execution_count": 2,
   "id": "4e29d614",
   "metadata": {
    "execution": {
     "iopub.execute_input": "2025-06-27T12:47:32.125345Z",
     "iopub.status.busy": "2025-06-27T12:47:32.124765Z",
     "iopub.status.idle": "2025-06-27T12:47:32.146467Z",
     "shell.execute_reply": "2025-06-27T12:47:32.145595Z"
    },
    "papermill": {
     "duration": 0.029447,
     "end_time": "2025-06-27T12:47:32.148126",
     "exception": false,
     "start_time": "2025-06-27T12:47:32.118679",
     "status": "completed"
    },
    "tags": []
   },
   "outputs": [],
   "source": [
    "df=pd.read_csv('/kaggle/input/predict-student-performance-dataset/data.csv')"
   ]
  },
  {
   "cell_type": "markdown",
   "id": "d201c358",
   "metadata": {
    "papermill": {
     "duration": 0.004773,
     "end_time": "2025-06-27T12:47:32.158251",
     "exception": false,
     "start_time": "2025-06-27T12:47:32.153478",
     "status": "completed"
    },
    "tags": []
   },
   "source": [
    "## **Read Data**"
   ]
  },
  {
   "cell_type": "code",
   "execution_count": 3,
   "id": "776e2208",
   "metadata": {
    "execution": {
     "iopub.execute_input": "2025-06-27T12:47:32.170056Z",
     "iopub.status.busy": "2025-06-27T12:47:32.169247Z",
     "iopub.status.idle": "2025-06-27T12:47:32.199946Z",
     "shell.execute_reply": "2025-06-27T12:47:32.199109Z"
    },
    "papermill": {
     "duration": 0.038221,
     "end_time": "2025-06-27T12:47:32.201587",
     "exception": false,
     "start_time": "2025-06-27T12:47:32.163366",
     "status": "completed"
    },
    "tags": []
   },
   "outputs": [
    {
     "data": {
      "text/html": [
       "<div>\n",
       "<style scoped>\n",
       "    .dataframe tbody tr th:only-of-type {\n",
       "        vertical-align: middle;\n",
       "    }\n",
       "\n",
       "    .dataframe tbody tr th {\n",
       "        vertical-align: top;\n",
       "    }\n",
       "\n",
       "    .dataframe thead th {\n",
       "        text-align: right;\n",
       "    }\n",
       "</style>\n",
       "<table border=\"1\" class=\"dataframe\">\n",
       "  <thead>\n",
       "    <tr style=\"text-align: right;\">\n",
       "      <th></th>\n",
       "      <th>Socioeconomic Score</th>\n",
       "      <th>Study Hours</th>\n",
       "      <th>Sleep Hours</th>\n",
       "      <th>Attendance (%)</th>\n",
       "      <th>Grades</th>\n",
       "    </tr>\n",
       "  </thead>\n",
       "  <tbody>\n",
       "    <tr>\n",
       "      <th>0</th>\n",
       "      <td>0.95822</td>\n",
       "      <td>3.4</td>\n",
       "      <td>8.2</td>\n",
       "      <td>53.0</td>\n",
       "      <td>47.0</td>\n",
       "    </tr>\n",
       "    <tr>\n",
       "      <th>1</th>\n",
       "      <td>0.85566</td>\n",
       "      <td>3.2</td>\n",
       "      <td>5.9</td>\n",
       "      <td>55.0</td>\n",
       "      <td>35.0</td>\n",
       "    </tr>\n",
       "    <tr>\n",
       "      <th>2</th>\n",
       "      <td>0.68025</td>\n",
       "      <td>3.2</td>\n",
       "      <td>9.3</td>\n",
       "      <td>41.0</td>\n",
       "      <td>32.0</td>\n",
       "    </tr>\n",
       "    <tr>\n",
       "      <th>3</th>\n",
       "      <td>0.25936</td>\n",
       "      <td>3.2</td>\n",
       "      <td>8.2</td>\n",
       "      <td>47.0</td>\n",
       "      <td>34.0</td>\n",
       "    </tr>\n",
       "    <tr>\n",
       "      <th>4</th>\n",
       "      <td>0.60447</td>\n",
       "      <td>3.8</td>\n",
       "      <td>10.0</td>\n",
       "      <td>75.0</td>\n",
       "      <td>33.0</td>\n",
       "    </tr>\n",
       "    <tr>\n",
       "      <th>...</th>\n",
       "      <td>...</td>\n",
       "      <td>...</td>\n",
       "      <td>...</td>\n",
       "      <td>...</td>\n",
       "      <td>...</td>\n",
       "    </tr>\n",
       "    <tr>\n",
       "      <th>1383</th>\n",
       "      <td>0.44549</td>\n",
       "      <td>5.5</td>\n",
       "      <td>8.0</td>\n",
       "      <td>51.0</td>\n",
       "      <td>41.0</td>\n",
       "    </tr>\n",
       "    <tr>\n",
       "      <th>1384</th>\n",
       "      <td>0.52466</td>\n",
       "      <td>4.9</td>\n",
       "      <td>6.5</td>\n",
       "      <td>63.0</td>\n",
       "      <td>37.0</td>\n",
       "    </tr>\n",
       "    <tr>\n",
       "      <th>1385</th>\n",
       "      <td>0.88197</td>\n",
       "      <td>3.9</td>\n",
       "      <td>6.2</td>\n",
       "      <td>54.0</td>\n",
       "      <td>36.0</td>\n",
       "    </tr>\n",
       "    <tr>\n",
       "      <th>1386</th>\n",
       "      <td>0.47336</td>\n",
       "      <td>3.5</td>\n",
       "      <td>7.3</td>\n",
       "      <td>61.0</td>\n",
       "      <td>34.0</td>\n",
       "    </tr>\n",
       "    <tr>\n",
       "      <th>1387</th>\n",
       "      <td>0.58119</td>\n",
       "      <td>3.7</td>\n",
       "      <td>9.7</td>\n",
       "      <td>79.0</td>\n",
       "      <td>35.0</td>\n",
       "    </tr>\n",
       "  </tbody>\n",
       "</table>\n",
       "<p>1388 rows × 5 columns</p>\n",
       "</div>"
      ],
      "text/plain": [
       "      Socioeconomic Score  Study Hours  Sleep Hours  Attendance (%)  Grades\n",
       "0                 0.95822          3.4          8.2            53.0    47.0\n",
       "1                 0.85566          3.2          5.9            55.0    35.0\n",
       "2                 0.68025          3.2          9.3            41.0    32.0\n",
       "3                 0.25936          3.2          8.2            47.0    34.0\n",
       "4                 0.60447          3.8         10.0            75.0    33.0\n",
       "...                   ...          ...          ...             ...     ...\n",
       "1383              0.44549          5.5          8.0            51.0    41.0\n",
       "1384              0.52466          4.9          6.5            63.0    37.0\n",
       "1385              0.88197          3.9          6.2            54.0    36.0\n",
       "1386              0.47336          3.5          7.3            61.0    34.0\n",
       "1387              0.58119          3.7          9.7            79.0    35.0\n",
       "\n",
       "[1388 rows x 5 columns]"
      ]
     },
     "execution_count": 3,
     "metadata": {},
     "output_type": "execute_result"
    }
   ],
   "source": [
    "df"
   ]
  },
  {
   "cell_type": "code",
   "execution_count": 4,
   "id": "71df4ee9",
   "metadata": {
    "execution": {
     "iopub.execute_input": "2025-06-27T12:47:32.213876Z",
     "iopub.status.busy": "2025-06-27T12:47:32.213559Z",
     "iopub.status.idle": "2025-06-27T12:47:32.225024Z",
     "shell.execute_reply": "2025-06-27T12:47:32.224141Z"
    },
    "papermill": {
     "duration": 0.01925,
     "end_time": "2025-06-27T12:47:32.226568",
     "exception": false,
     "start_time": "2025-06-27T12:47:32.207318",
     "status": "completed"
    },
    "tags": []
   },
   "outputs": [
    {
     "data": {
      "text/html": [
       "<div>\n",
       "<style scoped>\n",
       "    .dataframe tbody tr th:only-of-type {\n",
       "        vertical-align: middle;\n",
       "    }\n",
       "\n",
       "    .dataframe tbody tr th {\n",
       "        vertical-align: top;\n",
       "    }\n",
       "\n",
       "    .dataframe thead th {\n",
       "        text-align: right;\n",
       "    }\n",
       "</style>\n",
       "<table border=\"1\" class=\"dataframe\">\n",
       "  <thead>\n",
       "    <tr style=\"text-align: right;\">\n",
       "      <th></th>\n",
       "      <th>Socioeconomic Score</th>\n",
       "      <th>Study Hours</th>\n",
       "      <th>Sleep Hours</th>\n",
       "      <th>Attendance (%)</th>\n",
       "      <th>Grades</th>\n",
       "    </tr>\n",
       "  </thead>\n",
       "  <tbody>\n",
       "    <tr>\n",
       "      <th>0</th>\n",
       "      <td>0.95822</td>\n",
       "      <td>3.4</td>\n",
       "      <td>8.2</td>\n",
       "      <td>53.0</td>\n",
       "      <td>47.0</td>\n",
       "    </tr>\n",
       "    <tr>\n",
       "      <th>1</th>\n",
       "      <td>0.85566</td>\n",
       "      <td>3.2</td>\n",
       "      <td>5.9</td>\n",
       "      <td>55.0</td>\n",
       "      <td>35.0</td>\n",
       "    </tr>\n",
       "    <tr>\n",
       "      <th>2</th>\n",
       "      <td>0.68025</td>\n",
       "      <td>3.2</td>\n",
       "      <td>9.3</td>\n",
       "      <td>41.0</td>\n",
       "      <td>32.0</td>\n",
       "    </tr>\n",
       "    <tr>\n",
       "      <th>3</th>\n",
       "      <td>0.25936</td>\n",
       "      <td>3.2</td>\n",
       "      <td>8.2</td>\n",
       "      <td>47.0</td>\n",
       "      <td>34.0</td>\n",
       "    </tr>\n",
       "    <tr>\n",
       "      <th>4</th>\n",
       "      <td>0.60447</td>\n",
       "      <td>3.8</td>\n",
       "      <td>10.0</td>\n",
       "      <td>75.0</td>\n",
       "      <td>33.0</td>\n",
       "    </tr>\n",
       "  </tbody>\n",
       "</table>\n",
       "</div>"
      ],
      "text/plain": [
       "   Socioeconomic Score  Study Hours  Sleep Hours  Attendance (%)  Grades\n",
       "0              0.95822          3.4          8.2            53.0    47.0\n",
       "1              0.85566          3.2          5.9            55.0    35.0\n",
       "2              0.68025          3.2          9.3            41.0    32.0\n",
       "3              0.25936          3.2          8.2            47.0    34.0\n",
       "4              0.60447          3.8         10.0            75.0    33.0"
      ]
     },
     "execution_count": 4,
     "metadata": {},
     "output_type": "execute_result"
    }
   ],
   "source": [
    "df.head()"
   ]
  },
  {
   "cell_type": "code",
   "execution_count": 5,
   "id": "8776e4a1",
   "metadata": {
    "execution": {
     "iopub.execute_input": "2025-06-27T12:47:32.239083Z",
     "iopub.status.busy": "2025-06-27T12:47:32.238515Z",
     "iopub.status.idle": "2025-06-27T12:47:32.260562Z",
     "shell.execute_reply": "2025-06-27T12:47:32.259545Z"
    },
    "papermill": {
     "duration": 0.029749,
     "end_time": "2025-06-27T12:47:32.261952",
     "exception": false,
     "start_time": "2025-06-27T12:47:32.232203",
     "status": "completed"
    },
    "tags": []
   },
   "outputs": [
    {
     "name": "stdout",
     "output_type": "stream",
     "text": [
      "<class 'pandas.core.frame.DataFrame'>\n",
      "RangeIndex: 1388 entries, 0 to 1387\n",
      "Data columns (total 5 columns):\n",
      " #   Column               Non-Null Count  Dtype  \n",
      "---  ------               --------------  -----  \n",
      " 0   Socioeconomic Score  1388 non-null   float64\n",
      " 1   Study Hours          1388 non-null   float64\n",
      " 2   Sleep Hours          1388 non-null   float64\n",
      " 3   Attendance (%)       1388 non-null   float64\n",
      " 4   Grades               1388 non-null   float64\n",
      "dtypes: float64(5)\n",
      "memory usage: 54.3 KB\n"
     ]
    }
   ],
   "source": [
    "df.info()"
   ]
  },
  {
   "cell_type": "markdown",
   "id": "4c0b4232",
   "metadata": {
    "papermill": {
     "duration": 0.005204,
     "end_time": "2025-06-27T12:47:32.273005",
     "exception": false,
     "start_time": "2025-06-27T12:47:32.267801",
     "status": "completed"
    },
    "tags": []
   },
   "source": [
    "## **Check Data**"
   ]
  },
  {
   "cell_type": "code",
   "execution_count": 6,
   "id": "fb3488a7",
   "metadata": {
    "execution": {
     "iopub.execute_input": "2025-06-27T12:47:32.285048Z",
     "iopub.status.busy": "2025-06-27T12:47:32.284721Z",
     "iopub.status.idle": "2025-06-27T12:47:32.291606Z",
     "shell.execute_reply": "2025-06-27T12:47:32.290794Z"
    },
    "papermill": {
     "duration": 0.014601,
     "end_time": "2025-06-27T12:47:32.293055",
     "exception": false,
     "start_time": "2025-06-27T12:47:32.278454",
     "status": "completed"
    },
    "tags": []
   },
   "outputs": [
    {
     "data": {
      "text/plain": [
       "Socioeconomic Score    0\n",
       "Study Hours            0\n",
       "Sleep Hours            0\n",
       "Attendance (%)         0\n",
       "Grades                 0\n",
       "dtype: int64"
      ]
     },
     "execution_count": 6,
     "metadata": {},
     "output_type": "execute_result"
    }
   ],
   "source": [
    "df.isnull().sum()"
   ]
  },
  {
   "cell_type": "code",
   "execution_count": 7,
   "id": "91d769cc",
   "metadata": {
    "execution": {
     "iopub.execute_input": "2025-06-27T12:47:32.306440Z",
     "iopub.status.busy": "2025-06-27T12:47:32.306069Z",
     "iopub.status.idle": "2025-06-27T12:47:32.315877Z",
     "shell.execute_reply": "2025-06-27T12:47:32.314976Z"
    },
    "papermill": {
     "duration": 0.018511,
     "end_time": "2025-06-27T12:47:32.317387",
     "exception": false,
     "start_time": "2025-06-27T12:47:32.298876",
     "status": "completed"
    },
    "tags": []
   },
   "outputs": [
    {
     "data": {
      "text/plain": [
       "0       False\n",
       "1       False\n",
       "2       False\n",
       "3       False\n",
       "4       False\n",
       "        ...  \n",
       "1383    False\n",
       "1384    False\n",
       "1385    False\n",
       "1386    False\n",
       "1387    False\n",
       "Length: 1388, dtype: bool"
      ]
     },
     "execution_count": 7,
     "metadata": {},
     "output_type": "execute_result"
    }
   ],
   "source": [
    "df.duplicated()"
   ]
  },
  {
   "cell_type": "markdown",
   "id": "2438ea4e",
   "metadata": {
    "papermill": {
     "duration": 0.005548,
     "end_time": "2025-06-27T12:47:32.328950",
     "exception": false,
     "start_time": "2025-06-27T12:47:32.323402",
     "status": "completed"
    },
    "tags": []
   },
   "source": [
    "## **Data Analysis**\n"
   ]
  },
  {
   "cell_type": "code",
   "execution_count": 8,
   "id": "9a8c7718",
   "metadata": {
    "execution": {
     "iopub.execute_input": "2025-06-27T12:47:32.342139Z",
     "iopub.status.busy": "2025-06-27T12:47:32.341584Z",
     "iopub.status.idle": "2025-06-27T12:47:32.355656Z",
     "shell.execute_reply": "2025-06-27T12:47:32.354842Z"
    },
    "papermill": {
     "duration": 0.021889,
     "end_time": "2025-06-27T12:47:32.357003",
     "exception": false,
     "start_time": "2025-06-27T12:47:32.335114",
     "status": "completed"
    },
    "tags": []
   },
   "outputs": [
    {
     "data": {
      "text/html": [
       "<div>\n",
       "<style scoped>\n",
       "    .dataframe tbody tr th:only-of-type {\n",
       "        vertical-align: middle;\n",
       "    }\n",
       "\n",
       "    .dataframe tbody tr th {\n",
       "        vertical-align: top;\n",
       "    }\n",
       "\n",
       "    .dataframe thead th {\n",
       "        text-align: right;\n",
       "    }\n",
       "</style>\n",
       "<table border=\"1\" class=\"dataframe\">\n",
       "  <thead>\n",
       "    <tr style=\"text-align: right;\">\n",
       "      <th></th>\n",
       "      <th>Socioeconomic Score</th>\n",
       "      <th>Study Hours</th>\n",
       "      <th>Sleep Hours</th>\n",
       "      <th>Attendance (%)</th>\n",
       "      <th>Grades</th>\n",
       "    </tr>\n",
       "  </thead>\n",
       "  <tbody>\n",
       "    <tr>\n",
       "      <th>74</th>\n",
       "      <td>0.74427</td>\n",
       "      <td>8.6</td>\n",
       "      <td>7.4</td>\n",
       "      <td>100.0</td>\n",
       "      <td>58.0</td>\n",
       "    </tr>\n",
       "    <tr>\n",
       "      <th>561</th>\n",
       "      <td>0.35115</td>\n",
       "      <td>8.1</td>\n",
       "      <td>8.2</td>\n",
       "      <td>92.0</td>\n",
       "      <td>53.0</td>\n",
       "    </tr>\n",
       "    <tr>\n",
       "      <th>598</th>\n",
       "      <td>0.65674</td>\n",
       "      <td>8.8</td>\n",
       "      <td>5.4</td>\n",
       "      <td>98.0</td>\n",
       "      <td>58.0</td>\n",
       "    </tr>\n",
       "    <tr>\n",
       "      <th>786</th>\n",
       "      <td>0.83476</td>\n",
       "      <td>8.3</td>\n",
       "      <td>7.2</td>\n",
       "      <td>98.0</td>\n",
       "      <td>59.0</td>\n",
       "    </tr>\n",
       "    <tr>\n",
       "      <th>830</th>\n",
       "      <td>0.90524</td>\n",
       "      <td>9.2</td>\n",
       "      <td>7.5</td>\n",
       "      <td>99.0</td>\n",
       "      <td>67.0</td>\n",
       "    </tr>\n",
       "    <tr>\n",
       "      <th>841</th>\n",
       "      <td>0.77791</td>\n",
       "      <td>8.4</td>\n",
       "      <td>8.4</td>\n",
       "      <td>93.0</td>\n",
       "      <td>59.0</td>\n",
       "    </tr>\n",
       "    <tr>\n",
       "      <th>842</th>\n",
       "      <td>0.48282</td>\n",
       "      <td>8.6</td>\n",
       "      <td>6.2</td>\n",
       "      <td>93.0</td>\n",
       "      <td>58.0</td>\n",
       "    </tr>\n",
       "    <tr>\n",
       "      <th>872</th>\n",
       "      <td>0.79123</td>\n",
       "      <td>8.8</td>\n",
       "      <td>5.9</td>\n",
       "      <td>92.0</td>\n",
       "      <td>61.0</td>\n",
       "    </tr>\n",
       "    <tr>\n",
       "      <th>985</th>\n",
       "      <td>0.68971</td>\n",
       "      <td>8.4</td>\n",
       "      <td>8.4</td>\n",
       "      <td>98.0</td>\n",
       "      <td>56.0</td>\n",
       "    </tr>\n",
       "    <tr>\n",
       "      <th>1077</th>\n",
       "      <td>0.86712</td>\n",
       "      <td>8.1</td>\n",
       "      <td>8.2</td>\n",
       "      <td>93.0</td>\n",
       "      <td>61.0</td>\n",
       "    </tr>\n",
       "    <tr>\n",
       "      <th>1242</th>\n",
       "      <td>0.21867</td>\n",
       "      <td>8.4</td>\n",
       "      <td>8.0</td>\n",
       "      <td>96.0</td>\n",
       "      <td>58.0</td>\n",
       "    </tr>\n",
       "    <tr>\n",
       "      <th>1267</th>\n",
       "      <td>0.75877</td>\n",
       "      <td>8.2</td>\n",
       "      <td>7.0</td>\n",
       "      <td>94.0</td>\n",
       "      <td>57.0</td>\n",
       "    </tr>\n",
       "    <tr>\n",
       "      <th>1296</th>\n",
       "      <td>0.24446</td>\n",
       "      <td>8.6</td>\n",
       "      <td>6.0</td>\n",
       "      <td>95.0</td>\n",
       "      <td>58.0</td>\n",
       "    </tr>\n",
       "    <tr>\n",
       "      <th>1297</th>\n",
       "      <td>0.16922</td>\n",
       "      <td>8.4</td>\n",
       "      <td>5.3</td>\n",
       "      <td>97.0</td>\n",
       "      <td>55.0</td>\n",
       "    </tr>\n",
       "    <tr>\n",
       "      <th>1332</th>\n",
       "      <td>0.79186</td>\n",
       "      <td>8.3</td>\n",
       "      <td>7.0</td>\n",
       "      <td>95.0</td>\n",
       "      <td>57.0</td>\n",
       "    </tr>\n",
       "    <tr>\n",
       "      <th>1354</th>\n",
       "      <td>0.14612</td>\n",
       "      <td>8.8</td>\n",
       "      <td>7.6</td>\n",
       "      <td>93.0</td>\n",
       "      <td>59.0</td>\n",
       "    </tr>\n",
       "  </tbody>\n",
       "</table>\n",
       "</div>"
      ],
      "text/plain": [
       "      Socioeconomic Score  Study Hours  Sleep Hours  Attendance (%)  Grades\n",
       "74                0.74427          8.6          7.4           100.0    58.0\n",
       "561               0.35115          8.1          8.2            92.0    53.0\n",
       "598               0.65674          8.8          5.4            98.0    58.0\n",
       "786               0.83476          8.3          7.2            98.0    59.0\n",
       "830               0.90524          9.2          7.5            99.0    67.0\n",
       "841               0.77791          8.4          8.4            93.0    59.0\n",
       "842               0.48282          8.6          6.2            93.0    58.0\n",
       "872               0.79123          8.8          5.9            92.0    61.0\n",
       "985               0.68971          8.4          8.4            98.0    56.0\n",
       "1077              0.86712          8.1          8.2            93.0    61.0\n",
       "1242              0.21867          8.4          8.0            96.0    58.0\n",
       "1267              0.75877          8.2          7.0            94.0    57.0\n",
       "1296              0.24446          8.6          6.0            95.0    58.0\n",
       "1297              0.16922          8.4          5.3            97.0    55.0\n",
       "1332              0.79186          8.3          7.0            95.0    57.0\n",
       "1354              0.14612          8.8          7.6            93.0    59.0"
      ]
     },
     "execution_count": 8,
     "metadata": {},
     "output_type": "execute_result"
    }
   ],
   "source": [
    "df[(df['Attendance (%)']>90)]\n"
   ]
  },
  {
   "cell_type": "code",
   "execution_count": 9,
   "id": "a0317a40",
   "metadata": {
    "execution": {
     "iopub.execute_input": "2025-06-27T12:47:32.370474Z",
     "iopub.status.busy": "2025-06-27T12:47:32.369899Z",
     "iopub.status.idle": "2025-06-27T12:47:32.383430Z",
     "shell.execute_reply": "2025-06-27T12:47:32.382385Z"
    },
    "papermill": {
     "duration": 0.022013,
     "end_time": "2025-06-27T12:47:32.384916",
     "exception": false,
     "start_time": "2025-06-27T12:47:32.362903",
     "status": "completed"
    },
    "tags": []
   },
   "outputs": [
    {
     "data": {
      "text/html": [
       "<div>\n",
       "<style scoped>\n",
       "    .dataframe tbody tr th:only-of-type {\n",
       "        vertical-align: middle;\n",
       "    }\n",
       "\n",
       "    .dataframe tbody tr th {\n",
       "        vertical-align: top;\n",
       "    }\n",
       "\n",
       "    .dataframe thead th {\n",
       "        text-align: right;\n",
       "    }\n",
       "</style>\n",
       "<table border=\"1\" class=\"dataframe\">\n",
       "  <thead>\n",
       "    <tr style=\"text-align: right;\">\n",
       "      <th></th>\n",
       "      <th>Socioeconomic Score</th>\n",
       "      <th>Study Hours</th>\n",
       "      <th>Sleep Hours</th>\n",
       "      <th>Attendance (%)</th>\n",
       "      <th>Grades</th>\n",
       "    </tr>\n",
       "  </thead>\n",
       "  <tbody>\n",
       "    <tr>\n",
       "      <th>37</th>\n",
       "      <td>0.99789</td>\n",
       "      <td>9.5</td>\n",
       "      <td>7.1</td>\n",
       "      <td>41.0</td>\n",
       "      <td>88.0</td>\n",
       "    </tr>\n",
       "    <tr>\n",
       "      <th>456</th>\n",
       "      <td>0.95218</td>\n",
       "      <td>7.9</td>\n",
       "      <td>8.4</td>\n",
       "      <td>58.0</td>\n",
       "      <td>72.0</td>\n",
       "    </tr>\n",
       "    <tr>\n",
       "      <th>518</th>\n",
       "      <td>0.94391</td>\n",
       "      <td>9.7</td>\n",
       "      <td>6.8</td>\n",
       "      <td>81.0</td>\n",
       "      <td>76.0</td>\n",
       "    </tr>\n",
       "    <tr>\n",
       "      <th>556</th>\n",
       "      <td>0.99361</td>\n",
       "      <td>9.9</td>\n",
       "      <td>6.6</td>\n",
       "      <td>57.0</td>\n",
       "      <td>91.0</td>\n",
       "    </tr>\n",
       "    <tr>\n",
       "      <th>823</th>\n",
       "      <td>0.98776</td>\n",
       "      <td>7.1</td>\n",
       "      <td>7.5</td>\n",
       "      <td>60.0</td>\n",
       "      <td>73.0</td>\n",
       "    </tr>\n",
       "    <tr>\n",
       "      <th>843</th>\n",
       "      <td>0.99599</td>\n",
       "      <td>7.6</td>\n",
       "      <td>8.9</td>\n",
       "      <td>68.0</td>\n",
       "      <td>77.0</td>\n",
       "    </tr>\n",
       "    <tr>\n",
       "      <th>925</th>\n",
       "      <td>0.99033</td>\n",
       "      <td>8.1</td>\n",
       "      <td>8.2</td>\n",
       "      <td>74.0</td>\n",
       "      <td>80.0</td>\n",
       "    </tr>\n",
       "    <tr>\n",
       "      <th>1034</th>\n",
       "      <td>0.94074</td>\n",
       "      <td>8.6</td>\n",
       "      <td>7.7</td>\n",
       "      <td>81.0</td>\n",
       "      <td>73.0</td>\n",
       "    </tr>\n",
       "    <tr>\n",
       "      <th>1086</th>\n",
       "      <td>0.98429</td>\n",
       "      <td>8.7</td>\n",
       "      <td>5.9</td>\n",
       "      <td>86.0</td>\n",
       "      <td>78.0</td>\n",
       "    </tr>\n",
       "    <tr>\n",
       "      <th>1336</th>\n",
       "      <td>0.99982</td>\n",
       "      <td>7.1</td>\n",
       "      <td>9.0</td>\n",
       "      <td>48.0</td>\n",
       "      <td>74.0</td>\n",
       "    </tr>\n",
       "  </tbody>\n",
       "</table>\n",
       "</div>"
      ],
      "text/plain": [
       "      Socioeconomic Score  Study Hours  Sleep Hours  Attendance (%)  Grades\n",
       "37                0.99789          9.5          7.1            41.0    88.0\n",
       "456               0.95218          7.9          8.4            58.0    72.0\n",
       "518               0.94391          9.7          6.8            81.0    76.0\n",
       "556               0.99361          9.9          6.6            57.0    91.0\n",
       "823               0.98776          7.1          7.5            60.0    73.0\n",
       "843               0.99599          7.6          8.9            68.0    77.0\n",
       "925               0.99033          8.1          8.2            74.0    80.0\n",
       "1034              0.94074          8.6          7.7            81.0    73.0\n",
       "1086              0.98429          8.7          5.9            86.0    78.0\n",
       "1336              0.99982          7.1          9.0            48.0    74.0"
      ]
     },
     "execution_count": 9,
     "metadata": {},
     "output_type": "execute_result"
    }
   ],
   "source": [
    "df[(df['Grades']>70)]\n"
   ]
  },
  {
   "cell_type": "code",
   "execution_count": 10,
   "id": "3e49e5bb",
   "metadata": {
    "execution": {
     "iopub.execute_input": "2025-06-27T12:47:32.398344Z",
     "iopub.status.busy": "2025-06-27T12:47:32.398014Z",
     "iopub.status.idle": "2025-06-27T12:47:32.407675Z",
     "shell.execute_reply": "2025-06-27T12:47:32.406802Z"
    },
    "papermill": {
     "duration": 0.017879,
     "end_time": "2025-06-27T12:47:32.409033",
     "exception": false,
     "start_time": "2025-06-27T12:47:32.391154",
     "status": "completed"
    },
    "tags": []
   },
   "outputs": [
    {
     "data": {
      "text/plain": [
       "Grades\n",
       "34.0    349\n",
       "35.0    194\n",
       "33.0    167\n",
       "36.0     47\n",
       "47.0     33\n",
       "50.0     31\n",
       "37.0     30\n",
       "40.0     30\n",
       "41.0     28\n",
       "46.0     28\n",
       "42.0     27\n",
       "53.0     26\n",
       "44.0     26\n",
       "51.0     26\n",
       "52.0     25\n",
       "48.0     25\n",
       "39.0     25\n",
       "38.0     24\n",
       "32.0     24\n",
       "49.0     23\n",
       "45.0     23\n",
       "54.0     21\n",
       "58.0     16\n",
       "55.0     14\n",
       "59.0     13\n",
       "43.0     13\n",
       "57.0     13\n",
       "56.0     12\n",
       "60.0     11\n",
       "61.0     10\n",
       "63.0      9\n",
       "62.0      9\n",
       "67.0      7\n",
       "64.0      7\n",
       "70.0      4\n",
       "66.0      3\n",
       "65.0      3\n",
       "73.0      2\n",
       "88.0      1\n",
       "72.0      1\n",
       "76.0      1\n",
       "91.0      1\n",
       "77.0      1\n",
       "80.0      1\n",
       "78.0      1\n",
       "69.0      1\n",
       "68.0      1\n",
       "74.0      1\n",
       "Name: count, dtype: int64"
      ]
     },
     "execution_count": 10,
     "metadata": {},
     "output_type": "execute_result"
    }
   ],
   "source": [
    "df['Grades'].value_counts()\n"
   ]
  },
  {
   "cell_type": "code",
   "execution_count": 11,
   "id": "b7903854",
   "metadata": {
    "execution": {
     "iopub.execute_input": "2025-06-27T12:47:32.422926Z",
     "iopub.status.busy": "2025-06-27T12:47:32.422580Z",
     "iopub.status.idle": "2025-06-27T12:47:33.016482Z",
     "shell.execute_reply": "2025-06-27T12:47:33.015432Z"
    },
    "papermill": {
     "duration": 0.605425,
     "end_time": "2025-06-27T12:47:33.020899",
     "exception": false,
     "start_time": "2025-06-27T12:47:32.415474",
     "status": "completed"
    },
    "tags": []
   },
   "outputs": [
    {
     "data": {
      "image/png": "[encoded data removed]",
      "text/plain": [
       "<Figure size 1000x800 with 1 Axes>"
      ]
     },
     "metadata": {},
     "output_type": "display_data"
    }
   ],
   "source": [
    "# Create a pie chart for the top 5 most common reviews\n",
    "top_reviews = df[(df['Grades']>70)].value_counts()\n",
    "plt.figure(figsize=(10, 8))\n",
    "plt.pie(\n",
    "    top_reviews.values,\n",
    "    labels=top_reviews.index,\n",
    "    \n",
    "    \n",
    "    autopct=\"%1.2f%%\",\n",
    "    colors=['Blue', 'Purple', 'Red', 'Green', 'Orange'],\n",
    "    shadow=True,\n",
    "    startangle=140\n",
    ")\n",
    "plt.title('Top 5 Most Common Grades (Pie Chart)')\n",
    "plt.legend(title=' Grades', loc='best')\n",
    "plt.tight_layout()\n",
    "plt.show()"
   ]
  },
  {
   "cell_type": "code",
   "execution_count": 12,
   "id": "cf376e49",
   "metadata": {
    "execution": {
     "iopub.execute_input": "2025-06-27T12:47:33.040002Z",
     "iopub.status.busy": "2025-06-27T12:47:33.039145Z",
     "iopub.status.idle": "2025-06-27T12:47:33.048213Z",
     "shell.execute_reply": "2025-06-27T12:47:33.047340Z"
    },
    "papermill": {
     "duration": 0.019985,
     "end_time": "2025-06-27T12:47:33.049740",
     "exception": false,
     "start_time": "2025-06-27T12:47:33.029755",
     "status": "completed"
    },
    "tags": []
   },
   "outputs": [
    {
     "data": {
      "text/plain": [
       "Attendance (%)\n",
       "51.0     55\n",
       "57.0     54\n",
       "47.0     48\n",
       "55.0     48\n",
       "59.0     46\n",
       "58.0     46\n",
       "46.0     45\n",
       "60.0     45\n",
       "61.0     44\n",
       "45.0     43\n",
       "49.0     42\n",
       "52.0     40\n",
       "66.0     40\n",
       "56.0     39\n",
       "53.0     39\n",
       "63.0     38\n",
       "42.0     35\n",
       "67.0     35\n",
       "54.0     35\n",
       "62.0     33\n",
       "65.0     33\n",
       "69.0     33\n",
       "68.0     33\n",
       "43.0     32\n",
       "50.0     32\n",
       "64.0     32\n",
       "48.0     30\n",
       "41.0     28\n",
       "44.0     28\n",
       "72.0     25\n",
       "71.0     24\n",
       "40.0     24\n",
       "70.0     22\n",
       "73.0     19\n",
       "75.0     19\n",
       "74.0     13\n",
       "78.0     13\n",
       "83.0     12\n",
       "79.0     10\n",
       "76.0     10\n",
       "77.0      9\n",
       "81.0      8\n",
       "84.0      7\n",
       "80.0      5\n",
       "86.0      5\n",
       "93.0      4\n",
       "87.0      4\n",
       "85.0      3\n",
       "90.0      3\n",
       "98.0      3\n",
       "95.0      2\n",
       "88.0      2\n",
       "82.0      2\n",
       "92.0      2\n",
       "89.0      2\n",
       "99.0      1\n",
       "96.0      1\n",
       "94.0      1\n",
       "100.0     1\n",
       "97.0      1\n",
       "Name: count, dtype: int64"
      ]
     },
     "execution_count": 12,
     "metadata": {},
     "output_type": "execute_result"
    }
   ],
   "source": [
    "df['Attendance (%)'].value_counts()"
   ]
  },
  {
   "cell_type": "code",
   "execution_count": 13,
   "id": "11666900",
   "metadata": {
    "execution": {
     "iopub.execute_input": "2025-06-27T12:47:33.069252Z",
     "iopub.status.busy": "2025-06-27T12:47:33.068393Z",
     "iopub.status.idle": "2025-06-27T12:47:33.310742Z",
     "shell.execute_reply": "2025-06-27T12:47:33.309831Z"
    },
    "papermill": {
     "duration": 0.25362,
     "end_time": "2025-06-27T12:47:33.312361",
     "exception": false,
     "start_time": "2025-06-27T12:47:33.058741",
     "status": "completed"
    },
    "tags": []
   },
   "outputs": [
    {
     "data": {
      "image/png": "[encoded data removed]",
      "text/plain": [
       "<Figure size 1000x600 with 1 Axes>"
      ]
     },
     "metadata": {},
     "output_type": "display_data"
    }
   ],
   "source": [
    "plt.figure(figsize=(10, 6))\n",
    "plt.bar(df['Attendance (%)'].value_counts().index, df['Attendance (%)'].value_counts().values, color='limegreen')\n",
    "plt.title('Attendance (%)')\n",
    "plt.xlabel('Attendance (%)')\n",
    "plt.ylabel('Frequency')\n",
    "\n",
    "plt.show()"
   ]
  },
  {
   "cell_type": "code",
   "execution_count": 14,
   "id": "15f479da",
   "metadata": {
    "execution": {
     "iopub.execute_input": "2025-06-27T12:47:33.332188Z",
     "iopub.status.busy": "2025-06-27T12:47:33.331819Z",
     "iopub.status.idle": "2025-06-27T12:47:33.652910Z",
     "shell.execute_reply": "2025-06-27T12:47:33.652034Z"
    },
    "papermill": {
     "duration": 0.332704,
     "end_time": "2025-06-27T12:47:33.654441",
     "exception": false,
     "start_time": "2025-06-27T12:47:33.321737",
     "status": "completed"
    },
    "tags": []
   },
   "outputs": [
    {
     "data": {
      "image/png": "[encoded data removed]",
      "text/plain": [
       "<Figure size 640x480 with 2 Axes>"
      ]
     },
     "metadata": {},
     "output_type": "display_data"
    }
   ],
   "source": [
    "plt.subplot(2, 2, 3)\n",
    "sns.scatterplot(x='Attendance (%)', y='Grades', data=df)\n",
    "plt.title(\"Attendance vs Grades\")\n",
    "\n",
    "plt.subplot(2, 2, 4)\n",
    "sns.scatterplot(x='Sleep Hours', y='Grades', data=df)\n",
    "plt.title(\"Sleep Hours vs Grades\")\n",
    "\n",
    "plt.tight_layout()\n",
    "plt.show()"
   ]
  },
  {
   "cell_type": "markdown",
   "id": "4d64b219",
   "metadata": {
    "papermill": {
     "duration": 0.0098,
     "end_time": "2025-06-27T12:47:33.674734",
     "exception": false,
     "start_time": "2025-06-27T12:47:33.664934",
     "status": "completed"
    },
    "tags": []
   },
   "source": [
    "**Define Target and featcher**"
   ]
  },
  {
   "cell_type": "code",
   "execution_count": 15,
   "id": "b819f15d",
   "metadata": {
    "execution": {
     "iopub.execute_input": "2025-06-27T12:47:33.696465Z",
     "iopub.status.busy": "2025-06-27T12:47:33.696022Z",
     "iopub.status.idle": "2025-06-27T12:47:33.701484Z",
     "shell.execute_reply": "2025-06-27T12:47:33.700661Z"
    },
    "papermill": {
     "duration": 0.018097,
     "end_time": "2025-06-27T12:47:33.702969",
     "exception": false,
     "start_time": "2025-06-27T12:47:33.684872",
     "status": "completed"
    },
    "tags": []
   },
   "outputs": [],
   "source": [
    "X = df.drop(columns=['Grades'])\n",
    "y = df['Grades']\n"
   ]
  },
  {
   "cell_type": "markdown",
   "id": "f7b910ab",
   "metadata": {
    "papermill": {
     "duration": 0.009964,
     "end_time": "2025-06-27T12:47:33.723415",
     "exception": false,
     "start_time": "2025-06-27T12:47:33.713451",
     "status": "completed"
    },
    "tags": []
   },
   "source": [
    "**Data Encoding**\n"
   ]
  },
  {
   "cell_type": "code",
   "execution_count": 16,
   "id": "7dda1b97",
   "metadata": {
    "execution": {
     "iopub.execute_input": "2025-06-27T12:47:33.744959Z",
     "iopub.status.busy": "2025-06-27T12:47:33.744663Z",
     "iopub.status.idle": "2025-06-27T12:47:33.755245Z",
     "shell.execute_reply": "2025-06-27T12:47:33.754576Z"
    },
    "papermill": {
     "duration": 0.023156,
     "end_time": "2025-06-27T12:47:33.756772",
     "exception": false,
     "start_time": "2025-06-27T12:47:33.733616",
     "status": "completed"
    },
    "tags": []
   },
   "outputs": [
    {
     "data": {
      "text/html": [
       "<div>\n",
       "<style scoped>\n",
       "    .dataframe tbody tr th:only-of-type {\n",
       "        vertical-align: middle;\n",
       "    }\n",
       "\n",
       "    .dataframe tbody tr th {\n",
       "        vertical-align: top;\n",
       "    }\n",
       "\n",
       "    .dataframe thead th {\n",
       "        text-align: right;\n",
       "    }\n",
       "</style>\n",
       "<table border=\"1\" class=\"dataframe\">\n",
       "  <thead>\n",
       "    <tr style=\"text-align: right;\">\n",
       "      <th></th>\n",
       "      <th>Socioeconomic Score</th>\n",
       "      <th>Study Hours</th>\n",
       "      <th>Sleep Hours</th>\n",
       "      <th>Attendance (%)</th>\n",
       "    </tr>\n",
       "  </thead>\n",
       "  <tbody>\n",
       "    <tr>\n",
       "      <th>0</th>\n",
       "      <td>0.95822</td>\n",
       "      <td>3.4</td>\n",
       "      <td>8.2</td>\n",
       "      <td>53.0</td>\n",
       "    </tr>\n",
       "    <tr>\n",
       "      <th>1</th>\n",
       "      <td>0.85566</td>\n",
       "      <td>3.2</td>\n",
       "      <td>5.9</td>\n",
       "      <td>55.0</td>\n",
       "    </tr>\n",
       "    <tr>\n",
       "      <th>2</th>\n",
       "      <td>0.68025</td>\n",
       "      <td>3.2</td>\n",
       "      <td>9.3</td>\n",
       "      <td>41.0</td>\n",
       "    </tr>\n",
       "    <tr>\n",
       "      <th>3</th>\n",
       "      <td>0.25936</td>\n",
       "      <td>3.2</td>\n",
       "      <td>8.2</td>\n",
       "      <td>47.0</td>\n",
       "    </tr>\n",
       "    <tr>\n",
       "      <th>4</th>\n",
       "      <td>0.60447</td>\n",
       "      <td>3.8</td>\n",
       "      <td>10.0</td>\n",
       "      <td>75.0</td>\n",
       "    </tr>\n",
       "  </tbody>\n",
       "</table>\n",
       "</div>"
      ],
      "text/plain": [
       "   Socioeconomic Score  Study Hours  Sleep Hours  Attendance (%)\n",
       "0              0.95822          3.4          8.2            53.0\n",
       "1              0.85566          3.2          5.9            55.0\n",
       "2              0.68025          3.2          9.3            41.0\n",
       "3              0.25936          3.2          8.2            47.0\n",
       "4              0.60447          3.8         10.0            75.0"
      ]
     },
     "execution_count": 16,
     "metadata": {},
     "output_type": "execute_result"
    }
   ],
   "source": [
    "X.head()"
   ]
  },
  {
   "cell_type": "markdown",
   "id": "7134d277",
   "metadata": {
    "papermill": {
     "duration": 0.01014,
     "end_time": "2025-06-27T12:47:33.777623",
     "exception": false,
     "start_time": "2025-06-27T12:47:33.767483",
     "status": "completed"
    },
    "tags": []
   },
   "source": [
    "## **Data Modeling**"
   ]
  },
  {
   "cell_type": "code",
   "execution_count": 17,
   "id": "f8bae54b",
   "metadata": {
    "execution": {
     "iopub.execute_input": "2025-06-27T12:47:33.800930Z",
     "iopub.status.busy": "2025-06-27T12:47:33.800175Z",
     "iopub.status.idle": "2025-06-27T12:47:33.821426Z",
     "shell.execute_reply": "2025-06-27T12:47:33.820352Z"
    },
    "papermill": {
     "duration": 0.034766,
     "end_time": "2025-06-27T12:47:33.823026",
     "exception": false,
     "start_time": "2025-06-27T12:47:33.788260",
     "status": "completed"
    },
    "tags": []
   },
   "outputs": [],
   "source": [
    "from sklearn.preprocessing import MinMaxScaler\n",
    "scaler = MinMaxScaler()\n",
    "df['Socioeconomic Score'] = scaler.fit_transform(df[['Socioeconomic Score']])\n",
    "df['Study Hours'] = scaler.fit_transform(df[['Study Hours']])\n",
    "df['Sleep Hours'] = scaler.fit_transform(df[['Sleep Hours']])\n",
    "df['Attendance (%)'] = scaler.fit_transform(df[['Attendance (%)']])\n",
    "df['Grades'] = scaler.fit_transform(df[['Grades']])"
   ]
  },
  {
   "cell_type": "code",
   "execution_count": 18,
   "id": "36e73b2c",
   "metadata": {
    "execution": {
     "iopub.execute_input": "2025-06-27T12:47:33.845288Z",
     "iopub.status.busy": "2025-06-27T12:47:33.844985Z",
     "iopub.status.idle": "2025-06-27T12:47:33.856714Z",
     "shell.execute_reply": "2025-06-27T12:47:33.855972Z"
    },
    "papermill": {
     "duration": 0.024484,
     "end_time": "2025-06-27T12:47:33.858098",
     "exception": false,
     "start_time": "2025-06-27T12:47:33.833614",
     "status": "completed"
    },
    "tags": []
   },
   "outputs": [
    {
     "data": {
      "text/html": [
       "<div>\n",
       "<style scoped>\n",
       "    .dataframe tbody tr th:only-of-type {\n",
       "        vertical-align: middle;\n",
       "    }\n",
       "\n",
       "    .dataframe tbody tr th {\n",
       "        vertical-align: top;\n",
       "    }\n",
       "\n",
       "    .dataframe thead th {\n",
       "        text-align: right;\n",
       "    }\n",
       "</style>\n",
       "<table border=\"1\" class=\"dataframe\">\n",
       "  <thead>\n",
       "    <tr style=\"text-align: right;\">\n",
       "      <th></th>\n",
       "      <th>Socioeconomic Score</th>\n",
       "      <th>Study Hours</th>\n",
       "      <th>Sleep Hours</th>\n",
       "      <th>Attendance (%)</th>\n",
       "      <th>Grades</th>\n",
       "    </tr>\n",
       "  </thead>\n",
       "  <tbody>\n",
       "    <tr>\n",
       "      <th>0</th>\n",
       "      <td>0.953703</td>\n",
       "      <td>0.282609</td>\n",
       "      <td>0.653846</td>\n",
       "      <td>0.216667</td>\n",
       "      <td>0.254237</td>\n",
       "    </tr>\n",
       "    <tr>\n",
       "      <th>1</th>\n",
       "      <td>0.839562</td>\n",
       "      <td>0.260870</td>\n",
       "      <td>0.211538</td>\n",
       "      <td>0.250000</td>\n",
       "      <td>0.050847</td>\n",
       "    </tr>\n",
       "    <tr>\n",
       "      <th>2</th>\n",
       "      <td>0.644345</td>\n",
       "      <td>0.260870</td>\n",
       "      <td>0.865385</td>\n",
       "      <td>0.016667</td>\n",
       "      <td>0.000000</td>\n",
       "    </tr>\n",
       "    <tr>\n",
       "      <th>3</th>\n",
       "      <td>0.175930</td>\n",
       "      <td>0.260870</td>\n",
       "      <td>0.653846</td>\n",
       "      <td>0.116667</td>\n",
       "      <td>0.033898</td>\n",
       "    </tr>\n",
       "    <tr>\n",
       "      <th>4</th>\n",
       "      <td>0.560008</td>\n",
       "      <td>0.326087</td>\n",
       "      <td>1.000000</td>\n",
       "      <td>0.583333</td>\n",
       "      <td>0.016949</td>\n",
       "    </tr>\n",
       "    <tr>\n",
       "      <th>...</th>\n",
       "      <td>...</td>\n",
       "      <td>...</td>\n",
       "      <td>...</td>\n",
       "      <td>...</td>\n",
       "      <td>...</td>\n",
       "    </tr>\n",
       "    <tr>\n",
       "      <th>1383</th>\n",
       "      <td>0.383077</td>\n",
       "      <td>0.510870</td>\n",
       "      <td>0.615385</td>\n",
       "      <td>0.183333</td>\n",
       "      <td>0.152542</td>\n",
       "    </tr>\n",
       "    <tr>\n",
       "      <th>1384</th>\n",
       "      <td>0.471187</td>\n",
       "      <td>0.445652</td>\n",
       "      <td>0.326923</td>\n",
       "      <td>0.383333</td>\n",
       "      <td>0.084746</td>\n",
       "    </tr>\n",
       "    <tr>\n",
       "      <th>1385</th>\n",
       "      <td>0.868843</td>\n",
       "      <td>0.336957</td>\n",
       "      <td>0.269231</td>\n",
       "      <td>0.233333</td>\n",
       "      <td>0.067797</td>\n",
       "    </tr>\n",
       "    <tr>\n",
       "      <th>1386</th>\n",
       "      <td>0.414094</td>\n",
       "      <td>0.293478</td>\n",
       "      <td>0.480769</td>\n",
       "      <td>0.350000</td>\n",
       "      <td>0.033898</td>\n",
       "    </tr>\n",
       "    <tr>\n",
       "      <th>1387</th>\n",
       "      <td>0.534100</td>\n",
       "      <td>0.315217</td>\n",
       "      <td>0.942308</td>\n",
       "      <td>0.650000</td>\n",
       "      <td>0.050847</td>\n",
       "    </tr>\n",
       "  </tbody>\n",
       "</table>\n",
       "<p>1388 rows × 5 columns</p>\n",
       "</div>"
      ],
      "text/plain": [
       "      Socioeconomic Score  Study Hours  Sleep Hours  Attendance (%)    Grades\n",
       "0                0.953703     0.282609     0.653846        0.216667  0.254237\n",
       "1                0.839562     0.260870     0.211538        0.250000  0.050847\n",
       "2                0.644345     0.260870     0.865385        0.016667  0.000000\n",
       "3                0.175930     0.260870     0.653846        0.116667  0.033898\n",
       "4                0.560008     0.326087     1.000000        0.583333  0.016949\n",
       "...                   ...          ...          ...             ...       ...\n",
       "1383             0.383077     0.510870     0.615385        0.183333  0.152542\n",
       "1384             0.471187     0.445652     0.326923        0.383333  0.084746\n",
       "1385             0.868843     0.336957     0.269231        0.233333  0.067797\n",
       "1386             0.414094     0.293478     0.480769        0.350000  0.033898\n",
       "1387             0.534100     0.315217     0.942308        0.650000  0.050847\n",
       "\n",
       "[1388 rows x 5 columns]"
      ]
     },
     "execution_count": 18,
     "metadata": {},
     "output_type": "execute_result"
    }
   ],
   "source": [
    "df"
   ]
  },
  {
   "cell_type": "code",
   "execution_count": 19,
   "id": "cb0e8e4a",
   "metadata": {
    "execution": {
     "iopub.execute_input": "2025-06-27T12:47:33.880950Z",
     "iopub.status.busy": "2025-06-27T12:47:33.880241Z",
     "iopub.status.idle": "2025-06-27T12:47:33.886864Z",
     "shell.execute_reply": "2025-06-27T12:47:33.886194Z"
    },
    "papermill": {
     "duration": 0.01933,
     "end_time": "2025-06-27T12:47:33.888158",
     "exception": false,
     "start_time": "2025-06-27T12:47:33.868828",
     "status": "completed"
    },
    "tags": []
   },
   "outputs": [],
   "source": [
    "X_train, X_test, y_train, y_test = train_test_split(X,y, test_size =0.25, random_state = 42)"
   ]
  },
  {
   "cell_type": "code",
   "execution_count": 20,
   "id": "9f04f6d1",
   "metadata": {
    "execution": {
     "iopub.execute_input": "2025-06-27T12:47:33.910731Z",
     "iopub.status.busy": "2025-06-27T12:47:33.910397Z",
     "iopub.status.idle": "2025-06-27T12:47:34.048118Z",
     "shell.execute_reply": "2025-06-27T12:47:34.047214Z"
    },
    "papermill": {
     "duration": 0.150708,
     "end_time": "2025-06-27T12:47:34.049536",
     "exception": false,
     "start_time": "2025-06-27T12:47:33.898828",
     "status": "completed"
    },
    "tags": []
   },
   "outputs": [
    {
     "data": {
      "text/html": [
       "<style>#sk-container-id-1 {color: black;background-color: white;}#sk-container-id-1 pre{padding: 0;}#sk-container-id-1 div.sk-toggleable {background-color: white;}#sk-container-id-1 label.sk-toggleable__label {cursor: pointer;display: block;width: 100%;margin-bottom: 0;padding: 0.3em;box-sizing: border-box;text-align: center;}#sk-container-id-1 label.sk-toggleable__label-arrow:before {content: \"▸\";float: left;margin-right: 0.25em;color: #696969;}#sk-container-id-1 label.sk-toggleable__label-arrow:hover:before {color: black;}#sk-container-id-1 div.sk-estimator:hover label.sk-toggleable__label-arrow:before {color: black;}#sk-container-id-1 div.sk-toggleable__content {max-height: 0;max-width: 0;overflow: hidden;text-align: left;background-color: #f0f8ff;}#sk-container-id-1 div.sk-toggleable__content pre {margin: 0.2em;color: black;border-radius: 0.25em;background-color: #f0f8ff;}#sk-container-id-1 input.sk-toggleable__control:checked~div.sk-toggleable__content {max-height: 200px;max-width: 100%;overflow: auto;}#sk-container-id-1 input.sk-toggleable__control:checked~label.sk-toggleable__label-arrow:before {content: \"▾\";}#sk-container-id-1 div.sk-estimator input.sk-toggleable__control:checked~label.sk-toggleable__label {background-color: #d4ebff;}#sk-container-id-1 div.sk-label input.sk-toggleable__control:checked~label.sk-toggleable__label {background-color: #d4ebff;}#sk-container-id-1 input.sk-hidden--visually {border: 0;clip: rect(1px 1px 1px 1px);clip: rect(1px, 1px, 1px, 1px);height: 1px;margin: -1px;overflow: hidden;padding: 0;position: absolute;width: 1px;}#sk-container-id-1 div.sk-estimator {font-family: monospace;background-color: #f0f8ff;border: 1px dotted black;border-radius: 0.25em;box-sizing: border-box;margin-bottom: 0.5em;}#sk-container-id-1 div.sk-estimator:hover {background-color: #d4ebff;}#sk-container-id-1 div.sk-parallel-item::after {content: \"\";width: 100%;border-bottom: 1px solid gray;flex-grow: 1;}#sk-container-id-1 div.sk-label:hover label.sk-toggleable__label {background-color: #d4ebff;}#sk-container-id-1 div.sk-serial::before {content: \"\";position: absolute;border-left: 1px solid gray;box-sizing: border-box;top: 0;bottom: 0;left: 50%;z-index: 0;}#sk-container-id-1 div.sk-serial {display: flex;flex-direction: column;align-items: center;background-color: white;padding-right: 0.2em;padding-left: 0.2em;position: relative;}#sk-container-id-1 div.sk-item {position: relative;z-index: 1;}#sk-container-id-1 div.sk-parallel {display: flex;align-items: stretch;justify-content: center;background-color: white;position: relative;}#sk-container-id-1 div.sk-item::before, #sk-container-id-1 div.sk-parallel-item::before {content: \"\";position: absolute;border-left: 1px solid gray;box-sizing: border-box;top: 0;bottom: 0;left: 50%;z-index: -1;}#sk-container-id-1 div.sk-parallel-item {display: flex;flex-direction: column;z-index: 1;position: relative;background-color: white;}#sk-container-id-1 div.sk-parallel-item:first-child::after {align-self: flex-end;width: 50%;}#sk-container-id-1 div.sk-parallel-item:last-child::after {align-self: flex-start;width: 50%;}#sk-container-id-1 div.sk-parallel-item:only-child::after {width: 0;}#sk-container-id-1 div.sk-dashed-wrapped {border: 1px dashed gray;margin: 0 0.4em 0.5em 0.4em;box-sizing: border-box;padding-bottom: 0.4em;background-color: white;}#sk-container-id-1 div.sk-label label {font-family: monospace;font-weight: bold;display: inline-block;line-height: 1.2em;}#sk-container-id-1 div.sk-label-container {text-align: center;}#sk-container-id-1 div.sk-container {/* jupyter's `normalize.less` sets `[hidden] { display: none; }` but bootstrap.min.css set `[hidden] { display: none !important; }` so we also need the `!important` here to be able to override the default hidden behavior on the sphinx rendered scikit-learn.org. See: https://github.com/scikit-learn/scikit-learn/issues/21755 */display: inline-block !important;position: relative;}#sk-container-id-1 div.sk-text-repr-fallback {display: none;}</style><div id=\"sk-container-id-1\" class=\"sk-top-container\"><div class=\"sk-text-repr-fallback\"><pre>LinearRegression()</pre><b>In a Jupyter environment, please rerun this cell to show the HTML representation or trust the notebook. <br />On GitHub, the HTML representation is unable to render, please try loading this page with nbviewer.org.</b></div><div class=\"sk-container\" hidden><div class=\"sk-item\"><div class=\"sk-estimator sk-toggleable\"><input class=\"sk-toggleable__control sk-hidden--visually\" id=\"sk-estimator-id-1\" type=\"checkbox\" checked><label for=\"sk-estimator-id-1\" class=\"sk-toggleable__label sk-toggleable__label-arrow\">LinearRegression</label><div class=\"sk-toggleable__content\"><pre>LinearRegression()</pre></div></div></div></div></div>"
      ],
      "text/plain": [
       "LinearRegression()"
      ]
     },
     "execution_count": 20,
     "metadata": {},
     "output_type": "execute_result"
    }
   ],
   "source": [
    "from sklearn.linear_model import LinearRegression, SGDRegressor, Lasso, Ridge\n",
    "from sklearn.metrics import mean_squared_error, mean_absolute_error ,r2_score\n",
    "lr = LinearRegression()\n",
    "\n",
    "lr.fit(X_train, y_train)"
   ]
  },
  {
   "cell_type": "code",
   "execution_count": 21,
   "id": "cff17bcb",
   "metadata": {
    "execution": {
     "iopub.execute_input": "2025-06-27T12:47:34.073579Z",
     "iopub.status.busy": "2025-06-27T12:47:34.073238Z",
     "iopub.status.idle": "2025-06-27T12:47:34.084854Z",
     "shell.execute_reply": "2025-06-27T12:47:34.084044Z"
    },
    "papermill": {
     "duration": 0.0252,
     "end_time": "2025-06-27T12:47:34.086210",
     "exception": false,
     "start_time": "2025-06-27T12:47:34.061010",
     "status": "completed"
    },
    "tags": []
   },
   "outputs": [
    {
     "data": {
      "text/html": [
       "<div>\n",
       "<style scoped>\n",
       "    .dataframe tbody tr th:only-of-type {\n",
       "        vertical-align: middle;\n",
       "    }\n",
       "\n",
       "    .dataframe tbody tr th {\n",
       "        vertical-align: top;\n",
       "    }\n",
       "\n",
       "    .dataframe thead th {\n",
       "        text-align: right;\n",
       "    }\n",
       "</style>\n",
       "<table border=\"1\" class=\"dataframe\">\n",
       "  <thead>\n",
       "    <tr style=\"text-align: right;\">\n",
       "      <th></th>\n",
       "      <th>Socioeconomic Score</th>\n",
       "      <th>Study Hours</th>\n",
       "      <th>Sleep Hours</th>\n",
       "      <th>Attendance (%)</th>\n",
       "    </tr>\n",
       "  </thead>\n",
       "  <tbody>\n",
       "    <tr>\n",
       "      <th>479</th>\n",
       "      <td>0.29793</td>\n",
       "      <td>3.8</td>\n",
       "      <td>8.5</td>\n",
       "      <td>74.0</td>\n",
       "    </tr>\n",
       "    <tr>\n",
       "      <th>351</th>\n",
       "      <td>0.14741</td>\n",
       "      <td>8.2</td>\n",
       "      <td>6.1</td>\n",
       "      <td>90.0</td>\n",
       "    </tr>\n",
       "    <tr>\n",
       "      <th>1192</th>\n",
       "      <td>0.79470</td>\n",
       "      <td>6.7</td>\n",
       "      <td>7.2</td>\n",
       "      <td>67.0</td>\n",
       "    </tr>\n",
       "    <tr>\n",
       "      <th>135</th>\n",
       "      <td>0.31144</td>\n",
       "      <td>6.0</td>\n",
       "      <td>8.7</td>\n",
       "      <td>82.0</td>\n",
       "    </tr>\n",
       "    <tr>\n",
       "      <th>567</th>\n",
       "      <td>0.62507</td>\n",
       "      <td>3.7</td>\n",
       "      <td>6.6</td>\n",
       "      <td>51.0</td>\n",
       "    </tr>\n",
       "    <tr>\n",
       "      <th>...</th>\n",
       "      <td>...</td>\n",
       "      <td>...</td>\n",
       "      <td>...</td>\n",
       "      <td>...</td>\n",
       "    </tr>\n",
       "    <tr>\n",
       "      <th>1095</th>\n",
       "      <td>0.99183</td>\n",
       "      <td>5.3</td>\n",
       "      <td>7.7</td>\n",
       "      <td>57.0</td>\n",
       "    </tr>\n",
       "    <tr>\n",
       "      <th>1130</th>\n",
       "      <td>0.59165</td>\n",
       "      <td>3.5</td>\n",
       "      <td>8.3</td>\n",
       "      <td>54.0</td>\n",
       "    </tr>\n",
       "    <tr>\n",
       "      <th>1294</th>\n",
       "      <td>0.48080</td>\n",
       "      <td>5.8</td>\n",
       "      <td>8.6</td>\n",
       "      <td>51.0</td>\n",
       "    </tr>\n",
       "    <tr>\n",
       "      <th>860</th>\n",
       "      <td>0.26835</td>\n",
       "      <td>4.4</td>\n",
       "      <td>6.6</td>\n",
       "      <td>63.0</td>\n",
       "    </tr>\n",
       "    <tr>\n",
       "      <th>1126</th>\n",
       "      <td>0.40084</td>\n",
       "      <td>3.3</td>\n",
       "      <td>9.4</td>\n",
       "      <td>46.0</td>\n",
       "    </tr>\n",
       "  </tbody>\n",
       "</table>\n",
       "<p>1041 rows × 4 columns</p>\n",
       "</div>"
      ],
      "text/plain": [
       "      Socioeconomic Score  Study Hours  Sleep Hours  Attendance (%)\n",
       "479               0.29793          3.8          8.5            74.0\n",
       "351               0.14741          8.2          6.1            90.0\n",
       "1192              0.79470          6.7          7.2            67.0\n",
       "135               0.31144          6.0          8.7            82.0\n",
       "567               0.62507          3.7          6.6            51.0\n",
       "...                   ...          ...          ...             ...\n",
       "1095              0.99183          5.3          7.7            57.0\n",
       "1130              0.59165          3.5          8.3            54.0\n",
       "1294              0.48080          5.8          8.6            51.0\n",
       "860               0.26835          4.4          6.6            63.0\n",
       "1126              0.40084          3.3          9.4            46.0\n",
       "\n",
       "[1041 rows x 4 columns]"
      ]
     },
     "execution_count": 21,
     "metadata": {},
     "output_type": "execute_result"
    }
   ],
   "source": [
    "X_train\n"
   ]
  },
  {
   "cell_type": "code",
   "execution_count": 22,
   "id": "9c0bd9c3",
   "metadata": {
    "execution": {
     "iopub.execute_input": "2025-06-27T12:47:34.110632Z",
     "iopub.status.busy": "2025-06-27T12:47:34.110284Z",
     "iopub.status.idle": "2025-06-27T12:47:34.117485Z",
     "shell.execute_reply": "2025-06-27T12:47:34.116625Z"
    },
    "papermill": {
     "duration": 0.021113,
     "end_time": "2025-06-27T12:47:34.119077",
     "exception": false,
     "start_time": "2025-06-27T12:47:34.097964",
     "status": "completed"
    },
    "tags": []
   },
   "outputs": [
    {
     "data": {
      "text/plain": [
       "479     35.0\n",
       "351     54.0\n",
       "1192    48.0\n",
       "135     42.0\n",
       "567     34.0\n",
       "        ... \n",
       "1095    63.0\n",
       "1130    33.0\n",
       "1294    41.0\n",
       "860     34.0\n",
       "1126    33.0\n",
       "Name: Grades, Length: 1041, dtype: float64"
      ]
     },
     "execution_count": 22,
     "metadata": {},
     "output_type": "execute_result"
    }
   ],
   "source": [
    "y_train\n"
   ]
  },
  {
   "cell_type": "code",
   "execution_count": 23,
   "id": "386ed1a2",
   "metadata": {
    "execution": {
     "iopub.execute_input": "2025-06-27T12:47:34.143702Z",
     "iopub.status.busy": "2025-06-27T12:47:34.142976Z",
     "iopub.status.idle": "2025-06-27T12:47:34.150032Z",
     "shell.execute_reply": "2025-06-27T12:47:34.149115Z"
    },
    "papermill": {
     "duration": 0.020921,
     "end_time": "2025-06-27T12:47:34.151519",
     "exception": false,
     "start_time": "2025-06-27T12:47:34.130598",
     "status": "completed"
    },
    "tags": []
   },
   "outputs": [
    {
     "name": "stdout",
     "output_type": "stream",
     "text": [
      "The model accuracy is  0.7402944220304374\n"
     ]
    }
   ],
   "source": [
    "print( f'The model accuracy is ',lr.score(X_test, y_test))"
   ]
  },
  {
   "cell_type": "code",
   "execution_count": 24,
   "id": "91062328",
   "metadata": {
    "execution": {
     "iopub.execute_input": "2025-06-27T12:47:34.175728Z",
     "iopub.status.busy": "2025-06-27T12:47:34.175415Z",
     "iopub.status.idle": "2025-06-27T12:47:34.180836Z",
     "shell.execute_reply": "2025-06-27T12:47:34.179982Z"
    },
    "papermill": {
     "duration": 0.019324,
     "end_time": "2025-06-27T12:47:34.182382",
     "exception": false,
     "start_time": "2025-06-27T12:47:34.163058",
     "status": "completed"
    },
    "tags": []
   },
   "outputs": [],
   "source": [
    "y_pred = lr.predict(X_test)\n"
   ]
  },
  {
   "cell_type": "code",
   "execution_count": 25,
   "id": "182b44fd",
   "metadata": {
    "execution": {
     "iopub.execute_input": "2025-06-27T12:47:34.207202Z",
     "iopub.status.busy": "2025-06-27T12:47:34.206569Z",
     "iopub.status.idle": "2025-06-27T12:47:34.212452Z",
     "shell.execute_reply": "2025-06-27T12:47:34.211669Z"
    },
    "papermill": {
     "duration": 0.019784,
     "end_time": "2025-06-27T12:47:34.213812",
     "exception": false,
     "start_time": "2025-06-27T12:47:34.194028",
     "status": "completed"
    },
    "tags": []
   },
   "outputs": [
    {
     "name": "stdout",
     "output_type": "stream",
     "text": [
      "19.33454527025313\n"
     ]
    }
   ],
   "source": [
    "print(mean_squared_error(y_test, y_pred))\n"
   ]
  },
  {
   "cell_type": "code",
   "execution_count": 26,
   "id": "081c11f8",
   "metadata": {
    "execution": {
     "iopub.execute_input": "2025-06-27T12:47:34.238304Z",
     "iopub.status.busy": "2025-06-27T12:47:34.237982Z",
     "iopub.status.idle": "2025-06-27T12:47:34.243402Z",
     "shell.execute_reply": "2025-06-27T12:47:34.242338Z"
    },
    "papermill": {
     "duration": 0.019451,
     "end_time": "2025-06-27T12:47:34.244919",
     "exception": false,
     "start_time": "2025-06-27T12:47:34.225468",
     "status": "completed"
    },
    "tags": []
   },
   "outputs": [
    {
     "name": "stdout",
     "output_type": "stream",
     "text": [
      "3.4042231490418366\n"
     ]
    }
   ],
   "source": [
    "print(mean_absolute_error(y_test, y_pred))\n"
   ]
  },
  {
   "cell_type": "code",
   "execution_count": 27,
   "id": "0e3df16e",
   "metadata": {
    "execution": {
     "iopub.execute_input": "2025-06-27T12:47:34.269908Z",
     "iopub.status.busy": "2025-06-27T12:47:34.269117Z",
     "iopub.status.idle": "2025-06-27T12:47:34.274825Z",
     "shell.execute_reply": "2025-06-27T12:47:34.273962Z"
    },
    "papermill": {
     "duration": 0.019529,
     "end_time": "2025-06-27T12:47:34.276213",
     "exception": false,
     "start_time": "2025-06-27T12:47:34.256684",
     "status": "completed"
    },
    "tags": []
   },
   "outputs": [
    {
     "name": "stdout",
     "output_type": "stream",
     "text": [
      "The model r2 score is  0.6620532529548768\n"
     ]
    }
   ],
   "source": [
    "r2 = r2_score(y_pred, y_test)\n",
    "print( f'The model r2 score is ',r2)"
   ]
  }
 ],
 "metadata": {
  "kaggle": {
   "accelerator": "none",
   "dataSources": [
    {
     "datasetId": 6378006,
     "sourceId": 10303802,
     "sourceType": "datasetVersion"
    }
   ],
   "dockerImageVersionId": 31040,
   "isGpuEnabled": false,
   "isInternetEnabled": true,
   "language": "python",
   "sourceType": "notebook"
  },
  "kernelspec": {
   "display_name": "Python 3",
   "language": "python",
   "name": "python3"
  },
  "language_info": {
   "codemirror_mode": {
    "name": "ipython",
    "version": 3
   },
   "file_extension": ".py",
   "mimetype": "text/x-python",
   "name": "python",
   "nbconvert_exporter": "python",
   "pygments_lexer": "ipython3",
   "version": "3.11.11"
  },
  "papermill": {
   "default_parameters": {},
   "duration": 11.662958,
   "end_time": "2025-06-27T12:47:35.008345",
   "environment_variables": {},
   "exception": null,
   "input_path": "__notebook__.ipynb",
   "output_path": "__notebook__.ipynb",
   "parameters": {},
   "start_time": "2025-06-27T12:47:23.345387",
   "version": "2.6.0"
  }
 },
 "nbformat": 4,
 "nbformat_minor": 5
}
